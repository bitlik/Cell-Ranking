{
 "cells": [
  {
   "cell_type": "markdown",
   "metadata": {},
   "source": [
    "This notebook is calculating the score of each cell using PCA across teh bands and finding top 10 good and bottom 10 bad cells across the bands"
   ]
  },
  {
   "cell_type": "code",
   "execution_count": 1,
   "metadata": {},
   "outputs": [],
   "source": [
    "import pandas as pd\n",
    "import numpy as np\n",
    "import os\n",
    "import operator\n",
    "pd.options.display.max_columns = None\n",
    "pd.options.display.max_rows = None\n",
    "pd.options.display.float_format = '{:20,.2f}'.format\n",
    "%matplotlib inline\n",
    "import datetime as dt\n",
    "import matplotlib.pyplot as plt\n",
    "from sklearn.preprocessing import StandardScaler\n",
    "from sklearn.decomposition import PCA"
   ]
  },
  {
   "cell_type": "code",
   "execution_count": 2,
   "metadata": {},
   "outputs": [],
   "source": [
    "df = pd.read_csv(r'C:\\Users\\ezchave\\Desktop\\New_data_rankprct\\KM_anon_cell_incidents_all.csv')\n",
    "df.date = pd.to_datetime(df.date)"
   ]
  },
  {
   "cell_type": "code",
   "execution_count": 3,
   "metadata": {},
   "outputs": [
    {
     "name": "stdout",
     "output_type": "stream",
     "text": [
      "<class 'pandas.core.frame.DataFrame'>\n",
      "RangeIndex: 2458082 entries, 0 to 2458081\n",
      "Data columns (total 31 columns):\n",
      "date                                                     datetime64[ns]\n",
      "ACCESS_FAILURE_CC_503.1.223._VOLTE_IMS                   int64\n",
      "CALL_SETUP_DELAY_VOLTE_IMS                               int64\n",
      "DROP_CC_408_VOLTE_IMS                                    int64\n",
      "DROP_CC_481_VOLTE_IMS                                    int64\n",
      "DROP_CC_503_VOLTE_IMS                                    int64\n",
      "DROP_CC_OTHER_VOLTE_IMS                                  int64\n",
      "DROP_SRVCC_TERMINATE_VOLTE_IMS                           int64\n",
      "GARBLING_VOLTE_VOICE                                     int64\n",
      "IMMEDIATE_VOLUNTARY_DROP_DUE_TO_MEDIA_STOP_VOLTE         int64\n",
      "MUTING_VOLTE_VOICE                                       int64\n",
      "SOFT_DROP_DUE_TO_MEDIA_STOP_VOLTE_IMS                    int64\n",
      "sum                                                      int64\n",
      "call_count                                               int64\n",
      "est_count_handover                                       int64\n",
      "sum_drop_cc_503_481                                      float64\n",
      "GARBLING_VOLTE_VOICE_norm                                float64\n",
      "MUTING_VOLTE_VOICE_norm                                  float64\n",
      "DROP_CC_481_VOLTE_IMS_norm                               float64\n",
      "CALL_SETUP_DELAY_VOLTE_IMS_norm                          float64\n",
      "SOFT_DROP_DUE_TO_MEDIA_STOP_VOLTE_IMS_norm               float64\n",
      "ACCESS_FAILURE_CC_503.1.223._VOLTE_IMS_norm              float64\n",
      "DROP_CC_503_VOLTE_IMS_norm                               float64\n",
      "DROP_CC_OTHER_VOLTE_IMS_norm                             float64\n",
      "DROP_CC_408_VOLTE_IMS_norm                               float64\n",
      "IMMEDIATE_VOLUNTARY_DROP_DUE_TO_MEDIA_STOP_VOLTE_norm    float64\n",
      "DROP_SRVCC_TERMINATE_VOLTE_IMS_norm                      float64\n",
      "sum_norm                                                 float64\n",
      "band                                                     object\n",
      "start_date                                               object\n",
      "cell_name_anon                                           object\n",
      "dtypes: datetime64[ns](1), float64(13), int64(14), object(3)\n",
      "memory usage: 581.4+ MB\n"
     ]
    }
   ],
   "source": [
    "df.info()"
   ]
  },
  {
   "cell_type": "code",
   "execution_count": 4,
   "metadata": {},
   "outputs": [],
   "source": [
    "# separate band 2100 cells\n",
    "df_band2100=df[df.band==\"band2100\"]"
   ]
  },
  {
   "cell_type": "code",
   "execution_count": 5,
   "metadata": {},
   "outputs": [],
   "source": [
    "# reset row indexes\n",
    "df_band2100=df_band2100.reset_index(drop=True)"
   ]
  },
  {
   "cell_type": "code",
   "execution_count": 6,
   "metadata": {},
   "outputs": [
    {
     "data": {
      "text/plain": [
       "(1094129, 31)"
      ]
     },
     "execution_count": 6,
     "metadata": {},
     "output_type": "execute_result"
    }
   ],
   "source": [
    "df_band2100.shape"
   ]
  },
  {
   "cell_type": "code",
   "execution_count": 7,
   "metadata": {},
   "outputs": [
    {
     "data": {
      "text/plain": [
       "band2100    1094129\n",
       "Name: band, dtype: int64"
      ]
     },
     "execution_count": 7,
     "metadata": {},
     "output_type": "execute_result"
    }
   ],
   "source": [
    "df_band2100['band'].value_counts()"
   ]
  },
  {
   "cell_type": "code",
   "execution_count": 8,
   "metadata": {},
   "outputs": [
    {
     "data": {
      "text/plain": [
       "4055"
      ]
     },
     "execution_count": 8,
     "metadata": {},
     "output_type": "execute_result"
    }
   ],
   "source": [
    "# how many unique cells are there of band 2100\n",
    "df_band2100['cell_name_anon'].nunique()"
   ]
  },
  {
   "cell_type": "code",
   "execution_count": 9,
   "metadata": {},
   "outputs": [
    {
     "data": {
      "text/plain": [
       "array(['cell-5073', 'cell-5074', 'cell-5075', ..., 'cell-9115',\n",
       "       'cell-9116', 'cell-9117'], dtype=object)"
      ]
     },
     "execution_count": 9,
     "metadata": {},
     "output_type": "execute_result"
    }
   ],
   "source": [
    "# get unique cells \n",
    "df_band2100['cell_name_anon'].unique()"
   ]
  },
  {
   "cell_type": "code",
   "execution_count": 10,
   "metadata": {},
   "outputs": [],
   "source": [
    "# transfer the start_date to date format \n",
    "df_band2100.start_date = pd.to_datetime(df_band2100.start_date) "
   ]
  },
  {
   "cell_type": "code",
   "execution_count": 11,
   "metadata": {},
   "outputs": [
    {
     "name": "stdout",
     "output_type": "stream",
     "text": [
      "<class 'pandas.core.frame.DataFrame'>\n",
      "RangeIndex: 1094129 entries, 0 to 1094128\n",
      "Data columns (total 31 columns):\n",
      "date                                                     1094129 non-null datetime64[ns]\n",
      "ACCESS_FAILURE_CC_503.1.223._VOLTE_IMS                   1094129 non-null int64\n",
      "CALL_SETUP_DELAY_VOLTE_IMS                               1094129 non-null int64\n",
      "DROP_CC_408_VOLTE_IMS                                    1094129 non-null int64\n",
      "DROP_CC_481_VOLTE_IMS                                    1094129 non-null int64\n",
      "DROP_CC_503_VOLTE_IMS                                    1094129 non-null int64\n",
      "DROP_CC_OTHER_VOLTE_IMS                                  1094129 non-null int64\n",
      "DROP_SRVCC_TERMINATE_VOLTE_IMS                           1094129 non-null int64\n",
      "GARBLING_VOLTE_VOICE                                     1094129 non-null int64\n",
      "IMMEDIATE_VOLUNTARY_DROP_DUE_TO_MEDIA_STOP_VOLTE         1094129 non-null int64\n",
      "MUTING_VOLTE_VOICE                                       1094129 non-null int64\n",
      "SOFT_DROP_DUE_TO_MEDIA_STOP_VOLTE_IMS                    1094129 non-null int64\n",
      "sum                                                      1094129 non-null int64\n",
      "call_count                                               1094129 non-null int64\n",
      "est_count_handover                                       1094129 non-null int64\n",
      "sum_drop_cc_503_481                                      1094129 non-null float64\n",
      "GARBLING_VOLTE_VOICE_norm                                1094129 non-null float64\n",
      "MUTING_VOLTE_VOICE_norm                                  1094129 non-null float64\n",
      "DROP_CC_481_VOLTE_IMS_norm                               1094129 non-null float64\n",
      "CALL_SETUP_DELAY_VOLTE_IMS_norm                          1094129 non-null float64\n",
      "SOFT_DROP_DUE_TO_MEDIA_STOP_VOLTE_IMS_norm               1094129 non-null float64\n",
      "ACCESS_FAILURE_CC_503.1.223._VOLTE_IMS_norm              1094129 non-null float64\n",
      "DROP_CC_503_VOLTE_IMS_norm                               1094129 non-null float64\n",
      "DROP_CC_OTHER_VOLTE_IMS_norm                             1094129 non-null float64\n",
      "DROP_CC_408_VOLTE_IMS_norm                               1094129 non-null float64\n",
      "IMMEDIATE_VOLUNTARY_DROP_DUE_TO_MEDIA_STOP_VOLTE_norm    1094129 non-null float64\n",
      "DROP_SRVCC_TERMINATE_VOLTE_IMS_norm                      1094129 non-null float64\n",
      "sum_norm                                                 1094129 non-null float64\n",
      "band                                                     1094129 non-null object\n",
      "start_date                                               1094129 non-null datetime64[ns]\n",
      "cell_name_anon                                           1094129 non-null object\n",
      "dtypes: datetime64[ns](2), float64(13), int64(14), object(2)\n",
      "memory usage: 258.8+ MB\n"
     ]
    }
   ],
   "source": [
    "# and sort the data by cell_name_anon and date \n",
    "df_band2100.info()"
   ]
  },
  {
   "cell_type": "code",
   "execution_count": 12,
   "metadata": {},
   "outputs": [],
   "source": [
    "df_band2100.sort_values(by=['cell_name_anon', 'date'],inplace=True)"
   ]
  },
  {
   "cell_type": "code",
   "execution_count": 13,
   "metadata": {},
   "outputs": [
    {
     "name": "stdout",
     "output_type": "stream",
     "text": [
      "2019-05-26 00:00:00\n",
      "2018-08-01 00:00:00\n"
     ]
    }
   ],
   "source": [
    "print(df_band2100['date'].max()); print(df_band2100['date'].min())"
   ]
  },
  {
   "cell_type": "code",
   "execution_count": 14,
   "metadata": {},
   "outputs": [
    {
     "name": "stdout",
     "output_type": "stream",
     "text": [
      "['2018-08-01T00:00:00.000000000' '2018-08-02T00:00:00.000000000'\n",
      " '2018-08-03T00:00:00.000000000' '2018-08-04T00:00:00.000000000'\n",
      " '2018-08-05T00:00:00.000000000' '2018-08-06T00:00:00.000000000'\n",
      " '2018-08-07T00:00:00.000000000' '2018-08-08T00:00:00.000000000'\n",
      " '2018-08-09T00:00:00.000000000' '2018-08-10T00:00:00.000000000'\n",
      " '2018-08-11T00:00:00.000000000' '2018-08-12T00:00:00.000000000'\n",
      " '2018-08-13T00:00:00.000000000' '2018-08-14T00:00:00.000000000'\n",
      " '2018-08-15T00:00:00.000000000' '2018-08-16T00:00:00.000000000'\n",
      " '2018-08-17T00:00:00.000000000' '2018-08-18T00:00:00.000000000'\n",
      " '2018-08-19T00:00:00.000000000' '2018-08-20T00:00:00.000000000'\n",
      " '2018-08-21T00:00:00.000000000' '2018-08-22T00:00:00.000000000'\n",
      " '2018-08-23T00:00:00.000000000' '2018-08-24T00:00:00.000000000'\n",
      " '2018-08-25T00:00:00.000000000' '2018-08-26T00:00:00.000000000'\n",
      " '2018-08-27T00:00:00.000000000' '2018-08-28T00:00:00.000000000'\n",
      " '2018-08-29T00:00:00.000000000' '2018-08-30T00:00:00.000000000'\n",
      " '2018-08-31T00:00:00.000000000' '2018-09-01T00:00:00.000000000'\n",
      " '2018-09-02T00:00:00.000000000' '2018-09-03T00:00:00.000000000'\n",
      " '2018-09-04T00:00:00.000000000' '2018-09-05T00:00:00.000000000'\n",
      " '2018-09-06T00:00:00.000000000' '2018-09-07T00:00:00.000000000'\n",
      " '2018-09-09T00:00:00.000000000' '2018-09-10T00:00:00.000000000'\n",
      " '2018-09-11T00:00:00.000000000' '2018-09-12T00:00:00.000000000'\n",
      " '2018-09-13T00:00:00.000000000' '2018-09-14T00:00:00.000000000'\n",
      " '2018-09-15T00:00:00.000000000' '2018-09-16T00:00:00.000000000'\n",
      " '2018-09-17T00:00:00.000000000' '2018-09-18T00:00:00.000000000'\n",
      " '2018-09-19T00:00:00.000000000' '2018-09-20T00:00:00.000000000'\n",
      " '2018-09-21T00:00:00.000000000' '2018-09-22T00:00:00.000000000'\n",
      " '2018-09-23T00:00:00.000000000' '2018-09-24T00:00:00.000000000'\n",
      " '2018-09-25T00:00:00.000000000' '2018-09-26T00:00:00.000000000'\n",
      " '2018-09-27T00:00:00.000000000' '2018-09-28T00:00:00.000000000'\n",
      " '2018-09-29T00:00:00.000000000' '2018-09-30T00:00:00.000000000'\n",
      " '2018-10-01T00:00:00.000000000' '2018-10-02T00:00:00.000000000'\n",
      " '2018-10-03T00:00:00.000000000' '2018-10-04T00:00:00.000000000'\n",
      " '2018-10-05T00:00:00.000000000' '2018-10-06T00:00:00.000000000'\n",
      " '2018-10-07T00:00:00.000000000' '2018-10-08T00:00:00.000000000'\n",
      " '2018-10-09T00:00:00.000000000' '2018-10-10T00:00:00.000000000'\n",
      " '2018-10-11T00:00:00.000000000' '2018-10-12T00:00:00.000000000'\n",
      " '2018-10-13T00:00:00.000000000' '2018-10-14T00:00:00.000000000'\n",
      " '2018-10-15T00:00:00.000000000' '2018-10-16T00:00:00.000000000'\n",
      " '2018-10-17T00:00:00.000000000' '2018-10-18T00:00:00.000000000'\n",
      " '2018-10-19T00:00:00.000000000' '2018-10-20T00:00:00.000000000'\n",
      " '2018-10-21T00:00:00.000000000' '2018-10-22T00:00:00.000000000'\n",
      " '2018-10-23T00:00:00.000000000' '2018-10-24T00:00:00.000000000'\n",
      " '2018-10-25T00:00:00.000000000' '2018-10-26T00:00:00.000000000'\n",
      " '2018-10-27T00:00:00.000000000' '2018-10-28T00:00:00.000000000'\n",
      " '2018-11-01T00:00:00.000000000' '2018-11-02T00:00:00.000000000'\n",
      " '2018-11-03T00:00:00.000000000' '2018-11-04T00:00:00.000000000'\n",
      " '2018-11-05T00:00:00.000000000' '2018-11-06T00:00:00.000000000'\n",
      " '2018-11-07T00:00:00.000000000' '2018-11-08T00:00:00.000000000'\n",
      " '2018-11-09T00:00:00.000000000' '2018-11-10T00:00:00.000000000'\n",
      " '2018-11-11T00:00:00.000000000' '2018-11-12T00:00:00.000000000'\n",
      " '2018-11-13T00:00:00.000000000' '2018-11-14T00:00:00.000000000'\n",
      " '2018-11-15T00:00:00.000000000' '2018-11-16T00:00:00.000000000'\n",
      " '2018-11-17T00:00:00.000000000' '2018-11-18T00:00:00.000000000'\n",
      " '2018-11-19T00:00:00.000000000' '2018-11-20T00:00:00.000000000'\n",
      " '2018-11-21T00:00:00.000000000' '2018-11-22T00:00:00.000000000'\n",
      " '2018-11-23T00:00:00.000000000' '2018-11-24T00:00:00.000000000'\n",
      " '2018-11-25T00:00:00.000000000' '2018-11-26T00:00:00.000000000'\n",
      " '2018-11-27T00:00:00.000000000' '2018-11-29T00:00:00.000000000'\n",
      " '2018-11-30T00:00:00.000000000' '2018-12-01T00:00:00.000000000'\n",
      " '2018-12-02T00:00:00.000000000' '2018-12-03T00:00:00.000000000'\n",
      " '2018-12-04T00:00:00.000000000' '2018-12-05T00:00:00.000000000'\n",
      " '2018-12-06T00:00:00.000000000' '2018-12-07T00:00:00.000000000'\n",
      " '2018-12-08T00:00:00.000000000' '2018-12-09T00:00:00.000000000'\n",
      " '2018-12-10T00:00:00.000000000' '2018-12-11T00:00:00.000000000'\n",
      " '2018-12-12T00:00:00.000000000' '2018-12-13T00:00:00.000000000'\n",
      " '2018-12-14T00:00:00.000000000' '2018-12-15T00:00:00.000000000'\n",
      " '2018-12-16T00:00:00.000000000' '2018-12-17T00:00:00.000000000'\n",
      " '2018-12-18T00:00:00.000000000' '2018-12-19T00:00:00.000000000'\n",
      " '2018-12-20T00:00:00.000000000' '2018-12-21T00:00:00.000000000'\n",
      " '2018-12-23T00:00:00.000000000' '2018-12-24T00:00:00.000000000'\n",
      " '2018-12-25T00:00:00.000000000' '2018-12-26T00:00:00.000000000'\n",
      " '2018-12-27T00:00:00.000000000' '2018-12-28T00:00:00.000000000'\n",
      " '2018-12-29T00:00:00.000000000' '2018-12-30T00:00:00.000000000'\n",
      " '2018-12-31T00:00:00.000000000' '2019-01-01T00:00:00.000000000'\n",
      " '2019-01-02T00:00:00.000000000' '2019-01-03T00:00:00.000000000'\n",
      " '2019-01-04T00:00:00.000000000' '2019-01-05T00:00:00.000000000'\n",
      " '2019-01-06T00:00:00.000000000' '2019-01-07T00:00:00.000000000'\n",
      " '2019-01-08T00:00:00.000000000' '2019-01-09T00:00:00.000000000'\n",
      " '2019-01-10T00:00:00.000000000' '2019-01-11T00:00:00.000000000'\n",
      " '2019-01-12T00:00:00.000000000' '2019-01-13T00:00:00.000000000'\n",
      " '2019-01-14T00:00:00.000000000' '2019-01-15T00:00:00.000000000'\n",
      " '2019-01-16T00:00:00.000000000' '2019-01-23T00:00:00.000000000'\n",
      " '2019-01-24T00:00:00.000000000' '2019-01-25T00:00:00.000000000'\n",
      " '2019-01-27T00:00:00.000000000' '2019-01-28T00:00:00.000000000'\n",
      " '2019-01-29T00:00:00.000000000' '2019-01-30T00:00:00.000000000'\n",
      " '2019-01-31T00:00:00.000000000' '2019-02-01T00:00:00.000000000'\n",
      " '2019-02-02T00:00:00.000000000' '2019-02-03T00:00:00.000000000'\n",
      " '2019-02-04T00:00:00.000000000' '2019-02-05T00:00:00.000000000'\n",
      " '2019-02-06T00:00:00.000000000' '2019-02-07T00:00:00.000000000'\n",
      " '2019-02-08T00:00:00.000000000' '2019-02-11T00:00:00.000000000'\n",
      " '2019-02-12T00:00:00.000000000' '2019-02-13T00:00:00.000000000'\n",
      " '2019-02-14T00:00:00.000000000' '2019-02-15T00:00:00.000000000'\n",
      " '2019-02-16T00:00:00.000000000' '2019-02-18T00:00:00.000000000'\n",
      " '2019-02-19T00:00:00.000000000' '2019-03-01T00:00:00.000000000'\n",
      " '2019-03-02T00:00:00.000000000' '2019-03-03T00:00:00.000000000'\n",
      " '2019-03-04T00:00:00.000000000' '2019-03-05T00:00:00.000000000'\n",
      " '2019-03-06T00:00:00.000000000' '2019-03-07T00:00:00.000000000'\n",
      " '2019-03-08T00:00:00.000000000' '2019-03-09T00:00:00.000000000'\n",
      " '2019-03-10T00:00:00.000000000' '2019-03-11T00:00:00.000000000'\n",
      " '2019-03-12T00:00:00.000000000' '2019-03-13T00:00:00.000000000'\n",
      " '2019-03-14T00:00:00.000000000' '2019-03-15T00:00:00.000000000'\n",
      " '2019-03-16T00:00:00.000000000' '2019-03-17T00:00:00.000000000'\n",
      " '2019-03-18T00:00:00.000000000' '2019-03-19T00:00:00.000000000'\n",
      " '2019-03-20T00:00:00.000000000' '2019-03-21T00:00:00.000000000'\n",
      " '2019-03-22T00:00:00.000000000' '2019-03-24T00:00:00.000000000'\n",
      " '2019-03-25T00:00:00.000000000' '2019-03-26T00:00:00.000000000'\n",
      " '2019-03-27T00:00:00.000000000' '2019-03-28T00:00:00.000000000'\n",
      " '2019-03-29T00:00:00.000000000' '2019-03-30T00:00:00.000000000'\n",
      " '2019-03-31T00:00:00.000000000' '2019-04-01T00:00:00.000000000'\n",
      " '2019-04-02T00:00:00.000000000' '2019-04-03T00:00:00.000000000'\n",
      " '2019-04-04T00:00:00.000000000' '2019-04-05T00:00:00.000000000'\n",
      " '2019-04-06T00:00:00.000000000' '2019-04-07T00:00:00.000000000'\n",
      " '2019-04-08T00:00:00.000000000' '2019-04-09T00:00:00.000000000'\n",
      " '2019-04-10T00:00:00.000000000' '2019-04-11T00:00:00.000000000'\n",
      " '2019-04-12T00:00:00.000000000' '2019-04-13T00:00:00.000000000'\n",
      " '2019-04-14T00:00:00.000000000' '2019-04-15T00:00:00.000000000'\n",
      " '2019-04-16T00:00:00.000000000' '2019-04-17T00:00:00.000000000'\n",
      " '2019-04-18T00:00:00.000000000' '2019-04-19T00:00:00.000000000'\n",
      " '2019-04-20T00:00:00.000000000' '2019-04-21T00:00:00.000000000'\n",
      " '2019-04-22T00:00:00.000000000' '2019-04-23T00:00:00.000000000'\n",
      " '2019-04-24T00:00:00.000000000' '2019-04-25T00:00:00.000000000'\n",
      " '2019-04-26T00:00:00.000000000' '2019-04-27T00:00:00.000000000'\n",
      " '2019-04-28T00:00:00.000000000' '2019-04-29T00:00:00.000000000'\n",
      " '2019-04-30T00:00:00.000000000' '2019-05-01T00:00:00.000000000'\n",
      " '2019-05-02T00:00:00.000000000' '2019-05-03T00:00:00.000000000'\n",
      " '2019-05-04T00:00:00.000000000' '2019-05-09T00:00:00.000000000'\n",
      " '2019-05-10T00:00:00.000000000' '2019-05-11T00:00:00.000000000'\n",
      " '2019-05-12T00:00:00.000000000' '2019-05-13T00:00:00.000000000'\n",
      " '2019-05-14T00:00:00.000000000' '2019-05-15T00:00:00.000000000'\n",
      " '2019-05-16T00:00:00.000000000' '2019-05-17T00:00:00.000000000'\n",
      " '2019-05-18T00:00:00.000000000' '2019-05-19T00:00:00.000000000'\n",
      " '2019-05-20T00:00:00.000000000' '2019-05-21T00:00:00.000000000'\n",
      " '2019-05-22T00:00:00.000000000' '2019-05-23T00:00:00.000000000'\n",
      " '2019-05-24T00:00:00.000000000' '2019-05-25T00:00:00.000000000'\n",
      " '2019-05-26T00:00:00.000000000']\n"
     ]
    }
   ],
   "source": [
    "# Print the list of dates from teh column \"date\" so that we know what dates are missing from starting to end \n",
    "date_list=df_band2100['date'].unique()\n",
    "print(date_list)"
   ]
  },
  {
   "cell_type": "markdown",
   "metadata": {},
   "source": [
    "# We have data from 01-08-2018 till 26-05-2019, "
   ]
  },
  {
   "cell_type": "code",
   "execution_count": 15,
   "metadata": {},
   "outputs": [
    {
     "data": {
      "text/html": [
       "<div>\n",
       "<style scoped>\n",
       "    .dataframe tbody tr th:only-of-type {\n",
       "        vertical-align: middle;\n",
       "    }\n",
       "\n",
       "    .dataframe tbody tr th {\n",
       "        vertical-align: top;\n",
       "    }\n",
       "\n",
       "    .dataframe thead th {\n",
       "        text-align: right;\n",
       "    }\n",
       "</style>\n",
       "<table border=\"1\" class=\"dataframe\">\n",
       "  <thead>\n",
       "    <tr style=\"text-align: right;\">\n",
       "      <th></th>\n",
       "      <th>date</th>\n",
       "      <th>ACCESS_FAILURE_CC_503.1.223._VOLTE_IMS</th>\n",
       "      <th>CALL_SETUP_DELAY_VOLTE_IMS</th>\n",
       "      <th>DROP_CC_408_VOLTE_IMS</th>\n",
       "      <th>DROP_CC_481_VOLTE_IMS</th>\n",
       "      <th>DROP_CC_503_VOLTE_IMS</th>\n",
       "      <th>DROP_CC_OTHER_VOLTE_IMS</th>\n",
       "      <th>DROP_SRVCC_TERMINATE_VOLTE_IMS</th>\n",
       "      <th>GARBLING_VOLTE_VOICE</th>\n",
       "      <th>IMMEDIATE_VOLUNTARY_DROP_DUE_TO_MEDIA_STOP_VOLTE</th>\n",
       "      <th>MUTING_VOLTE_VOICE</th>\n",
       "      <th>SOFT_DROP_DUE_TO_MEDIA_STOP_VOLTE_IMS</th>\n",
       "      <th>sum</th>\n",
       "      <th>call_count</th>\n",
       "      <th>est_count_handover</th>\n",
       "      <th>sum_drop_cc_503_481</th>\n",
       "      <th>GARBLING_VOLTE_VOICE_norm</th>\n",
       "      <th>MUTING_VOLTE_VOICE_norm</th>\n",
       "      <th>DROP_CC_481_VOLTE_IMS_norm</th>\n",
       "      <th>CALL_SETUP_DELAY_VOLTE_IMS_norm</th>\n",
       "      <th>SOFT_DROP_DUE_TO_MEDIA_STOP_VOLTE_IMS_norm</th>\n",
       "      <th>ACCESS_FAILURE_CC_503.1.223._VOLTE_IMS_norm</th>\n",
       "      <th>DROP_CC_503_VOLTE_IMS_norm</th>\n",
       "      <th>DROP_CC_OTHER_VOLTE_IMS_norm</th>\n",
       "      <th>DROP_CC_408_VOLTE_IMS_norm</th>\n",
       "      <th>IMMEDIATE_VOLUNTARY_DROP_DUE_TO_MEDIA_STOP_VOLTE_norm</th>\n",
       "      <th>DROP_SRVCC_TERMINATE_VOLTE_IMS_norm</th>\n",
       "      <th>sum_norm</th>\n",
       "      <th>band</th>\n",
       "      <th>start_date</th>\n",
       "      <th>cell_name_anon</th>\n",
       "    </tr>\n",
       "  </thead>\n",
       "  <tbody>\n",
       "    <tr>\n",
       "      <th>35</th>\n",
       "      <td>2018-08-01</td>\n",
       "      <td>2</td>\n",
       "      <td>2</td>\n",
       "      <td>4</td>\n",
       "      <td>3</td>\n",
       "      <td>4</td>\n",
       "      <td>0</td>\n",
       "      <td>0</td>\n",
       "      <td>226</td>\n",
       "      <td>0</td>\n",
       "      <td>41</td>\n",
       "      <td>2</td>\n",
       "      <td>284</td>\n",
       "      <td>1321</td>\n",
       "      <td>261</td>\n",
       "      <td>0.01</td>\n",
       "      <td>0.17</td>\n",
       "      <td>0.03</td>\n",
       "      <td>0.00</td>\n",
       "      <td>0.00</td>\n",
       "      <td>0.00</td>\n",
       "      <td>0.00</td>\n",
       "      <td>0.00</td>\n",
       "      <td>0.00</td>\n",
       "      <td>0.00</td>\n",
       "      <td>0.00</td>\n",
       "      <td>0.00</td>\n",
       "      <td>0.21</td>\n",
       "      <td>band2100</td>\n",
       "      <td>2018-08-01</td>\n",
       "      <td>cell-5073</td>\n",
       "    </tr>\n",
       "    <tr>\n",
       "      <th>107</th>\n",
       "      <td>2018-08-02</td>\n",
       "      <td>4</td>\n",
       "      <td>7</td>\n",
       "      <td>0</td>\n",
       "      <td>8</td>\n",
       "      <td>0</td>\n",
       "      <td>2</td>\n",
       "      <td>0</td>\n",
       "      <td>230</td>\n",
       "      <td>0</td>\n",
       "      <td>33</td>\n",
       "      <td>5</td>\n",
       "      <td>289</td>\n",
       "      <td>1227</td>\n",
       "      <td>231</td>\n",
       "      <td>0.01</td>\n",
       "      <td>0.19</td>\n",
       "      <td>0.03</td>\n",
       "      <td>0.01</td>\n",
       "      <td>0.01</td>\n",
       "      <td>0.00</td>\n",
       "      <td>0.00</td>\n",
       "      <td>0.00</td>\n",
       "      <td>0.00</td>\n",
       "      <td>0.00</td>\n",
       "      <td>0.00</td>\n",
       "      <td>0.00</td>\n",
       "      <td>0.24</td>\n",
       "      <td>band2100</td>\n",
       "      <td>2018-08-02</td>\n",
       "      <td>cell-5073</td>\n",
       "    </tr>\n",
       "    <tr>\n",
       "      <th>123</th>\n",
       "      <td>2018-08-03</td>\n",
       "      <td>7</td>\n",
       "      <td>17</td>\n",
       "      <td>0</td>\n",
       "      <td>9</td>\n",
       "      <td>1</td>\n",
       "      <td>0</td>\n",
       "      <td>0</td>\n",
       "      <td>245</td>\n",
       "      <td>0</td>\n",
       "      <td>46</td>\n",
       "      <td>5</td>\n",
       "      <td>330</td>\n",
       "      <td>1191</td>\n",
       "      <td>285</td>\n",
       "      <td>0.01</td>\n",
       "      <td>0.21</td>\n",
       "      <td>0.04</td>\n",
       "      <td>0.01</td>\n",
       "      <td>0.01</td>\n",
       "      <td>0.00</td>\n",
       "      <td>0.01</td>\n",
       "      <td>0.00</td>\n",
       "      <td>0.00</td>\n",
       "      <td>0.00</td>\n",
       "      <td>0.00</td>\n",
       "      <td>0.00</td>\n",
       "      <td>0.28</td>\n",
       "      <td>band2100</td>\n",
       "      <td>2018-08-03</td>\n",
       "      <td>cell-5073</td>\n",
       "    </tr>\n",
       "    <tr>\n",
       "      <th>36</th>\n",
       "      <td>2018-08-04</td>\n",
       "      <td>8</td>\n",
       "      <td>2</td>\n",
       "      <td>0</td>\n",
       "      <td>4</td>\n",
       "      <td>2</td>\n",
       "      <td>0</td>\n",
       "      <td>0</td>\n",
       "      <td>123</td>\n",
       "      <td>0</td>\n",
       "      <td>12</td>\n",
       "      <td>0</td>\n",
       "      <td>151</td>\n",
       "      <td>594</td>\n",
       "      <td>151</td>\n",
       "      <td>0.01</td>\n",
       "      <td>0.21</td>\n",
       "      <td>0.02</td>\n",
       "      <td>0.01</td>\n",
       "      <td>0.00</td>\n",
       "      <td>0.00</td>\n",
       "      <td>0.01</td>\n",
       "      <td>0.00</td>\n",
       "      <td>0.00</td>\n",
       "      <td>0.00</td>\n",
       "      <td>0.00</td>\n",
       "      <td>0.00</td>\n",
       "      <td>0.25</td>\n",
       "      <td>band2100</td>\n",
       "      <td>2018-08-04</td>\n",
       "      <td>cell-5073</td>\n",
       "    </tr>\n",
       "    <tr>\n",
       "      <th>16</th>\n",
       "      <td>2018-08-05</td>\n",
       "      <td>4</td>\n",
       "      <td>6</td>\n",
       "      <td>0</td>\n",
       "      <td>3</td>\n",
       "      <td>2</td>\n",
       "      <td>1</td>\n",
       "      <td>0</td>\n",
       "      <td>149</td>\n",
       "      <td>0</td>\n",
       "      <td>27</td>\n",
       "      <td>0</td>\n",
       "      <td>192</td>\n",
       "      <td>675</td>\n",
       "      <td>148</td>\n",
       "      <td>0.01</td>\n",
       "      <td>0.22</td>\n",
       "      <td>0.04</td>\n",
       "      <td>0.00</td>\n",
       "      <td>0.01</td>\n",
       "      <td>0.00</td>\n",
       "      <td>0.01</td>\n",
       "      <td>0.00</td>\n",
       "      <td>0.00</td>\n",
       "      <td>0.00</td>\n",
       "      <td>0.00</td>\n",
       "      <td>0.00</td>\n",
       "      <td>0.28</td>\n",
       "      <td>band2100</td>\n",
       "      <td>2018-08-05</td>\n",
       "      <td>cell-5073</td>\n",
       "    </tr>\n",
       "  </tbody>\n",
       "</table>\n",
       "</div>"
      ],
      "text/plain": [
       "          date  ACCESS_FAILURE_CC_503.1.223._VOLTE_IMS  \\\n",
       "35  2018-08-01                                       2   \n",
       "107 2018-08-02                                       4   \n",
       "123 2018-08-03                                       7   \n",
       "36  2018-08-04                                       8   \n",
       "16  2018-08-05                                       4   \n",
       "\n",
       "     CALL_SETUP_DELAY_VOLTE_IMS  DROP_CC_408_VOLTE_IMS  DROP_CC_481_VOLTE_IMS  \\\n",
       "35                            2                      4                      3   \n",
       "107                           7                      0                      8   \n",
       "123                          17                      0                      9   \n",
       "36                            2                      0                      4   \n",
       "16                            6                      0                      3   \n",
       "\n",
       "     DROP_CC_503_VOLTE_IMS  DROP_CC_OTHER_VOLTE_IMS  \\\n",
       "35                       4                        0   \n",
       "107                      0                        2   \n",
       "123                      1                        0   \n",
       "36                       2                        0   \n",
       "16                       2                        1   \n",
       "\n",
       "     DROP_SRVCC_TERMINATE_VOLTE_IMS  GARBLING_VOLTE_VOICE  \\\n",
       "35                                0                   226   \n",
       "107                               0                   230   \n",
       "123                               0                   245   \n",
       "36                                0                   123   \n",
       "16                                0                   149   \n",
       "\n",
       "     IMMEDIATE_VOLUNTARY_DROP_DUE_TO_MEDIA_STOP_VOLTE  MUTING_VOLTE_VOICE  \\\n",
       "35                                                  0                  41   \n",
       "107                                                 0                  33   \n",
       "123                                                 0                  46   \n",
       "36                                                  0                  12   \n",
       "16                                                  0                  27   \n",
       "\n",
       "     SOFT_DROP_DUE_TO_MEDIA_STOP_VOLTE_IMS  sum  call_count  \\\n",
       "35                                       2  284        1321   \n",
       "107                                      5  289        1227   \n",
       "123                                      5  330        1191   \n",
       "36                                       0  151         594   \n",
       "16                                       0  192         675   \n",
       "\n",
       "     est_count_handover  sum_drop_cc_503_481  GARBLING_VOLTE_VOICE_norm  \\\n",
       "35                  261                 0.01                       0.17   \n",
       "107                 231                 0.01                       0.19   \n",
       "123                 285                 0.01                       0.21   \n",
       "36                  151                 0.01                       0.21   \n",
       "16                  148                 0.01                       0.22   \n",
       "\n",
       "     MUTING_VOLTE_VOICE_norm  DROP_CC_481_VOLTE_IMS_norm  \\\n",
       "35                      0.03                        0.00   \n",
       "107                     0.03                        0.01   \n",
       "123                     0.04                        0.01   \n",
       "36                      0.02                        0.01   \n",
       "16                      0.04                        0.00   \n",
       "\n",
       "     CALL_SETUP_DELAY_VOLTE_IMS_norm  \\\n",
       "35                              0.00   \n",
       "107                             0.01   \n",
       "123                             0.01   \n",
       "36                              0.00   \n",
       "16                              0.01   \n",
       "\n",
       "     SOFT_DROP_DUE_TO_MEDIA_STOP_VOLTE_IMS_norm  \\\n",
       "35                                         0.00   \n",
       "107                                        0.00   \n",
       "123                                        0.00   \n",
       "36                                         0.00   \n",
       "16                                         0.00   \n",
       "\n",
       "     ACCESS_FAILURE_CC_503.1.223._VOLTE_IMS_norm  DROP_CC_503_VOLTE_IMS_norm  \\\n",
       "35                                          0.00                        0.00   \n",
       "107                                         0.00                        0.00   \n",
       "123                                         0.01                        0.00   \n",
       "36                                          0.01                        0.00   \n",
       "16                                          0.01                        0.00   \n",
       "\n",
       "     DROP_CC_OTHER_VOLTE_IMS_norm  DROP_CC_408_VOLTE_IMS_norm  \\\n",
       "35                           0.00                        0.00   \n",
       "107                          0.00                        0.00   \n",
       "123                          0.00                        0.00   \n",
       "36                           0.00                        0.00   \n",
       "16                           0.00                        0.00   \n",
       "\n",
       "     IMMEDIATE_VOLUNTARY_DROP_DUE_TO_MEDIA_STOP_VOLTE_norm  \\\n",
       "35                                                0.00       \n",
       "107                                               0.00       \n",
       "123                                               0.00       \n",
       "36                                                0.00       \n",
       "16                                                0.00       \n",
       "\n",
       "     DROP_SRVCC_TERMINATE_VOLTE_IMS_norm             sum_norm      band  \\\n",
       "35                                  0.00                 0.21  band2100   \n",
       "107                                 0.00                 0.24  band2100   \n",
       "123                                 0.00                 0.28  band2100   \n",
       "36                                  0.00                 0.25  band2100   \n",
       "16                                  0.00                 0.28  band2100   \n",
       "\n",
       "    start_date cell_name_anon  \n",
       "35  2018-08-01      cell-5073  \n",
       "107 2018-08-02      cell-5073  \n",
       "123 2018-08-03      cell-5073  \n",
       "36  2018-08-04      cell-5073  \n",
       "16  2018-08-05      cell-5073  "
      ]
     },
     "execution_count": 15,
     "metadata": {},
     "output_type": "execute_result"
    }
   ],
   "source": [
    "df_band2100.head()"
   ]
  },
  {
   "cell_type": "code",
   "execution_count": 16,
   "metadata": {},
   "outputs": [],
   "source": [
    "#test_cell_5073=df_band2100[df_band2100.cell_name_anon==\"cell-5073\"]\n",
    "test_cell_5073=df_band2100[df_band2100.cell_name_anon==\"cell-5073\"]"
   ]
  },
  {
   "cell_type": "code",
   "execution_count": 17,
   "metadata": {},
   "outputs": [
    {
     "data": {
      "text/plain": [
       "(270, 31)"
      ]
     },
     "execution_count": 17,
     "metadata": {},
     "output_type": "execute_result"
    }
   ],
   "source": [
    "test_cell_5073.shape"
   ]
  },
  {
   "cell_type": "code",
   "execution_count": 18,
   "metadata": {},
   "outputs": [
    {
     "data": {
      "text/plain": [
       "Index(['date', 'ACCESS_FAILURE_CC_503.1.223._VOLTE_IMS',\n",
       "       'CALL_SETUP_DELAY_VOLTE_IMS', 'DROP_CC_408_VOLTE_IMS',\n",
       "       'DROP_CC_481_VOLTE_IMS', 'DROP_CC_503_VOLTE_IMS',\n",
       "       'DROP_CC_OTHER_VOLTE_IMS', 'DROP_SRVCC_TERMINATE_VOLTE_IMS',\n",
       "       'GARBLING_VOLTE_VOICE',\n",
       "       'IMMEDIATE_VOLUNTARY_DROP_DUE_TO_MEDIA_STOP_VOLTE',\n",
       "       'MUTING_VOLTE_VOICE', 'SOFT_DROP_DUE_TO_MEDIA_STOP_VOLTE_IMS', 'sum',\n",
       "       'call_count', 'est_count_handover', 'sum_drop_cc_503_481',\n",
       "       'GARBLING_VOLTE_VOICE_norm', 'MUTING_VOLTE_VOICE_norm',\n",
       "       'DROP_CC_481_VOLTE_IMS_norm', 'CALL_SETUP_DELAY_VOLTE_IMS_norm',\n",
       "       'SOFT_DROP_DUE_TO_MEDIA_STOP_VOLTE_IMS_norm',\n",
       "       'ACCESS_FAILURE_CC_503.1.223._VOLTE_IMS_norm',\n",
       "       'DROP_CC_503_VOLTE_IMS_norm', 'DROP_CC_OTHER_VOLTE_IMS_norm',\n",
       "       'DROP_CC_408_VOLTE_IMS_norm',\n",
       "       'IMMEDIATE_VOLUNTARY_DROP_DUE_TO_MEDIA_STOP_VOLTE_norm',\n",
       "       'DROP_SRVCC_TERMINATE_VOLTE_IMS_norm', 'sum_norm', 'band', 'start_date',\n",
       "       'cell_name_anon'],\n",
       "      dtype='object')"
      ]
     },
     "execution_count": 18,
     "metadata": {},
     "output_type": "execute_result"
    }
   ],
   "source": [
    "df_band2100.columns"
   ]
  },
  {
   "cell_type": "code",
   "execution_count": 19,
   "metadata": {},
   "outputs": [],
   "source": [
    "grp_dict1= {'ACCESS_FAILURE_CC_503.1.223._VOLTE_IMS' :'sum',\n",
    "        'CALL_SETUP_DELAY_VOLTE_IMS': 'sum',\n",
    "        'DROP_CC_408_VOLTE_IMS' : 'sum',\n",
    "       #'DROP_CC_481_VOLTE_IMS': 'sum',\n",
    "       #'DROP_CC_503_VOLTE_IMS': 'sum',\n",
    "       'DROP_CC_OTHER_VOLTE_IMS': 'sum',\n",
    "       'GARBLING_VOLTE_VOICE': 'sum',\n",
    "       'IMMEDIATE_VOLUNTARY_DROP_DUE_TO_MEDIA_STOP_VOLTE': 'sum',\n",
    "       'MUTING_VOLTE_VOICE': 'sum', \n",
    "      'SOFT_DROP_DUE_TO_MEDIA_STOP_VOLTE_IMS':  'sum',\n",
    "       'sum_drop_call_503_481': 'sum',\n",
    "       'call_count': 'sum'} "
   ]
  },
  {
   "cell_type": "code",
   "execution_count": 20,
   "metadata": {},
   "outputs": [
    {
     "data": {
      "text/plain": [
       "{'ACCESS_FAILURE_CC_503.1.223._VOLTE_IMS': 'sum',\n",
       " 'CALL_SETUP_DELAY_VOLTE_IMS': 'sum',\n",
       " 'DROP_CC_408_VOLTE_IMS': 'sum',\n",
       " 'DROP_CC_OTHER_VOLTE_IMS': 'sum',\n",
       " 'GARBLING_VOLTE_VOICE': 'sum',\n",
       " 'IMMEDIATE_VOLUNTARY_DROP_DUE_TO_MEDIA_STOP_VOLTE': 'sum',\n",
       " 'MUTING_VOLTE_VOICE': 'sum',\n",
       " 'SOFT_DROP_DUE_TO_MEDIA_STOP_VOLTE_IMS': 'sum',\n",
       " 'sum_drop_call_503_481': 'sum',\n",
       " 'call_count': 'sum'}"
      ]
     },
     "execution_count": 20,
     "metadata": {},
     "output_type": "execute_result"
    }
   ],
   "source": [
    "grp_dict1"
   ]
  },
  {
   "cell_type": "code",
   "execution_count": 21,
   "metadata": {},
   "outputs": [],
   "source": [
    "features1 = ['ACCESS_FAILURE_CC_503.1.223._VOLTE_IMS', \n",
    "            'CALL_SETUP_DELAY_VOLTE_IMS',\n",
    "       'DROP_CC_408_VOLTE_IMS', 'DROP_CC_OTHER_VOLTE_IMS',\n",
    "       'GARBLING_VOLTE_VOICE',\n",
    "       'IMMEDIATE_VOLUNTARY_DROP_DUE_TO_MEDIA_STOP_VOLTE',\n",
    "       'MUTING_VOLTE_VOICE', 'SOFT_DROP_DUE_TO_MEDIA_STOP_VOLTE_IMS','hard_drop_call_503_481'\n",
    "       ]"
   ]
  },
  {
   "cell_type": "code",
   "execution_count": 22,
   "metadata": {},
   "outputs": [],
   "source": [
    "\n",
    "rank_dates=['2018-08-08',\n",
    "       '2018-08-09', '2018-08-10', '2018-08-11', '2018-08-12',\n",
    "       '2018-08-13', '2018-08-14', '2018-08-15', '2018-08-16',\n",
    "       '2018-08-17', '2018-08-18', '2018-08-19', '2018-08-20',\n",
    "       '2018-08-21', '2018-08-22', '2018-08-23', '2018-08-24',\n",
    "       '2018-08-25', '2018-08-26', '2018-08-27', '2018-08-28',\n",
    "       '2018-08-29', '2018-08-30', '2018-08-31', '2018-09-01',\n",
    "       '2018-09-02', '2018-09-03', '2018-09-04', '2018-09-05',\n",
    "       '2018-09-06', '2018-09-07', '2018-09-09', '2018-09-10',\n",
    "       '2018-09-11', '2018-09-12', '2018-09-13', '2018-09-14',\n",
    "       '2018-09-15', '2018-09-16', '2018-09-17', '2018-09-18',\n",
    "       '2018-09-19', '2018-09-20', '2018-09-21', '2018-09-22',\n",
    "       '2018-09-23', '2018-09-24', '2018-09-25', '2018-09-26',\n",
    "       '2018-09-27', '2018-09-28', '2018-09-29', '2018-09-30',\n",
    "       '2018-10-01', '2018-10-02', '2018-10-03', '2018-10-04',\n",
    "       '2018-10-05', '2018-10-06', '2018-10-07', '2018-10-08',\n",
    "       '2018-10-09', '2018-10-10', '2018-10-11', '2018-10-12',\n",
    "       '2018-10-13', '2018-10-14', '2018-10-15', '2018-10-16',\n",
    "       '2018-10-17', '2018-10-18', '2018-10-19', '2018-10-20',\n",
    "       '2018-10-21', '2018-10-22', '2018-10-23', '2018-10-24',\n",
    "       '2018-10-25', '2018-10-26', '2018-10-27', '2018-10-28',\n",
    "       '2018-11-01', '2018-11-02', '2018-11-03', '2018-11-04',\n",
    "       '2018-11-05', '2018-11-06', '2018-11-07', '2018-11-08',\n",
    "       '2018-11-09', '2018-11-10', '2018-11-11', '2018-11-12',\n",
    "       '2018-11-13', '2018-11-14', '2018-11-15', '2018-11-16',\n",
    "       '2018-11-17', '2018-11-18', '2018-11-19', '2018-11-20',\n",
    "       '2018-11-21', '2018-11-22', '2018-11-23', '2018-11-24',\n",
    "       '2018-11-25', '2018-11-26', '2018-11-27', '2018-11-29',\n",
    "       '2018-11-30', '2018-12-01', '2018-12-02', '2018-12-03',\n",
    "       '2018-12-04', '2018-12-05', '2018-12-06', '2018-12-07',\n",
    "       '2018-12-08', '2018-12-09', '2018-12-10', '2018-12-11',\n",
    "       '2018-12-12', '2018-12-13', '2018-12-14', '2018-12-15',\n",
    "       '2018-12-16', '2018-12-17', '2018-12-18', '2018-12-19',\n",
    "       '2018-12-20', '2018-12-21', '2018-12-23', '2018-12-24',\n",
    "       '2018-12-25', '2018-12-26', '2018-12-27', '2018-12-28',\n",
    "       '2018-12-29', '2018-12-30', '2018-12-31', '2019-01-01',\n",
    "       '2019-01-02', '2019-01-03', '2019-01-04', '2019-01-05',\n",
    "       '2019-01-06', '2019-01-07', '2019-01-08', '2019-01-09',\n",
    "       '2019-01-10', '2019-01-11', '2019-01-12', '2019-01-13',\n",
    "       '2019-01-14', '2019-01-15', '2019-01-16', '2019-01-23',\n",
    "       '2019-01-24', '2019-01-25', '2019-01-27', '2019-01-28',\n",
    "       '2019-01-29', '2019-01-30', '2019-01-31', '2019-02-01',\n",
    "       '2019-02-02', '2019-02-03', '2019-02-04', '2019-02-05',\n",
    "       '2019-02-06', '2019-02-07', '2019-02-08', '2019-02-11',\n",
    "       '2019-02-12', '2019-02-13', '2019-02-14', '2019-02-15',\n",
    "       '2019-02-16', '2019-02-18', '2019-02-19'\n",
    "    ]"
   ]
  },
  {
   "cell_type": "code",
   "execution_count": 23,
   "metadata": {},
   "outputs": [
    {
     "data": {
      "text/html": [
       "<div>\n",
       "<style scoped>\n",
       "    .dataframe tbody tr th:only-of-type {\n",
       "        vertical-align: middle;\n",
       "    }\n",
       "\n",
       "    .dataframe tbody tr th {\n",
       "        vertical-align: top;\n",
       "    }\n",
       "\n",
       "    .dataframe thead th {\n",
       "        text-align: right;\n",
       "    }\n",
       "</style>\n",
       "<table border=\"1\" class=\"dataframe\">\n",
       "  <thead>\n",
       "    <tr style=\"text-align: right;\">\n",
       "      <th></th>\n",
       "      <th>date</th>\n",
       "      <th>ACCESS_FAILURE_CC_503.1.223._VOLTE_IMS</th>\n",
       "      <th>CALL_SETUP_DELAY_VOLTE_IMS</th>\n",
       "      <th>DROP_CC_408_VOLTE_IMS</th>\n",
       "      <th>DROP_CC_481_VOLTE_IMS</th>\n",
       "      <th>DROP_CC_503_VOLTE_IMS</th>\n",
       "      <th>DROP_CC_OTHER_VOLTE_IMS</th>\n",
       "      <th>DROP_SRVCC_TERMINATE_VOLTE_IMS</th>\n",
       "      <th>GARBLING_VOLTE_VOICE</th>\n",
       "      <th>IMMEDIATE_VOLUNTARY_DROP_DUE_TO_MEDIA_STOP_VOLTE</th>\n",
       "      <th>MUTING_VOLTE_VOICE</th>\n",
       "      <th>SOFT_DROP_DUE_TO_MEDIA_STOP_VOLTE_IMS</th>\n",
       "      <th>sum</th>\n",
       "      <th>call_count</th>\n",
       "      <th>est_count_handover</th>\n",
       "      <th>sum_drop_cc_503_481</th>\n",
       "      <th>GARBLING_VOLTE_VOICE_norm</th>\n",
       "      <th>MUTING_VOLTE_VOICE_norm</th>\n",
       "      <th>DROP_CC_481_VOLTE_IMS_norm</th>\n",
       "      <th>CALL_SETUP_DELAY_VOLTE_IMS_norm</th>\n",
       "      <th>SOFT_DROP_DUE_TO_MEDIA_STOP_VOLTE_IMS_norm</th>\n",
       "      <th>ACCESS_FAILURE_CC_503.1.223._VOLTE_IMS_norm</th>\n",
       "      <th>DROP_CC_503_VOLTE_IMS_norm</th>\n",
       "      <th>DROP_CC_OTHER_VOLTE_IMS_norm</th>\n",
       "      <th>DROP_CC_408_VOLTE_IMS_norm</th>\n",
       "      <th>IMMEDIATE_VOLUNTARY_DROP_DUE_TO_MEDIA_STOP_VOLTE_norm</th>\n",
       "      <th>DROP_SRVCC_TERMINATE_VOLTE_IMS_norm</th>\n",
       "      <th>sum_norm</th>\n",
       "      <th>band</th>\n",
       "      <th>start_date</th>\n",
       "      <th>cell_name_anon</th>\n",
       "    </tr>\n",
       "  </thead>\n",
       "  <tbody>\n",
       "    <tr>\n",
       "      <th>0</th>\n",
       "      <td>2018-08-01</td>\n",
       "      <td>1</td>\n",
       "      <td>1</td>\n",
       "      <td>0</td>\n",
       "      <td>13</td>\n",
       "      <td>1</td>\n",
       "      <td>0</td>\n",
       "      <td>0</td>\n",
       "      <td>269</td>\n",
       "      <td>0</td>\n",
       "      <td>34</td>\n",
       "      <td>1</td>\n",
       "      <td>320</td>\n",
       "      <td>442</td>\n",
       "      <td>85</td>\n",
       "      <td>0.03</td>\n",
       "      <td>0.61</td>\n",
       "      <td>0.08</td>\n",
       "      <td>0.03</td>\n",
       "      <td>0.00</td>\n",
       "      <td>0.00</td>\n",
       "      <td>0.00</td>\n",
       "      <td>0.00</td>\n",
       "      <td>0.00</td>\n",
       "      <td>0.00</td>\n",
       "      <td>0.00</td>\n",
       "      <td>0.00</td>\n",
       "      <td>0.72</td>\n",
       "      <td>band1900_1</td>\n",
       "      <td>2018-08-01</td>\n",
       "      <td>cell-1</td>\n",
       "    </tr>\n",
       "    <tr>\n",
       "      <th>1</th>\n",
       "      <td>2019-05-24</td>\n",
       "      <td>5</td>\n",
       "      <td>3</td>\n",
       "      <td>0</td>\n",
       "      <td>0</td>\n",
       "      <td>0</td>\n",
       "      <td>0</td>\n",
       "      <td>0</td>\n",
       "      <td>106</td>\n",
       "      <td>0</td>\n",
       "      <td>21</td>\n",
       "      <td>1</td>\n",
       "      <td>136</td>\n",
       "      <td>463</td>\n",
       "      <td>169</td>\n",
       "      <td>0.00</td>\n",
       "      <td>0.23</td>\n",
       "      <td>0.05</td>\n",
       "      <td>0.00</td>\n",
       "      <td>0.01</td>\n",
       "      <td>0.00</td>\n",
       "      <td>0.01</td>\n",
       "      <td>0.00</td>\n",
       "      <td>0.00</td>\n",
       "      <td>0.00</td>\n",
       "      <td>0.00</td>\n",
       "      <td>0.00</td>\n",
       "      <td>0.29</td>\n",
       "      <td>band1900_1</td>\n",
       "      <td>2019-05-24</td>\n",
       "      <td>cell-1</td>\n",
       "    </tr>\n",
       "    <tr>\n",
       "      <th>2</th>\n",
       "      <td>2018-08-05</td>\n",
       "      <td>0</td>\n",
       "      <td>0</td>\n",
       "      <td>0</td>\n",
       "      <td>3</td>\n",
       "      <td>0</td>\n",
       "      <td>0</td>\n",
       "      <td>0</td>\n",
       "      <td>162</td>\n",
       "      <td>1</td>\n",
       "      <td>11</td>\n",
       "      <td>2</td>\n",
       "      <td>179</td>\n",
       "      <td>320</td>\n",
       "      <td>51</td>\n",
       "      <td>0.01</td>\n",
       "      <td>0.51</td>\n",
       "      <td>0.03</td>\n",
       "      <td>0.01</td>\n",
       "      <td>0.00</td>\n",
       "      <td>0.01</td>\n",
       "      <td>0.00</td>\n",
       "      <td>0.00</td>\n",
       "      <td>0.00</td>\n",
       "      <td>0.00</td>\n",
       "      <td>0.00</td>\n",
       "      <td>0.00</td>\n",
       "      <td>0.56</td>\n",
       "      <td>band1900_1</td>\n",
       "      <td>2018-08-05</td>\n",
       "      <td>cell-1</td>\n",
       "    </tr>\n",
       "    <tr>\n",
       "      <th>3</th>\n",
       "      <td>2019-05-23</td>\n",
       "      <td>8</td>\n",
       "      <td>1</td>\n",
       "      <td>0</td>\n",
       "      <td>3</td>\n",
       "      <td>2</td>\n",
       "      <td>0</td>\n",
       "      <td>0</td>\n",
       "      <td>114</td>\n",
       "      <td>0</td>\n",
       "      <td>17</td>\n",
       "      <td>0</td>\n",
       "      <td>145</td>\n",
       "      <td>514</td>\n",
       "      <td>151</td>\n",
       "      <td>0.01</td>\n",
       "      <td>0.22</td>\n",
       "      <td>0.03</td>\n",
       "      <td>0.01</td>\n",
       "      <td>0.00</td>\n",
       "      <td>0.00</td>\n",
       "      <td>0.02</td>\n",
       "      <td>0.00</td>\n",
       "      <td>0.00</td>\n",
       "      <td>0.00</td>\n",
       "      <td>0.00</td>\n",
       "      <td>0.00</td>\n",
       "      <td>0.28</td>\n",
       "      <td>band1900_1</td>\n",
       "      <td>2019-05-23</td>\n",
       "      <td>cell-1</td>\n",
       "    </tr>\n",
       "    <tr>\n",
       "      <th>4</th>\n",
       "      <td>2018-12-02</td>\n",
       "      <td>14</td>\n",
       "      <td>1</td>\n",
       "      <td>0</td>\n",
       "      <td>7</td>\n",
       "      <td>1</td>\n",
       "      <td>0</td>\n",
       "      <td>0</td>\n",
       "      <td>166</td>\n",
       "      <td>0</td>\n",
       "      <td>14</td>\n",
       "      <td>1</td>\n",
       "      <td>204</td>\n",
       "      <td>406</td>\n",
       "      <td>109</td>\n",
       "      <td>0.02</td>\n",
       "      <td>0.41</td>\n",
       "      <td>0.03</td>\n",
       "      <td>0.02</td>\n",
       "      <td>0.00</td>\n",
       "      <td>0.00</td>\n",
       "      <td>0.03</td>\n",
       "      <td>0.00</td>\n",
       "      <td>0.00</td>\n",
       "      <td>0.00</td>\n",
       "      <td>0.00</td>\n",
       "      <td>0.00</td>\n",
       "      <td>0.50</td>\n",
       "      <td>band1900_1</td>\n",
       "      <td>2018-12-02</td>\n",
       "      <td>cell-1</td>\n",
       "    </tr>\n",
       "  </tbody>\n",
       "</table>\n",
       "</div>"
      ],
      "text/plain": [
       "        date  ACCESS_FAILURE_CC_503.1.223._VOLTE_IMS  \\\n",
       "0 2018-08-01                                       1   \n",
       "1 2019-05-24                                       5   \n",
       "2 2018-08-05                                       0   \n",
       "3 2019-05-23                                       8   \n",
       "4 2018-12-02                                      14   \n",
       "\n",
       "   CALL_SETUP_DELAY_VOLTE_IMS  DROP_CC_408_VOLTE_IMS  DROP_CC_481_VOLTE_IMS  \\\n",
       "0                           1                      0                     13   \n",
       "1                           3                      0                      0   \n",
       "2                           0                      0                      3   \n",
       "3                           1                      0                      3   \n",
       "4                           1                      0                      7   \n",
       "\n",
       "   DROP_CC_503_VOLTE_IMS  DROP_CC_OTHER_VOLTE_IMS  \\\n",
       "0                      1                        0   \n",
       "1                      0                        0   \n",
       "2                      0                        0   \n",
       "3                      2                        0   \n",
       "4                      1                        0   \n",
       "\n",
       "   DROP_SRVCC_TERMINATE_VOLTE_IMS  GARBLING_VOLTE_VOICE  \\\n",
       "0                               0                   269   \n",
       "1                               0                   106   \n",
       "2                               0                   162   \n",
       "3                               0                   114   \n",
       "4                               0                   166   \n",
       "\n",
       "   IMMEDIATE_VOLUNTARY_DROP_DUE_TO_MEDIA_STOP_VOLTE  MUTING_VOLTE_VOICE  \\\n",
       "0                                                 0                  34   \n",
       "1                                                 0                  21   \n",
       "2                                                 1                  11   \n",
       "3                                                 0                  17   \n",
       "4                                                 0                  14   \n",
       "\n",
       "   SOFT_DROP_DUE_TO_MEDIA_STOP_VOLTE_IMS  sum  call_count  est_count_handover  \\\n",
       "0                                      1  320         442                  85   \n",
       "1                                      1  136         463                 169   \n",
       "2                                      2  179         320                  51   \n",
       "3                                      0  145         514                 151   \n",
       "4                                      1  204         406                 109   \n",
       "\n",
       "   sum_drop_cc_503_481  GARBLING_VOLTE_VOICE_norm  MUTING_VOLTE_VOICE_norm  \\\n",
       "0                 0.03                       0.61                     0.08   \n",
       "1                 0.00                       0.23                     0.05   \n",
       "2                 0.01                       0.51                     0.03   \n",
       "3                 0.01                       0.22                     0.03   \n",
       "4                 0.02                       0.41                     0.03   \n",
       "\n",
       "   DROP_CC_481_VOLTE_IMS_norm  CALL_SETUP_DELAY_VOLTE_IMS_norm  \\\n",
       "0                        0.03                             0.00   \n",
       "1                        0.00                             0.01   \n",
       "2                        0.01                             0.00   \n",
       "3                        0.01                             0.00   \n",
       "4                        0.02                             0.00   \n",
       "\n",
       "   SOFT_DROP_DUE_TO_MEDIA_STOP_VOLTE_IMS_norm  \\\n",
       "0                                        0.00   \n",
       "1                                        0.00   \n",
       "2                                        0.01   \n",
       "3                                        0.00   \n",
       "4                                        0.00   \n",
       "\n",
       "   ACCESS_FAILURE_CC_503.1.223._VOLTE_IMS_norm  DROP_CC_503_VOLTE_IMS_norm  \\\n",
       "0                                         0.00                        0.00   \n",
       "1                                         0.01                        0.00   \n",
       "2                                         0.00                        0.00   \n",
       "3                                         0.02                        0.00   \n",
       "4                                         0.03                        0.00   \n",
       "\n",
       "   DROP_CC_OTHER_VOLTE_IMS_norm  DROP_CC_408_VOLTE_IMS_norm  \\\n",
       "0                          0.00                        0.00   \n",
       "1                          0.00                        0.00   \n",
       "2                          0.00                        0.00   \n",
       "3                          0.00                        0.00   \n",
       "4                          0.00                        0.00   \n",
       "\n",
       "   IMMEDIATE_VOLUNTARY_DROP_DUE_TO_MEDIA_STOP_VOLTE_norm  \\\n",
       "0                                               0.00       \n",
       "1                                               0.00       \n",
       "2                                               0.00       \n",
       "3                                               0.00       \n",
       "4                                               0.00       \n",
       "\n",
       "   DROP_SRVCC_TERMINATE_VOLTE_IMS_norm             sum_norm        band  \\\n",
       "0                                 0.00                 0.72  band1900_1   \n",
       "1                                 0.00                 0.29  band1900_1   \n",
       "2                                 0.00                 0.56  band1900_1   \n",
       "3                                 0.00                 0.28  band1900_1   \n",
       "4                                 0.00                 0.50  band1900_1   \n",
       "\n",
       "   start_date cell_name_anon  \n",
       "0  2018-08-01         cell-1  \n",
       "1  2019-05-24         cell-1  \n",
       "2  2018-08-05         cell-1  \n",
       "3  2019-05-23         cell-1  \n",
       "4  2018-12-02         cell-1  "
      ]
     },
     "execution_count": 23,
     "metadata": {},
     "output_type": "execute_result"
    }
   ],
   "source": [
    "df.head()"
   ]
  },
  {
   "cell_type": "code",
   "execution_count": null,
   "metadata": {},
   "outputs": [],
   "source": []
  },
  {
   "cell_type": "code",
   "execution_count": 24,
   "metadata": {},
   "outputs": [],
   "source": [
    "def Rolling_data_PCA_Percentile(df,rank_dates, nr_days, features):\n",
    "    # output path\n",
    "    Output_path='C:\\My_work\\MXE\\CM_Config\\output'\n",
    "    dates = df.date.unique()\n",
    "    dates = sorted(dates)\n",
    "    for i in range(len(dates)):\n",
    "        #test_dates[i] = date(test_dates[i])\n",
    "        dates[i] = pd.to_datetime(dates[i])\n",
    "        dates[i] = dates[i].strftime('%Y-%m-%d')\n",
    "    # Coverting date column to datetime datatype\n",
    "    #df.date = pd.to_datetime(df.date)\n",
    "    dates1 = df.date\n",
    "    # creating Blank data frames for storing the output of the iterations \n",
    "    rolledup_data=pd.DataFrame(columns=[\"ACCESS_FAILURE_CC_503.1.223._VOLTE_IMS\",\"CALL_SETUP_DELAY_VOLTE_IMS\",\n",
    "                                        \"DROP_CC_408_VOLTE_IMS\",\"DROP_CC_OTHER_VOLTE_IMS\",\"GARBLING_VOLTE_VOICE\",\n",
    "                                        \"IMMEDIATE_VOLUNTARY_DROP_DUE_TO_MEDIA_STOP_VOLTE\",\"MUTING_VOLTE_VOICE\",\n",
    "                                        \"SOFT_DROP_DUE_TO_MEDIA_STOP_VOLTE_IMS\",\"hard_drop_call_503_481\",\n",
    "                                        \"cell_name_anon\",\"band\",\"date\"])\n",
    "\n",
    "    final_df_band2100 = pd.DataFrame(columns=[\"cell_name_anon\",\"band\",\"score\",\"date\",\"rank\",\"percentile\"])\n",
    "    final_df_band700 = pd.DataFrame(columns=[\"cell_name_anon\",\"band\",\"score\",\"date\",\"rank\",\"percentile\"])\n",
    "   # final_df_band1900_1 = pd.DataFrame(columns=[\"cell_name_anon\",\"band\",\"score\",\"date\",\"rank\",\"percentile\"])\n",
    "        \n",
    "    for rank_date in rank_dates:\n",
    "        # coverting rank_date string to date \n",
    "        this_date = rank_date\n",
    "        #rank_date = dt.date(*map(int, rank_date.split('-')))\n",
    "        print(rank_date)\n",
    "        # Preparing the window for 7 days\n",
    "        \n",
    "        #start_date = rank_date - dt.timedelta(1)\n",
    "        #end_date = start_date - dt.timedelta(nr_days)\n",
    "        #rank_date = '2019-03-01T00:00:00.000000000'\n",
    "        #this_date = np.datetime64(this_date)\n",
    "        i = dates.index(this_date)\n",
    "        start_date = dates[i-1]\n",
    "        end_date = dates[i-nr_days]\n",
    "        #print(df['date'].head(2))\n",
    "        dff = df[(df['date'] < rank_date) & (df['date'] >= end_date)]\n",
    "        # CHANGE MADE HERE\n",
    "        dff['hard_drop_call_503_481']= dff['DROP_CC_481_VOLTE_IMS']+ dff['DROP_CC_503_VOLTE_IMS']\n",
    "         # CHNAGE MADE HERE\n",
    "        # grouping by cell_name_anon , band\n",
    "        grp_dict1= {'ACCESS_FAILURE_CC_503.1.223._VOLTE_IMS' :'sum',\n",
    "            'CALL_SETUP_DELAY_VOLTE_IMS': 'sum',\n",
    "            'DROP_CC_408_VOLTE_IMS' : 'sum',\n",
    "           'DROP_CC_OTHER_VOLTE_IMS': 'sum',\n",
    "           'GARBLING_VOLTE_VOICE': 'sum',\n",
    "           'IMMEDIATE_VOLUNTARY_DROP_DUE_TO_MEDIA_STOP_VOLTE': 'sum',\n",
    "           'MUTING_VOLTE_VOICE': 'sum', \n",
    "           'SOFT_DROP_DUE_TO_MEDIA_STOP_VOLTE_IMS':  'sum',\n",
    "           'hard_drop_call_503_481': 'sum',\n",
    "           'call_count': 'sum'} \n",
    "    \n",
    "        df1 = dff.groupby(['cell_name_anon','band']).agg(grp_dict1 , as_index = False)\n",
    "    \n",
    "        df1.reset_index(inplace=True)\n",
    "    \n",
    "        df2= df1.iloc[:,2:].div(df1.call_count, axis=0)\n",
    "    \n",
    "        df3 = pd.concat([df2.iloc[:,0:9], df1[['cell_name_anon','band']]], axis = 1)\n",
    "        \n",
    "        df3['date']=rank_date\n",
    "        \n",
    "         # append all iterations\n",
    "        rolledup_data=rolledup_data.append(df3,ignore_index = True)\n",
    "    \n",
    "        ##########################################\n",
    "        # ----------------Band 2100---------- ####\n",
    "        ##########################################\n",
    "        # Separating out the features\n",
    "        df_band2100 = df3[df3.band == 'band2100']\n",
    "        df_band2100.reset_index(inplace = True)\n",
    "        x = df_band2100.loc[:, features1].values\n",
    "        # Standardizing the features\n",
    "        x = StandardScaler().fit_transform(x)\n",
    "        # doing PCA\n",
    "        pca = PCA()\n",
    "        principalComponents = pca.fit_transform(x)\n",
    "        # converting to dataframe\n",
    "        principalDf = pd.DataFrame(data = principalComponents\n",
    "             , columns = ['principal component 1', 'principal component 2','principal component 3',\n",
    "                          'principal component 4','principal component 5', 'principal component 6',\n",
    "                         'principal component 7','principal component 8', 'principal component 9'\n",
    "                          ])\n",
    "        # selecting where explained variance >= 1\n",
    "        exp_variance = pca.explained_variance_\n",
    "        # fetching indexes\n",
    "        idx = np.where(exp_variance >= 1)[0]\n",
    "        #print(idx) ; print(type(idx[0]))\n",
    "        #fetching multipliers\n",
    "        exp_ratio = pca.explained_variance_ratio_[idx]\n",
    "        # slicing Principal components and adding cell_name_anon & band\n",
    "        cols=['cell_name_anon', 'band']\n",
    "        _df_band2100 =  pd.concat([principalDf.iloc[:,idx], df_band2100[cols]], axis = 1)\n",
    "        _df_band2100['score'] = np.sum(_df_band2100.iloc[:,idx] * exp_ratio , axis = 1)\n",
    "        _df_band2100['date'] = rank_date\n",
    "        _df_band2100.sort_values(by=['score'],ascending=True , inplace=True)\n",
    "        _df_band2100.reset_index(inplace= True)\n",
    "        _df_band2100['rank'] = _df_band2100.index.values+1\n",
    "        _df_band2100 = _df_band2100[['cell_name_anon','band','score','date','rank']]\n",
    "        \n",
    "        _df_band2100['percentile'] = _df_band2100.score.rank(pct = True)\n",
    "        _df_band2100.percentile = 1 - _df_band2100.percentile \n",
    "        _df_band2100.percentile = _df_band2100.percentile * 100\n",
    "              \n",
    "        # append all iterations\n",
    "        final_df_band2100=_df_band2100.append(final_df_band2100,ignore_index = True)\n",
    "        #print('success')\n",
    "        print(final_df_band2100.head(2))\n",
    "               \n",
    "        ##########################################\n",
    "        # ----------------Band 700---------- ####\n",
    "        ##########################################\n",
    "        # Separating out the features\n",
    "        df_band700 = df3[df3.band == 'band700']\n",
    "        df_band700.reset_index(inplace = True)\n",
    "        x = df_band700.loc[:, features1].values\n",
    "        # Standardizing the features\n",
    "        x = StandardScaler().fit_transform(x)\n",
    "        # doing PCA\n",
    "        pca = PCA()\n",
    "        principalComponents = pca.fit_transform(x)\n",
    "        # converting to dataframe\n",
    "        principalDf = pd.DataFrame(data = principalComponents\n",
    "             , columns = ['principal component 1', 'principal component 2','principal component 3',\n",
    "                          'principal component 4','principal component 5', 'principal component 6',\n",
    "                         'principal component 7','principal component 8', 'principal component 9'\n",
    "                          ])\n",
    "        # selecting where explained variance >= 1\n",
    "        exp_variance = pca.explained_variance_\n",
    "        # fetching indexes\n",
    "        idx = np.where(exp_variance >= 1)[0]\n",
    "        #print(idx) ; print(type(idx[0]))\n",
    "        #fetching multipliers\n",
    "        exp_ratio = pca.explained_variance_ratio_[idx]\n",
    "        # slicing Principal components and adding cell_name_anon & band\n",
    "        cols=['cell_name_anon', 'band']\n",
    "        _df_band700 =  pd.concat([principalDf.iloc[:,idx], df_band700[cols]], axis = 1)\n",
    "        _df_band700['score'] = np.sum(_df_band700.iloc[:,idx] * exp_ratio , axis = 1)\n",
    "        _df_band700['date'] = rank_date\n",
    "        _df_band700.sort_values(by=['score'],ascending=True , inplace=True)\n",
    "        _df_band700.reset_index(inplace= True)\n",
    "        _df_band700['rank'] = _df_band700.index.values+1\n",
    "        _df_band700 = _df_band700[['cell_name_anon','band','score','date','rank']]\n",
    "        _df_band700['percentile'] = _df_band700.score.rank(pct = True)\n",
    "        _df_band700.percentile = 1 - _df_band700.percentile \n",
    "        _df_band700.percentile = _df_band700.percentile * 100\n",
    "        \n",
    "        # append all iterations\n",
    "        final_df_band700=_df_band700.append(final_df_band700,ignore_index = True)\n",
    "        #print('success')\n",
    "        print(final_df_band700.head(2))\n",
    "        \n",
    "    return final_df_band2100,final_df_band700, rolledup_data  "
   ]
  },
  {
   "cell_type": "code",
   "execution_count": 25,
   "metadata": {
    "scrolled": true
   },
   "outputs": [],
   "source": [
    "def apply_PCA_on_period(k,start_date):\n",
    "    # k for mean +- k*std\n",
    "    #start_date = '2019-05-11'\n",
    "    dates = df.date.unique()\n",
    "    dates = sorted(dates)\n",
    "    start_date = np.datetime64(start_date)\n",
    "    i = dates.index(start_date)\n",
    "    test_dates = dates[i-29:i+1]\n",
    "    build_dates = dates[i-119:i-29]\n",
    "    for i in range(len(test_dates)):\n",
    "        #test_dates[i] = date(test_dates[i])\n",
    "        test_dates[i] = pd.to_datetime(test_dates[i])\n",
    "        test_dates[i] = test_dates[i].strftime('%Y-%m-%d')\n",
    "    for i in range(len(build_dates)):\n",
    "        #test_dates[i] = date(test_dates[i])\n",
    "        build_dates[i] = pd.to_datetime(build_dates[i])\n",
    "        build_dates[i] = build_dates[i].strftime('%Y-%m-%d')\n",
    "    print(test_dates)\n",
    "    #make the df for first 13 weeks\n",
    "    Consolidated_df_2100_build,Consolidated_df_700_build, Consolidated_data_all_build = Rolling_data_PCA_Percentile(df, build_dates, 7, features1)\n",
    "    #make the df for the one month of test\n",
    "    Consolidated_df_2100_test,Consolidated_df_700_test, Consolidated_data_all_test = Rolling_data_PCA_Percentile(df,test_dates, 7, features1)\n",
    "    print('PCA done \\n')\n",
    "    \n",
    "    return Consolidated_df_700_build,Consolidated_df_700_test"
   ]
  },
  {
   "cell_type": "code",
   "execution_count": 26,
   "metadata": {},
   "outputs": [],
   "source": [
    "def calculate_performance(Consolidated_df_2100_build,Consolidated_df_2100_test,k):\n",
    "    cell_rank = Consolidated_df_2100_build[['cell_name_anon','score','rank']]\n",
    "    cell_rank['rank'] = cell_rank['rank'].astype(int)\n",
    "    cell_rank_mean = cell_rank.groupby('cell_name_anon').mean()\n",
    "    cell_rank_mean.reset_index(inplace = True)\n",
    "    cell_rank_std = cell_rank.groupby('cell_name_anon').std()\n",
    "    cell_rank_std.reset_index(inplace = True)\n",
    "    #cell_rank_std.head()\n",
    "    cell_rank_mean['score_std'] = cell_rank_std.score\n",
    "    cell_rank_mean['rank_std'] = cell_rank_std['rank']\n",
    "    cell_rank_mean.rename(columns = {'score' : 'score_mean_90days','rank':'rank_mean'},inplace = True)\n",
    "    cell_rank_mean.head()\n",
    "    cell_score_mean = cell_rank_mean.copy()\n",
    "    del(cell_rank_mean)\n",
    "    cell_score_mean['mu+sigma'] = cell_score_mean['score_mean_90days'] + (k*cell_score_mean['score_std'])\n",
    "    cell_score_mean['mu-sigma'] = cell_score_mean['score_mean_90days'] - (k*cell_score_mean['score_std'])\n",
    "    \n",
    "    print('cell ranking for build period done \\n')\n",
    "    # getting the mean of the best days of cell and standard deviation for all the days in the build period\n",
    "\n",
    "    Consolidated_df_2100_build = pd.merge(Consolidated_df_2100_build,cell_score_mean[['cell_name_anon','score_std','score_mean_90days','mu+sigma','mu-sigma']],how='inner',on='cell_name_anon')\n",
    "    Consolidated_df_2100_build['gt_mu+sigma'] = Consolidated_df_2100_build['score'] > Consolidated_df_2100_build['mu+sigma']\n",
    "    Consolidated_df_2100_build['lt_mu-sigma'] = Consolidated_df_2100_build['score'] < Consolidated_df_2100_build['mu+sigma']\n",
    "    Consolidated_df_2100_build = Consolidated_df_2100_build.sort_values(by=['cell_name_anon','date'])\n",
    "    \n",
    "    cell_best_days = Consolidated_df_2100_build[Consolidated_df_2100_build['lt_mu-sigma']==True]\n",
    "    x = cell_best_days[['cell_name_anon','score']].groupby('cell_name_anon').mean()\n",
    "    \n",
    "    x.reset_index(inplace=True)\n",
    "    y = Consolidated_df_2100_build[['cell_name_anon','score']].groupby('cell_name_anon').std()\n",
    "    y.reset_index(inplace=True)\n",
    "    #Consolidated_df_2100_build = pd.merge(Consolidated_df_2100_build,x[['cell_name_anon','score']],on='cell_name_anon',how='inner')\n",
    "\n",
    "    del(cell_best_days)\n",
    "    \n",
    "    print('cell mean and standard deviation calculation done \\n')\n",
    "\n",
    "    cell_mean_std = pd.merge(x,y,on='cell_name_anon',how='inner')\n",
    "    cell_mean_std.rename(columns ={'score_x':'score_mean_good_days','score_y':'score_std_90days'},inplace=True)\n",
    "    Consolidated_df_2100_build = pd.merge(Consolidated_df_2100_build,cell_mean_std[['cell_name_anon','score_mean_good_days']],on='cell_name_anon',how='inner')\n",
    "    Consolidated_df_2100_test= pd.merge(Consolidated_df_2100_test,cell_mean_std,how='inner',on='cell_name_anon')\n",
    "    Consolidated_df_2100_test.sort_values(by=['cell_name_anon','date'],inplace=True)\n",
    "    Consolidated_df_2100_test.reset_index(inplace=True,drop=True)\n",
    "    Consolidated_df_2100_test = pd.merge(Consolidated_df_2100_test,cell_score_mean[['cell_name_anon','score_mean_90days']],how='inner',on='cell_name_anon')\n",
    "    #print(cell_score_mean.head())\n",
    "    del(cell_score_mean)\n",
    "    Consolidated_df_2100_test['mu+'+str(k)+'sigma'] = Consolidated_df_2100_test['score_mean_good_days'] + (k*Consolidated_df_2100_test['score_std_90days'])\n",
    "    Consolidated_df_2100_test['mu-'+str(k)+'sigma'] = Consolidated_df_2100_test['score_mean_good_days'] - (k*Consolidated_df_2100_test['score_std_90days'])\n",
    "    Consolidated_df_2100_test['gt_mu+'+str(k)+'sigma'] = Consolidated_df_2100_test['score'] > Consolidated_df_2100_test['mu+'+str(k)+'sigma']\n",
    "    Consolidated_df_2100_test['lt_mu-'+str(k)+'sigma'] = Consolidated_df_2100_test['score'] < Consolidated_df_2100_test['mu-'+str(k)+'sigma']\n",
    "    #Consolidated_df_2100_test.head()\n",
    "    Consolidated_df_2100_test.rename(columns={'score':'mean_score_90days'},inplace=True)\n",
    "    print('cell mean +- sigma calculation done for test period')\n",
    "    print(Consolidated_df_2100_test.head())\n",
    "    return Consolidated_df_2100_test,Consolidated_df_2100_build"
   ]
  },
  {
   "cell_type": "code",
   "execution_count": 27,
   "metadata": {},
   "outputs": [
    {
     "data": {
      "text/plain": [
       "[numpy.datetime64('2018-08-01T00:00:00.000000000'),\n",
       " numpy.datetime64('2018-08-02T00:00:00.000000000'),\n",
       " numpy.datetime64('2018-08-03T00:00:00.000000000'),\n",
       " numpy.datetime64('2018-08-04T00:00:00.000000000'),\n",
       " numpy.datetime64('2018-08-05T00:00:00.000000000'),\n",
       " numpy.datetime64('2018-08-06T00:00:00.000000000'),\n",
       " numpy.datetime64('2018-08-07T00:00:00.000000000'),\n",
       " numpy.datetime64('2018-08-08T00:00:00.000000000'),\n",
       " numpy.datetime64('2018-08-09T00:00:00.000000000'),\n",
       " numpy.datetime64('2018-08-10T00:00:00.000000000'),\n",
       " numpy.datetime64('2018-08-11T00:00:00.000000000'),\n",
       " numpy.datetime64('2018-08-12T00:00:00.000000000'),\n",
       " numpy.datetime64('2018-08-13T00:00:00.000000000'),\n",
       " numpy.datetime64('2018-08-14T00:00:00.000000000'),\n",
       " numpy.datetime64('2018-08-15T00:00:00.000000000'),\n",
       " numpy.datetime64('2018-08-16T00:00:00.000000000'),\n",
       " numpy.datetime64('2018-08-17T00:00:00.000000000'),\n",
       " numpy.datetime64('2018-08-18T00:00:00.000000000'),\n",
       " numpy.datetime64('2018-08-19T00:00:00.000000000'),\n",
       " numpy.datetime64('2018-08-20T00:00:00.000000000'),\n",
       " numpy.datetime64('2018-08-21T00:00:00.000000000'),\n",
       " numpy.datetime64('2018-08-22T00:00:00.000000000'),\n",
       " numpy.datetime64('2018-08-23T00:00:00.000000000'),\n",
       " numpy.datetime64('2018-08-24T00:00:00.000000000'),\n",
       " numpy.datetime64('2018-08-25T00:00:00.000000000'),\n",
       " numpy.datetime64('2018-08-26T00:00:00.000000000'),\n",
       " numpy.datetime64('2018-08-27T00:00:00.000000000'),\n",
       " numpy.datetime64('2018-08-28T00:00:00.000000000'),\n",
       " numpy.datetime64('2018-08-29T00:00:00.000000000'),\n",
       " numpy.datetime64('2018-08-30T00:00:00.000000000'),\n",
       " numpy.datetime64('2018-08-31T00:00:00.000000000'),\n",
       " numpy.datetime64('2018-09-01T00:00:00.000000000'),\n",
       " numpy.datetime64('2018-09-02T00:00:00.000000000'),\n",
       " numpy.datetime64('2018-09-03T00:00:00.000000000'),\n",
       " numpy.datetime64('2018-09-04T00:00:00.000000000'),\n",
       " numpy.datetime64('2018-09-05T00:00:00.000000000'),\n",
       " numpy.datetime64('2018-09-06T00:00:00.000000000'),\n",
       " numpy.datetime64('2018-09-07T00:00:00.000000000'),\n",
       " numpy.datetime64('2018-09-09T00:00:00.000000000'),\n",
       " numpy.datetime64('2018-09-10T00:00:00.000000000'),\n",
       " numpy.datetime64('2018-09-11T00:00:00.000000000'),\n",
       " numpy.datetime64('2018-09-12T00:00:00.000000000'),\n",
       " numpy.datetime64('2018-09-13T00:00:00.000000000'),\n",
       " numpy.datetime64('2018-09-14T00:00:00.000000000'),\n",
       " numpy.datetime64('2018-09-15T00:00:00.000000000'),\n",
       " numpy.datetime64('2018-09-16T00:00:00.000000000'),\n",
       " numpy.datetime64('2018-09-17T00:00:00.000000000'),\n",
       " numpy.datetime64('2018-09-18T00:00:00.000000000'),\n",
       " numpy.datetime64('2018-09-19T00:00:00.000000000'),\n",
       " numpy.datetime64('2018-09-20T00:00:00.000000000'),\n",
       " numpy.datetime64('2018-09-21T00:00:00.000000000'),\n",
       " numpy.datetime64('2018-09-22T00:00:00.000000000'),\n",
       " numpy.datetime64('2018-09-23T00:00:00.000000000'),\n",
       " numpy.datetime64('2018-09-24T00:00:00.000000000'),\n",
       " numpy.datetime64('2018-09-25T00:00:00.000000000'),\n",
       " numpy.datetime64('2018-09-26T00:00:00.000000000'),\n",
       " numpy.datetime64('2018-09-27T00:00:00.000000000'),\n",
       " numpy.datetime64('2018-09-28T00:00:00.000000000'),\n",
       " numpy.datetime64('2018-09-29T00:00:00.000000000'),\n",
       " numpy.datetime64('2018-09-30T00:00:00.000000000'),\n",
       " numpy.datetime64('2018-10-01T00:00:00.000000000'),\n",
       " numpy.datetime64('2018-10-02T00:00:00.000000000'),\n",
       " numpy.datetime64('2018-10-03T00:00:00.000000000'),\n",
       " numpy.datetime64('2018-10-04T00:00:00.000000000'),\n",
       " numpy.datetime64('2018-10-05T00:00:00.000000000'),\n",
       " numpy.datetime64('2018-10-06T00:00:00.000000000'),\n",
       " numpy.datetime64('2018-10-07T00:00:00.000000000'),\n",
       " numpy.datetime64('2018-10-08T00:00:00.000000000'),\n",
       " numpy.datetime64('2018-10-09T00:00:00.000000000'),\n",
       " numpy.datetime64('2018-10-10T00:00:00.000000000'),\n",
       " numpy.datetime64('2018-10-11T00:00:00.000000000'),\n",
       " numpy.datetime64('2018-10-12T00:00:00.000000000'),\n",
       " numpy.datetime64('2018-10-13T00:00:00.000000000'),\n",
       " numpy.datetime64('2018-10-14T00:00:00.000000000'),\n",
       " numpy.datetime64('2018-10-15T00:00:00.000000000'),\n",
       " numpy.datetime64('2018-10-16T00:00:00.000000000'),\n",
       " numpy.datetime64('2018-10-17T00:00:00.000000000'),\n",
       " numpy.datetime64('2018-10-18T00:00:00.000000000'),\n",
       " numpy.datetime64('2018-10-19T00:00:00.000000000'),\n",
       " numpy.datetime64('2018-10-20T00:00:00.000000000'),\n",
       " numpy.datetime64('2018-10-21T00:00:00.000000000'),\n",
       " numpy.datetime64('2018-10-22T00:00:00.000000000'),\n",
       " numpy.datetime64('2018-10-23T00:00:00.000000000'),\n",
       " numpy.datetime64('2018-10-24T00:00:00.000000000'),\n",
       " numpy.datetime64('2018-10-25T00:00:00.000000000'),\n",
       " numpy.datetime64('2018-10-26T00:00:00.000000000'),\n",
       " numpy.datetime64('2018-10-27T00:00:00.000000000'),\n",
       " numpy.datetime64('2018-10-28T00:00:00.000000000'),\n",
       " numpy.datetime64('2018-11-01T00:00:00.000000000'),\n",
       " numpy.datetime64('2018-11-02T00:00:00.000000000'),\n",
       " numpy.datetime64('2018-11-03T00:00:00.000000000'),\n",
       " numpy.datetime64('2018-11-04T00:00:00.000000000'),\n",
       " numpy.datetime64('2018-11-05T00:00:00.000000000'),\n",
       " numpy.datetime64('2018-11-06T00:00:00.000000000'),\n",
       " numpy.datetime64('2018-11-07T00:00:00.000000000'),\n",
       " numpy.datetime64('2018-11-08T00:00:00.000000000'),\n",
       " numpy.datetime64('2018-11-09T00:00:00.000000000'),\n",
       " numpy.datetime64('2018-11-10T00:00:00.000000000'),\n",
       " numpy.datetime64('2018-11-11T00:00:00.000000000'),\n",
       " numpy.datetime64('2018-11-12T00:00:00.000000000'),\n",
       " numpy.datetime64('2018-11-13T00:00:00.000000000'),\n",
       " numpy.datetime64('2018-11-14T00:00:00.000000000'),\n",
       " numpy.datetime64('2018-11-15T00:00:00.000000000'),\n",
       " numpy.datetime64('2018-11-16T00:00:00.000000000'),\n",
       " numpy.datetime64('2018-11-17T00:00:00.000000000'),\n",
       " numpy.datetime64('2018-11-18T00:00:00.000000000'),\n",
       " numpy.datetime64('2018-11-19T00:00:00.000000000'),\n",
       " numpy.datetime64('2018-11-20T00:00:00.000000000'),\n",
       " numpy.datetime64('2018-11-21T00:00:00.000000000'),\n",
       " numpy.datetime64('2018-11-22T00:00:00.000000000'),\n",
       " numpy.datetime64('2018-11-23T00:00:00.000000000'),\n",
       " numpy.datetime64('2018-11-24T00:00:00.000000000'),\n",
       " numpy.datetime64('2018-11-25T00:00:00.000000000'),\n",
       " numpy.datetime64('2018-11-26T00:00:00.000000000'),\n",
       " numpy.datetime64('2018-11-27T00:00:00.000000000'),\n",
       " numpy.datetime64('2018-11-29T00:00:00.000000000'),\n",
       " numpy.datetime64('2018-11-30T00:00:00.000000000'),\n",
       " numpy.datetime64('2018-12-01T00:00:00.000000000'),\n",
       " numpy.datetime64('2018-12-02T00:00:00.000000000'),\n",
       " numpy.datetime64('2018-12-03T00:00:00.000000000'),\n",
       " numpy.datetime64('2018-12-04T00:00:00.000000000'),\n",
       " numpy.datetime64('2018-12-05T00:00:00.000000000'),\n",
       " numpy.datetime64('2018-12-06T00:00:00.000000000'),\n",
       " numpy.datetime64('2018-12-07T00:00:00.000000000'),\n",
       " numpy.datetime64('2018-12-08T00:00:00.000000000'),\n",
       " numpy.datetime64('2018-12-09T00:00:00.000000000'),\n",
       " numpy.datetime64('2018-12-10T00:00:00.000000000'),\n",
       " numpy.datetime64('2018-12-11T00:00:00.000000000'),\n",
       " numpy.datetime64('2018-12-12T00:00:00.000000000'),\n",
       " numpy.datetime64('2018-12-13T00:00:00.000000000'),\n",
       " numpy.datetime64('2018-12-14T00:00:00.000000000'),\n",
       " numpy.datetime64('2018-12-15T00:00:00.000000000'),\n",
       " numpy.datetime64('2018-12-16T00:00:00.000000000'),\n",
       " numpy.datetime64('2018-12-17T00:00:00.000000000'),\n",
       " numpy.datetime64('2018-12-18T00:00:00.000000000'),\n",
       " numpy.datetime64('2018-12-19T00:00:00.000000000'),\n",
       " numpy.datetime64('2018-12-20T00:00:00.000000000'),\n",
       " numpy.datetime64('2018-12-21T00:00:00.000000000'),\n",
       " numpy.datetime64('2018-12-23T00:00:00.000000000'),\n",
       " numpy.datetime64('2018-12-24T00:00:00.000000000'),\n",
       " numpy.datetime64('2018-12-25T00:00:00.000000000'),\n",
       " numpy.datetime64('2018-12-26T00:00:00.000000000'),\n",
       " numpy.datetime64('2018-12-27T00:00:00.000000000'),\n",
       " numpy.datetime64('2018-12-28T00:00:00.000000000'),\n",
       " numpy.datetime64('2018-12-29T00:00:00.000000000'),\n",
       " numpy.datetime64('2018-12-30T00:00:00.000000000'),\n",
       " numpy.datetime64('2018-12-31T00:00:00.000000000'),\n",
       " numpy.datetime64('2019-01-01T00:00:00.000000000'),\n",
       " numpy.datetime64('2019-01-02T00:00:00.000000000'),\n",
       " numpy.datetime64('2019-01-03T00:00:00.000000000'),\n",
       " numpy.datetime64('2019-01-04T00:00:00.000000000'),\n",
       " numpy.datetime64('2019-01-05T00:00:00.000000000'),\n",
       " numpy.datetime64('2019-01-06T00:00:00.000000000'),\n",
       " numpy.datetime64('2019-01-07T00:00:00.000000000'),\n",
       " numpy.datetime64('2019-01-08T00:00:00.000000000'),\n",
       " numpy.datetime64('2019-01-09T00:00:00.000000000'),\n",
       " numpy.datetime64('2019-01-10T00:00:00.000000000'),\n",
       " numpy.datetime64('2019-01-11T00:00:00.000000000'),\n",
       " numpy.datetime64('2019-01-12T00:00:00.000000000'),\n",
       " numpy.datetime64('2019-01-13T00:00:00.000000000'),\n",
       " numpy.datetime64('2019-01-14T00:00:00.000000000'),\n",
       " numpy.datetime64('2019-01-15T00:00:00.000000000'),\n",
       " numpy.datetime64('2019-01-16T00:00:00.000000000'),\n",
       " numpy.datetime64('2019-01-23T00:00:00.000000000'),\n",
       " numpy.datetime64('2019-01-24T00:00:00.000000000'),\n",
       " numpy.datetime64('2019-01-25T00:00:00.000000000'),\n",
       " numpy.datetime64('2019-01-27T00:00:00.000000000'),\n",
       " numpy.datetime64('2019-01-28T00:00:00.000000000'),\n",
       " numpy.datetime64('2019-01-29T00:00:00.000000000'),\n",
       " numpy.datetime64('2019-01-30T00:00:00.000000000'),\n",
       " numpy.datetime64('2019-01-31T00:00:00.000000000'),\n",
       " numpy.datetime64('2019-02-01T00:00:00.000000000'),\n",
       " numpy.datetime64('2019-02-02T00:00:00.000000000'),\n",
       " numpy.datetime64('2019-02-03T00:00:00.000000000'),\n",
       " numpy.datetime64('2019-02-04T00:00:00.000000000'),\n",
       " numpy.datetime64('2019-02-05T00:00:00.000000000'),\n",
       " numpy.datetime64('2019-02-06T00:00:00.000000000'),\n",
       " numpy.datetime64('2019-02-07T00:00:00.000000000'),\n",
       " numpy.datetime64('2019-02-08T00:00:00.000000000'),\n",
       " numpy.datetime64('2019-02-11T00:00:00.000000000'),\n",
       " numpy.datetime64('2019-02-12T00:00:00.000000000'),\n",
       " numpy.datetime64('2019-02-13T00:00:00.000000000'),\n",
       " numpy.datetime64('2019-02-14T00:00:00.000000000'),\n",
       " numpy.datetime64('2019-02-15T00:00:00.000000000'),\n",
       " numpy.datetime64('2019-02-16T00:00:00.000000000'),\n",
       " numpy.datetime64('2019-02-18T00:00:00.000000000'),\n",
       " numpy.datetime64('2019-02-19T00:00:00.000000000'),\n",
       " numpy.datetime64('2019-03-01T00:00:00.000000000'),\n",
       " numpy.datetime64('2019-03-02T00:00:00.000000000'),\n",
       " numpy.datetime64('2019-03-03T00:00:00.000000000'),\n",
       " numpy.datetime64('2019-03-04T00:00:00.000000000'),\n",
       " numpy.datetime64('2019-03-05T00:00:00.000000000'),\n",
       " numpy.datetime64('2019-03-06T00:00:00.000000000'),\n",
       " numpy.datetime64('2019-03-07T00:00:00.000000000'),\n",
       " numpy.datetime64('2019-03-08T00:00:00.000000000'),\n",
       " numpy.datetime64('2019-03-09T00:00:00.000000000'),\n",
       " numpy.datetime64('2019-03-10T00:00:00.000000000'),\n",
       " numpy.datetime64('2019-03-11T00:00:00.000000000'),\n",
       " numpy.datetime64('2019-03-12T00:00:00.000000000'),\n",
       " numpy.datetime64('2019-03-13T00:00:00.000000000'),\n",
       " numpy.datetime64('2019-03-14T00:00:00.000000000'),\n",
       " numpy.datetime64('2019-03-15T00:00:00.000000000'),\n",
       " numpy.datetime64('2019-03-16T00:00:00.000000000'),\n",
       " numpy.datetime64('2019-03-17T00:00:00.000000000'),\n",
       " numpy.datetime64('2019-03-18T00:00:00.000000000'),\n",
       " numpy.datetime64('2019-03-19T00:00:00.000000000'),\n",
       " numpy.datetime64('2019-03-20T00:00:00.000000000'),\n",
       " numpy.datetime64('2019-03-21T00:00:00.000000000'),\n",
       " numpy.datetime64('2019-03-22T00:00:00.000000000'),\n",
       " numpy.datetime64('2019-03-24T00:00:00.000000000'),\n",
       " numpy.datetime64('2019-03-25T00:00:00.000000000'),\n",
       " numpy.datetime64('2019-03-26T00:00:00.000000000'),\n",
       " numpy.datetime64('2019-03-27T00:00:00.000000000'),\n",
       " numpy.datetime64('2019-03-28T00:00:00.000000000'),\n",
       " numpy.datetime64('2019-03-29T00:00:00.000000000'),\n",
       " numpy.datetime64('2019-03-30T00:00:00.000000000'),\n",
       " numpy.datetime64('2019-03-31T00:00:00.000000000'),\n",
       " numpy.datetime64('2019-04-01T00:00:00.000000000'),\n",
       " numpy.datetime64('2019-04-02T00:00:00.000000000'),\n",
       " numpy.datetime64('2019-04-03T00:00:00.000000000'),\n",
       " numpy.datetime64('2019-04-04T00:00:00.000000000'),\n",
       " numpy.datetime64('2019-04-05T00:00:00.000000000'),\n",
       " numpy.datetime64('2019-04-06T00:00:00.000000000'),\n",
       " numpy.datetime64('2019-04-07T00:00:00.000000000'),\n",
       " numpy.datetime64('2019-04-08T00:00:00.000000000'),\n",
       " numpy.datetime64('2019-04-09T00:00:00.000000000'),\n",
       " numpy.datetime64('2019-04-10T00:00:00.000000000'),\n",
       " numpy.datetime64('2019-04-11T00:00:00.000000000'),\n",
       " numpy.datetime64('2019-04-12T00:00:00.000000000'),\n",
       " numpy.datetime64('2019-04-13T00:00:00.000000000'),\n",
       " numpy.datetime64('2019-04-14T00:00:00.000000000'),\n",
       " numpy.datetime64('2019-04-15T00:00:00.000000000'),\n",
       " numpy.datetime64('2019-04-16T00:00:00.000000000'),\n",
       " numpy.datetime64('2019-04-17T00:00:00.000000000'),\n",
       " numpy.datetime64('2019-04-18T00:00:00.000000000'),\n",
       " numpy.datetime64('2019-04-19T00:00:00.000000000'),\n",
       " numpy.datetime64('2019-04-20T00:00:00.000000000'),\n",
       " numpy.datetime64('2019-04-21T00:00:00.000000000'),\n",
       " numpy.datetime64('2019-04-22T00:00:00.000000000'),\n",
       " numpy.datetime64('2019-04-23T00:00:00.000000000'),\n",
       " numpy.datetime64('2019-04-24T00:00:00.000000000'),\n",
       " numpy.datetime64('2019-04-25T00:00:00.000000000'),\n",
       " numpy.datetime64('2019-04-26T00:00:00.000000000'),\n",
       " numpy.datetime64('2019-04-27T00:00:00.000000000'),\n",
       " numpy.datetime64('2019-04-28T00:00:00.000000000'),\n",
       " numpy.datetime64('2019-04-29T00:00:00.000000000'),\n",
       " numpy.datetime64('2019-04-30T00:00:00.000000000'),\n",
       " numpy.datetime64('2019-05-01T00:00:00.000000000'),\n",
       " numpy.datetime64('2019-05-02T00:00:00.000000000'),\n",
       " numpy.datetime64('2019-05-03T00:00:00.000000000'),\n",
       " numpy.datetime64('2019-05-04T00:00:00.000000000'),\n",
       " numpy.datetime64('2019-05-09T00:00:00.000000000'),\n",
       " numpy.datetime64('2019-05-10T00:00:00.000000000'),\n",
       " numpy.datetime64('2019-05-11T00:00:00.000000000'),\n",
       " numpy.datetime64('2019-05-12T00:00:00.000000000'),\n",
       " numpy.datetime64('2019-05-13T00:00:00.000000000'),\n",
       " numpy.datetime64('2019-05-14T00:00:00.000000000'),\n",
       " numpy.datetime64('2019-05-15T00:00:00.000000000'),\n",
       " numpy.datetime64('2019-05-16T00:00:00.000000000'),\n",
       " numpy.datetime64('2019-05-17T00:00:00.000000000'),\n",
       " numpy.datetime64('2019-05-18T00:00:00.000000000'),\n",
       " numpy.datetime64('2019-05-19T00:00:00.000000000'),\n",
       " numpy.datetime64('2019-05-20T00:00:00.000000000'),\n",
       " numpy.datetime64('2019-05-21T00:00:00.000000000'),\n",
       " numpy.datetime64('2019-05-22T00:00:00.000000000'),\n",
       " numpy.datetime64('2019-05-23T00:00:00.000000000'),\n",
       " numpy.datetime64('2019-05-24T00:00:00.000000000'),\n",
       " numpy.datetime64('2019-05-25T00:00:00.000000000'),\n",
       " numpy.datetime64('2019-05-26T00:00:00.000000000')]"
      ]
     },
     "execution_count": 27,
     "metadata": {},
     "output_type": "execute_result"
    }
   ],
   "source": [
    "sorted(df.date.unique())"
   ]
  },
  {
   "cell_type": "code",
   "execution_count": 28,
   "metadata": {},
   "outputs": [
    {
     "name": "stdout",
     "output_type": "stream",
     "text": [
      "['2019-01-11', '2019-01-12', '2019-01-13', '2019-01-14', '2019-01-15', '2019-01-16', '2019-01-23', '2019-01-24', '2019-01-25', '2019-01-27', '2019-01-28', '2019-01-29', '2019-01-30', '2019-01-31', '2019-02-01', '2019-02-02', '2019-02-03', '2019-02-04', '2019-02-05', '2019-02-06', '2019-02-07', '2019-02-08', '2019-02-11', '2019-02-12', '2019-02-13', '2019-02-14', '2019-02-15', '2019-02-16', '2019-02-18', '2019-02-19']\n",
      "2018-10-08\n"
     ]
    },
    {
     "name": "stderr",
     "output_type": "stream",
     "text": [
      "C:\\Users\\ezchave\\AppData\\Local\\Continuum\\anaconda3\\lib\\site-packages\\ipykernel_launcher.py:41: SettingWithCopyWarning: \n",
      "A value is trying to be set on a copy of a slice from a DataFrame.\n",
      "Try using .loc[row_indexer,col_indexer] = value instead\n",
      "\n",
      "See the caveats in the documentation: http://pandas.pydata.org/pandas-docs/stable/indexing.html#indexing-view-versus-copy\n"
     ]
    },
    {
     "name": "stdout",
     "output_type": "stream",
     "text": [
      "  cell_name_anon      band                score        date rank  \\\n",
      "0      cell-7563  band2100                -1.30  2018-10-08    1   \n",
      "1      cell-7656  band2100                -0.92  2018-10-08    2   \n",
      "\n",
      "            percentile  \n",
      "0                99.98  \n",
      "1                99.95  \n",
      "  cell_name_anon     band                score        date rank  \\\n",
      "0      cell-3028  band700                -1.10  2018-10-08    1   \n",
      "1      cell-3983  band700                -1.07  2018-10-08    2   \n",
      "\n",
      "            percentile  \n",
      "0                99.97  \n",
      "1                99.93  \n",
      "2018-10-09\n"
     ]
    },
    {
     "name": "stderr",
     "output_type": "stream",
     "text": [
      "C:\\Users\\ezchave\\AppData\\Local\\Continuum\\anaconda3\\lib\\site-packages\\ipykernel_launcher.py:41: SettingWithCopyWarning: \n",
      "A value is trying to be set on a copy of a slice from a DataFrame.\n",
      "Try using .loc[row_indexer,col_indexer] = value instead\n",
      "\n",
      "See the caveats in the documentation: http://pandas.pydata.org/pandas-docs/stable/indexing.html#indexing-view-versus-copy\n"
     ]
    },
    {
     "name": "stdout",
     "output_type": "stream",
     "text": [
      "  cell_name_anon      band                score        date rank  \\\n",
      "0      cell-8754  band2100                -0.51  2018-10-09    1   \n",
      "1      cell-6500  band2100                -0.50  2018-10-09    2   \n",
      "\n",
      "            percentile  \n",
      "0                99.98  \n",
      "1                99.95  \n",
      "  cell_name_anon     band                score        date rank  \\\n",
      "0      cell-3213  band700                -1.12  2018-10-09    1   \n",
      "1      cell-3028  band700                -1.11  2018-10-09    2   \n",
      "\n",
      "            percentile  \n",
      "0                99.97  \n",
      "1                99.93  \n",
      "2018-10-10\n"
     ]
    },
    {
     "name": "stderr",
     "output_type": "stream",
     "text": [
      "C:\\Users\\ezchave\\AppData\\Local\\Continuum\\anaconda3\\lib\\site-packages\\ipykernel_launcher.py:41: SettingWithCopyWarning: \n",
      "A value is trying to be set on a copy of a slice from a DataFrame.\n",
      "Try using .loc[row_indexer,col_indexer] = value instead\n",
      "\n",
      "See the caveats in the documentation: http://pandas.pydata.org/pandas-docs/stable/indexing.html#indexing-view-versus-copy\n"
     ]
    },
    {
     "name": "stdout",
     "output_type": "stream",
     "text": [
      "  cell_name_anon      band                score        date rank  \\\n",
      "0      cell-5999  band2100                -0.70  2018-10-10    1   \n",
      "1      cell-8012  band2100                -0.66  2018-10-10    2   \n",
      "\n",
      "            percentile  \n",
      "0                99.98  \n",
      "1                99.95  \n",
      "  cell_name_anon     band                score        date rank  \\\n",
      "0      cell-3213  band700                -1.15  2018-10-10    1   \n",
      "1      cell-4249  band700                -1.07  2018-10-10    2   \n",
      "\n",
      "            percentile  \n",
      "0                99.97  \n",
      "1                99.93  \n",
      "2018-10-11\n"
     ]
    },
    {
     "name": "stderr",
     "output_type": "stream",
     "text": [
      "C:\\Users\\ezchave\\AppData\\Local\\Continuum\\anaconda3\\lib\\site-packages\\ipykernel_launcher.py:41: SettingWithCopyWarning: \n",
      "A value is trying to be set on a copy of a slice from a DataFrame.\n",
      "Try using .loc[row_indexer,col_indexer] = value instead\n",
      "\n",
      "See the caveats in the documentation: http://pandas.pydata.org/pandas-docs/stable/indexing.html#indexing-view-versus-copy\n"
     ]
    },
    {
     "name": "stdout",
     "output_type": "stream",
     "text": [
      "  cell_name_anon      band                score        date rank  \\\n",
      "0      cell-5733  band2100                -0.64  2018-10-11    1   \n",
      "1      cell-7455  band2100                -0.62  2018-10-11    2   \n",
      "\n",
      "            percentile  \n",
      "0                99.98  \n",
      "1                99.95  \n",
      "  cell_name_anon     band                score        date rank  \\\n",
      "0      cell-2266  band700                -1.21  2018-10-11    1   \n",
      "1      cell-3213  band700                -1.06  2018-10-11    2   \n",
      "\n",
      "            percentile  \n",
      "0                99.97  \n",
      "1                99.93  \n",
      "2018-10-12\n"
     ]
    },
    {
     "name": "stderr",
     "output_type": "stream",
     "text": [
      "C:\\Users\\ezchave\\AppData\\Local\\Continuum\\anaconda3\\lib\\site-packages\\ipykernel_launcher.py:41: SettingWithCopyWarning: \n",
      "A value is trying to be set on a copy of a slice from a DataFrame.\n",
      "Try using .loc[row_indexer,col_indexer] = value instead\n",
      "\n",
      "See the caveats in the documentation: http://pandas.pydata.org/pandas-docs/stable/indexing.html#indexing-view-versus-copy\n"
     ]
    },
    {
     "name": "stdout",
     "output_type": "stream",
     "text": [
      "  cell_name_anon      band                score        date rank  \\\n",
      "0      cell-9026  band2100                -0.85  2018-10-12    1   \n",
      "1      cell-7147  band2100                -0.79  2018-10-12    2   \n",
      "\n",
      "            percentile  \n",
      "0                99.98  \n",
      "1                99.95  \n",
      "  cell_name_anon     band                score        date rank  \\\n",
      "0      cell-2266  band700                -1.10  2018-10-12    1   \n",
      "1      cell-2639  band700                -1.04  2018-10-12    2   \n",
      "\n",
      "            percentile  \n",
      "0                99.97  \n",
      "1                99.93  \n",
      "2018-10-13\n"
     ]
    },
    {
     "name": "stderr",
     "output_type": "stream",
     "text": [
      "C:\\Users\\ezchave\\AppData\\Local\\Continuum\\anaconda3\\lib\\site-packages\\ipykernel_launcher.py:41: SettingWithCopyWarning: \n",
      "A value is trying to be set on a copy of a slice from a DataFrame.\n",
      "Try using .loc[row_indexer,col_indexer] = value instead\n",
      "\n",
      "See the caveats in the documentation: http://pandas.pydata.org/pandas-docs/stable/indexing.html#indexing-view-versus-copy\n"
     ]
    },
    {
     "name": "stdout",
     "output_type": "stream",
     "text": [
      "  cell_name_anon      band                score        date rank  \\\n",
      "0      cell-9026  band2100                -0.85  2018-10-13    1   \n",
      "1      cell-6465  band2100                -0.73  2018-10-13    2   \n",
      "\n",
      "            percentile  \n",
      "0                99.98  \n",
      "1                99.95  \n",
      "  cell_name_anon     band                score        date rank  \\\n",
      "0      cell-2266  band700                -1.02  2018-10-13    1   \n",
      "1      cell-2210  band700                -1.00  2018-10-13    2   \n",
      "\n",
      "            percentile  \n",
      "0                99.97  \n",
      "1                99.93  \n",
      "2018-10-14\n"
     ]
    },
    {
     "name": "stderr",
     "output_type": "stream",
     "text": [
      "C:\\Users\\ezchave\\AppData\\Local\\Continuum\\anaconda3\\lib\\site-packages\\ipykernel_launcher.py:41: SettingWithCopyWarning: \n",
      "A value is trying to be set on a copy of a slice from a DataFrame.\n",
      "Try using .loc[row_indexer,col_indexer] = value instead\n",
      "\n",
      "See the caveats in the documentation: http://pandas.pydata.org/pandas-docs/stable/indexing.html#indexing-view-versus-copy\n"
     ]
    },
    {
     "name": "stdout",
     "output_type": "stream",
     "text": [
      "  cell_name_anon      band                score        date rank  \\\n",
      "0      cell-9026  band2100                -0.84  2018-10-14    1   \n",
      "1      cell-8705  band2100                -0.77  2018-10-14    2   \n",
      "\n",
      "            percentile  \n",
      "0                99.98  \n",
      "1                99.95  \n",
      "  cell_name_anon     band                score        date rank  \\\n",
      "0      cell-2266  band700                -1.02  2018-10-14    1   \n",
      "1      cell-4486  band700                -1.00  2018-10-14    2   \n",
      "\n",
      "            percentile  \n",
      "0                99.97  \n",
      "1                99.93  \n",
      "2018-10-15\n"
     ]
    },
    {
     "name": "stderr",
     "output_type": "stream",
     "text": [
      "C:\\Users\\ezchave\\AppData\\Local\\Continuum\\anaconda3\\lib\\site-packages\\ipykernel_launcher.py:41: SettingWithCopyWarning: \n",
      "A value is trying to be set on a copy of a slice from a DataFrame.\n",
      "Try using .loc[row_indexer,col_indexer] = value instead\n",
      "\n",
      "See the caveats in the documentation: http://pandas.pydata.org/pandas-docs/stable/indexing.html#indexing-view-versus-copy\n"
     ]
    },
    {
     "name": "stdout",
     "output_type": "stream",
     "text": [
      "  cell_name_anon      band                score        date rank  \\\n",
      "0      cell-9026  band2100                -0.80  2018-10-15    1   \n",
      "1      cell-8705  band2100                -0.77  2018-10-15    2   \n",
      "\n",
      "            percentile  \n",
      "0                99.98  \n",
      "1                99.95  \n",
      "  cell_name_anon     band                score        date rank  \\\n",
      "0      cell-4394  band700                -1.00  2018-10-15    1   \n",
      "1      cell-2210  band700                -0.98  2018-10-15    2   \n",
      "\n",
      "            percentile  \n",
      "0                99.97  \n",
      "1                99.93  \n",
      "2018-10-16\n"
     ]
    },
    {
     "name": "stderr",
     "output_type": "stream",
     "text": [
      "C:\\Users\\ezchave\\AppData\\Local\\Continuum\\anaconda3\\lib\\site-packages\\ipykernel_launcher.py:41: SettingWithCopyWarning: \n",
      "A value is trying to be set on a copy of a slice from a DataFrame.\n",
      "Try using .loc[row_indexer,col_indexer] = value instead\n",
      "\n",
      "See the caveats in the documentation: http://pandas.pydata.org/pandas-docs/stable/indexing.html#indexing-view-versus-copy\n"
     ]
    },
    {
     "name": "stdout",
     "output_type": "stream",
     "text": [
      "  cell_name_anon      band                score        date rank  \\\n",
      "0      cell-9026  band2100                -0.93  2018-10-16    1   \n",
      "1      cell-8705  band2100                -0.81  2018-10-16    2   \n",
      "\n",
      "            percentile  \n",
      "0                99.98  \n",
      "1                99.95  \n",
      "  cell_name_anon     band                score        date rank  \\\n",
      "0      cell-4008  band700                -1.02  2018-10-16    1   \n",
      "1      cell-4620  band700                -1.01  2018-10-16    2   \n",
      "\n",
      "            percentile  \n",
      "0                99.97  \n",
      "1                99.93  \n",
      "2018-10-17\n"
     ]
    },
    {
     "name": "stderr",
     "output_type": "stream",
     "text": [
      "C:\\Users\\ezchave\\AppData\\Local\\Continuum\\anaconda3\\lib\\site-packages\\ipykernel_launcher.py:41: SettingWithCopyWarning: \n",
      "A value is trying to be set on a copy of a slice from a DataFrame.\n",
      "Try using .loc[row_indexer,col_indexer] = value instead\n",
      "\n",
      "See the caveats in the documentation: http://pandas.pydata.org/pandas-docs/stable/indexing.html#indexing-view-versus-copy\n"
     ]
    },
    {
     "name": "stdout",
     "output_type": "stream",
     "text": [
      "  cell_name_anon      band                score        date rank  \\\n",
      "0      cell-9026  band2100                -0.97  2018-10-17    1   \n",
      "1      cell-8705  band2100                -0.75  2018-10-17    2   \n",
      "\n",
      "            percentile  \n",
      "0                99.98  \n",
      "1                99.95  \n",
      "  cell_name_anon     band                score        date rank  \\\n",
      "0      cell-4394  band700                -1.04  2018-10-17    1   \n",
      "1      cell-3593  band700                -1.00  2018-10-17    2   \n",
      "\n",
      "            percentile  \n",
      "0                99.97  \n",
      "1                99.93  \n",
      "2018-10-18\n"
     ]
    },
    {
     "name": "stderr",
     "output_type": "stream",
     "text": [
      "C:\\Users\\ezchave\\AppData\\Local\\Continuum\\anaconda3\\lib\\site-packages\\ipykernel_launcher.py:41: SettingWithCopyWarning: \n",
      "A value is trying to be set on a copy of a slice from a DataFrame.\n",
      "Try using .loc[row_indexer,col_indexer] = value instead\n",
      "\n",
      "See the caveats in the documentation: http://pandas.pydata.org/pandas-docs/stable/indexing.html#indexing-view-versus-copy\n"
     ]
    },
    {
     "name": "stdout",
     "output_type": "stream",
     "text": [
      "  cell_name_anon      band                score        date rank  \\\n",
      "0      cell-9026  band2100                -1.05  2018-10-18    1   \n",
      "1      cell-8705  band2100                -0.71  2018-10-18    2   \n",
      "\n",
      "            percentile  \n",
      "0                99.98  \n",
      "1                99.95  \n",
      "  cell_name_anon     band                score        date rank  \\\n",
      "0      cell-3308  band700                -1.00  2018-10-18    1   \n",
      "1      cell-3138  band700                -1.00  2018-10-18    2   \n",
      "\n",
      "            percentile  \n",
      "0                99.97  \n",
      "1                99.93  \n",
      "2018-10-19\n"
     ]
    },
    {
     "name": "stderr",
     "output_type": "stream",
     "text": [
      "C:\\Users\\ezchave\\AppData\\Local\\Continuum\\anaconda3\\lib\\site-packages\\ipykernel_launcher.py:41: SettingWithCopyWarning: \n",
      "A value is trying to be set on a copy of a slice from a DataFrame.\n",
      "Try using .loc[row_indexer,col_indexer] = value instead\n",
      "\n",
      "See the caveats in the documentation: http://pandas.pydata.org/pandas-docs/stable/indexing.html#indexing-view-versus-copy\n"
     ]
    },
    {
     "name": "stdout",
     "output_type": "stream",
     "text": [
      "  cell_name_anon      band                score        date rank  \\\n",
      "0      cell-9026  band2100                -1.09  2018-10-19    1   \n",
      "1      cell-8766  band2100                -0.93  2018-10-19    2   \n",
      "\n",
      "            percentile  \n",
      "0                99.98  \n",
      "1                99.95  \n",
      "  cell_name_anon     band                score        date rank  \\\n",
      "0      cell-2639  band700                -1.66  2018-10-19    1   \n",
      "1      cell-3591  band700                -1.35  2018-10-19    2   \n",
      "\n",
      "            percentile  \n",
      "0                99.97  \n",
      "1                99.93  \n",
      "2018-10-20\n"
     ]
    },
    {
     "name": "stderr",
     "output_type": "stream",
     "text": [
      "C:\\Users\\ezchave\\AppData\\Local\\Continuum\\anaconda3\\lib\\site-packages\\ipykernel_launcher.py:41: SettingWithCopyWarning: \n",
      "A value is trying to be set on a copy of a slice from a DataFrame.\n",
      "Try using .loc[row_indexer,col_indexer] = value instead\n",
      "\n",
      "See the caveats in the documentation: http://pandas.pydata.org/pandas-docs/stable/indexing.html#indexing-view-versus-copy\n"
     ]
    },
    {
     "name": "stdout",
     "output_type": "stream",
     "text": [
      "  cell_name_anon      band                score        date rank  \\\n",
      "0      cell-9026  band2100                -1.50  2018-10-20    1   \n",
      "1      cell-7831  band2100                -1.09  2018-10-20    2   \n",
      "\n",
      "            percentile  \n",
      "0                99.98  \n",
      "1                99.95  \n",
      "  cell_name_anon     band                score        date rank  \\\n",
      "0      cell-5061  band700                -1.11  2018-10-20    1   \n",
      "1      cell-3593  band700                -1.11  2018-10-20    2   \n",
      "\n",
      "            percentile  \n",
      "0                99.97  \n",
      "1                99.93  \n",
      "2018-10-21\n"
     ]
    },
    {
     "name": "stderr",
     "output_type": "stream",
     "text": [
      "C:\\Users\\ezchave\\AppData\\Local\\Continuum\\anaconda3\\lib\\site-packages\\ipykernel_launcher.py:41: SettingWithCopyWarning: \n",
      "A value is trying to be set on a copy of a slice from a DataFrame.\n",
      "Try using .loc[row_indexer,col_indexer] = value instead\n",
      "\n",
      "See the caveats in the documentation: http://pandas.pydata.org/pandas-docs/stable/indexing.html#indexing-view-versus-copy\n"
     ]
    },
    {
     "name": "stdout",
     "output_type": "stream",
     "text": [
      "  cell_name_anon      band                score        date rank  \\\n",
      "0      cell-9026  band2100                -1.41  2018-10-21    1   \n",
      "1      cell-7831  band2100                -1.01  2018-10-21    2   \n",
      "\n",
      "            percentile  \n",
      "0                99.98  \n",
      "1                99.95  \n",
      "  cell_name_anon     band                score        date rank  \\\n",
      "0      cell-3138  band700                -1.12  2018-10-21    1   \n",
      "1      cell-2688  band700                -1.10  2018-10-21    2   \n",
      "\n",
      "            percentile  \n",
      "0                99.97  \n",
      "1                99.93  \n",
      "2018-10-22\n"
     ]
    },
    {
     "name": "stderr",
     "output_type": "stream",
     "text": [
      "C:\\Users\\ezchave\\AppData\\Local\\Continuum\\anaconda3\\lib\\site-packages\\ipykernel_launcher.py:41: SettingWithCopyWarning: \n",
      "A value is trying to be set on a copy of a slice from a DataFrame.\n",
      "Try using .loc[row_indexer,col_indexer] = value instead\n",
      "\n",
      "See the caveats in the documentation: http://pandas.pydata.org/pandas-docs/stable/indexing.html#indexing-view-versus-copy\n"
     ]
    },
    {
     "name": "stdout",
     "output_type": "stream",
     "text": [
      "  cell_name_anon      band                score        date rank  \\\n",
      "0      cell-9026  band2100                -1.24  2018-10-22    1   \n",
      "1      cell-7831  band2100                -0.75  2018-10-22    2   \n",
      "\n",
      "            percentile  \n",
      "0                99.98  \n",
      "1                99.95  \n",
      "  cell_name_anon     band                score        date rank  \\\n",
      "0      cell-2688  band700                -1.13  2018-10-22    1   \n",
      "1      cell-3737  band700                -1.09  2018-10-22    2   \n",
      "\n",
      "            percentile  \n",
      "0                99.97  \n",
      "1                99.93  \n",
      "2018-10-23\n"
     ]
    },
    {
     "name": "stderr",
     "output_type": "stream",
     "text": [
      "C:\\Users\\ezchave\\AppData\\Local\\Continuum\\anaconda3\\lib\\site-packages\\ipykernel_launcher.py:41: SettingWithCopyWarning: \n",
      "A value is trying to be set on a copy of a slice from a DataFrame.\n",
      "Try using .loc[row_indexer,col_indexer] = value instead\n",
      "\n",
      "See the caveats in the documentation: http://pandas.pydata.org/pandas-docs/stable/indexing.html#indexing-view-versus-copy\n"
     ]
    },
    {
     "name": "stdout",
     "output_type": "stream",
     "text": [
      "  cell_name_anon      band                score        date rank  \\\n",
      "0      cell-7640  band2100                -0.77  2018-10-23    1   \n",
      "1      cell-9043  band2100                -0.72  2018-10-23    2   \n",
      "\n",
      "            percentile  \n",
      "0                99.98  \n",
      "1                99.95  \n",
      "  cell_name_anon     band                score        date rank  \\\n",
      "0      cell-2688  band700                -1.06  2018-10-23    1   \n",
      "1      cell-2266  band700                -1.06  2018-10-23    2   \n",
      "\n",
      "            percentile  \n",
      "0                99.97  \n",
      "1                99.93  \n",
      "2018-10-24\n"
     ]
    },
    {
     "name": "stderr",
     "output_type": "stream",
     "text": [
      "C:\\Users\\ezchave\\AppData\\Local\\Continuum\\anaconda3\\lib\\site-packages\\ipykernel_launcher.py:41: SettingWithCopyWarning: \n",
      "A value is trying to be set on a copy of a slice from a DataFrame.\n",
      "Try using .loc[row_indexer,col_indexer] = value instead\n",
      "\n",
      "See the caveats in the documentation: http://pandas.pydata.org/pandas-docs/stable/indexing.html#indexing-view-versus-copy\n"
     ]
    },
    {
     "name": "stdout",
     "output_type": "stream",
     "text": [
      "  cell_name_anon      band                score        date rank  \\\n",
      "0      cell-7831  band2100                -0.77  2018-10-24    1   \n",
      "1      cell-5590  band2100                -0.77  2018-10-24    2   \n",
      "\n",
      "            percentile  \n",
      "0                99.98  \n",
      "1                99.95  \n",
      "  cell_name_anon     band                score        date rank  \\\n",
      "0      cell-3218  band700                -1.27  2018-10-24    1   \n",
      "1      cell-3138  band700                -1.11  2018-10-24    2   \n",
      "\n",
      "            percentile  \n",
      "0                99.97  \n",
      "1                99.93  \n",
      "2018-10-25\n"
     ]
    },
    {
     "name": "stderr",
     "output_type": "stream",
     "text": [
      "C:\\Users\\ezchave\\AppData\\Local\\Continuum\\anaconda3\\lib\\site-packages\\ipykernel_launcher.py:41: SettingWithCopyWarning: \n",
      "A value is trying to be set on a copy of a slice from a DataFrame.\n",
      "Try using .loc[row_indexer,col_indexer] = value instead\n",
      "\n",
      "See the caveats in the documentation: http://pandas.pydata.org/pandas-docs/stable/indexing.html#indexing-view-versus-copy\n"
     ]
    },
    {
     "name": "stdout",
     "output_type": "stream",
     "text": [
      "  cell_name_anon      band                score        date rank  \\\n",
      "0      cell-7147  band2100                -0.68  2018-10-25    1   \n",
      "1      cell-5590  band2100                -0.64  2018-10-25    2   \n",
      "\n",
      "            percentile  \n",
      "0                99.98  \n",
      "1                99.95  \n",
      "  cell_name_anon     band                score        date rank  \\\n",
      "0      cell-2266  band700                -1.10  2018-10-25    1   \n",
      "1      cell-2688  band700                -1.09  2018-10-25    2   \n",
      "\n",
      "            percentile  \n",
      "0                99.97  \n",
      "1                99.93  \n",
      "2018-10-26\n"
     ]
    },
    {
     "name": "stderr",
     "output_type": "stream",
     "text": [
      "C:\\Users\\ezchave\\AppData\\Local\\Continuum\\anaconda3\\lib\\site-packages\\ipykernel_launcher.py:41: SettingWithCopyWarning: \n",
      "A value is trying to be set on a copy of a slice from a DataFrame.\n",
      "Try using .loc[row_indexer,col_indexer] = value instead\n",
      "\n",
      "See the caveats in the documentation: http://pandas.pydata.org/pandas-docs/stable/indexing.html#indexing-view-versus-copy\n"
     ]
    },
    {
     "name": "stdout",
     "output_type": "stream",
     "text": [
      "  cell_name_anon      band                score        date rank  \\\n",
      "0      cell-7147  band2100                -0.71  2018-10-26    1   \n",
      "1      cell-5590  band2100                -0.70  2018-10-26    2   \n",
      "\n",
      "            percentile  \n",
      "0                99.98  \n",
      "1                99.95  \n",
      "  cell_name_anon     band                score        date rank  \\\n",
      "0      cell-3728  band700                -1.52  2018-10-26    1   \n",
      "1      cell-3741  band700                -1.51  2018-10-26    2   \n",
      "\n",
      "            percentile  \n",
      "0                99.97  \n",
      "1                99.93  \n",
      "2018-10-27\n"
     ]
    },
    {
     "name": "stderr",
     "output_type": "stream",
     "text": [
      "C:\\Users\\ezchave\\AppData\\Local\\Continuum\\anaconda3\\lib\\site-packages\\ipykernel_launcher.py:41: SettingWithCopyWarning: \n",
      "A value is trying to be set on a copy of a slice from a DataFrame.\n",
      "Try using .loc[row_indexer,col_indexer] = value instead\n",
      "\n",
      "See the caveats in the documentation: http://pandas.pydata.org/pandas-docs/stable/indexing.html#indexing-view-versus-copy\n"
     ]
    },
    {
     "name": "stdout",
     "output_type": "stream",
     "text": [
      "  cell_name_anon      band                score        date rank  \\\n",
      "0      cell-8756  band2100                -0.79  2018-10-27    1   \n",
      "1      cell-6334  band2100                -0.70  2018-10-27    2   \n",
      "\n",
      "            percentile  \n",
      "0                99.98  \n",
      "1                99.95  \n",
      "  cell_name_anon     band                score        date rank  \\\n",
      "0      cell-2639  band700                -1.71  2018-10-27    1   \n",
      "1      cell-3741  band700                -1.60  2018-10-27    2   \n",
      "\n",
      "            percentile  \n",
      "0                99.97  \n",
      "1                99.93  \n",
      "2018-10-28\n"
     ]
    },
    {
     "name": "stderr",
     "output_type": "stream",
     "text": [
      "C:\\Users\\ezchave\\AppData\\Local\\Continuum\\anaconda3\\lib\\site-packages\\ipykernel_launcher.py:41: SettingWithCopyWarning: \n",
      "A value is trying to be set on a copy of a slice from a DataFrame.\n",
      "Try using .loc[row_indexer,col_indexer] = value instead\n",
      "\n",
      "See the caveats in the documentation: http://pandas.pydata.org/pandas-docs/stable/indexing.html#indexing-view-versus-copy\n"
     ]
    },
    {
     "name": "stdout",
     "output_type": "stream",
     "text": [
      "  cell_name_anon      band                score        date rank  \\\n",
      "0      cell-6334  band2100                -0.69  2018-10-28    1   \n",
      "1      cell-5590  band2100                -0.64  2018-10-28    2   \n",
      "\n",
      "            percentile  \n",
      "0                99.98  \n",
      "1                99.95  \n",
      "  cell_name_anon     band                score        date rank  \\\n",
      "0      cell-2639  band700                -1.60  2018-10-28    1   \n",
      "1      cell-2266  band700                -1.45  2018-10-28    2   \n",
      "\n",
      "            percentile  \n",
      "0                99.97  \n",
      "1                99.93  \n",
      "2018-11-01\n"
     ]
    },
    {
     "name": "stderr",
     "output_type": "stream",
     "text": [
      "C:\\Users\\ezchave\\AppData\\Local\\Continuum\\anaconda3\\lib\\site-packages\\ipykernel_launcher.py:41: SettingWithCopyWarning: \n",
      "A value is trying to be set on a copy of a slice from a DataFrame.\n",
      "Try using .loc[row_indexer,col_indexer] = value instead\n",
      "\n",
      "See the caveats in the documentation: http://pandas.pydata.org/pandas-docs/stable/indexing.html#indexing-view-versus-copy\n"
     ]
    },
    {
     "name": "stdout",
     "output_type": "stream",
     "text": [
      "  cell_name_anon      band                score        date rank  \\\n",
      "0      cell-6334  band2100                -0.58  2018-11-01    1   \n",
      "1      cell-8756  band2100                -0.54  2018-11-01    2   \n",
      "\n",
      "            percentile  \n",
      "0                99.98  \n",
      "1                99.95  \n",
      "  cell_name_anon     band                score        date rank  \\\n",
      "0      cell-2266  band700                -1.11  2018-11-01    1   \n",
      "1      cell-3138  band700                -1.02  2018-11-01    2   \n",
      "\n",
      "            percentile  \n",
      "0                99.97  \n",
      "1                99.93  \n",
      "2018-11-02\n"
     ]
    },
    {
     "name": "stderr",
     "output_type": "stream",
     "text": [
      "C:\\Users\\ezchave\\AppData\\Local\\Continuum\\anaconda3\\lib\\site-packages\\ipykernel_launcher.py:41: SettingWithCopyWarning: \n",
      "A value is trying to be set on a copy of a slice from a DataFrame.\n",
      "Try using .loc[row_indexer,col_indexer] = value instead\n",
      "\n",
      "See the caveats in the documentation: http://pandas.pydata.org/pandas-docs/stable/indexing.html#indexing-view-versus-copy\n"
     ]
    },
    {
     "name": "stdout",
     "output_type": "stream",
     "text": [
      "  cell_name_anon      band                score        date rank  \\\n",
      "0      cell-9118  band2100                -1.23  2018-11-02    1   \n",
      "1      cell-6334  band2100                -0.74  2018-11-02    2   \n",
      "\n",
      "            percentile  \n",
      "0                99.98  \n",
      "1                99.95  \n",
      "  cell_name_anon     band                score        date rank  \\\n",
      "0      cell-2266  band700                -0.76  2018-11-02    1   \n",
      "1      cell-4384  band700                -0.72  2018-11-02    2   \n",
      "\n",
      "            percentile  \n",
      "0                99.97  \n",
      "1                99.93  \n",
      "2018-11-03\n"
     ]
    },
    {
     "name": "stderr",
     "output_type": "stream",
     "text": [
      "C:\\Users\\ezchave\\AppData\\Local\\Continuum\\anaconda3\\lib\\site-packages\\ipykernel_launcher.py:41: SettingWithCopyWarning: \n",
      "A value is trying to be set on a copy of a slice from a DataFrame.\n",
      "Try using .loc[row_indexer,col_indexer] = value instead\n",
      "\n",
      "See the caveats in the documentation: http://pandas.pydata.org/pandas-docs/stable/indexing.html#indexing-view-versus-copy\n"
     ]
    },
    {
     "name": "stdout",
     "output_type": "stream",
     "text": [
      "  cell_name_anon      band                score        date rank  \\\n",
      "0      cell-9118  band2100                -1.34  2018-11-03    1   \n",
      "1      cell-6334  band2100                -0.82  2018-11-03    2   \n",
      "\n",
      "            percentile  \n",
      "0                99.98  \n",
      "1                99.95  \n",
      "  cell_name_anon     band                score        date rank  \\\n",
      "0      cell-2266  band700                -0.76  2018-11-03    1   \n",
      "1      cell-3022  band700                -0.71  2018-11-03    2   \n",
      "\n",
      "            percentile  \n",
      "0                99.97  \n",
      "1                99.93  \n",
      "2018-11-04\n"
     ]
    },
    {
     "name": "stderr",
     "output_type": "stream",
     "text": [
      "C:\\Users\\ezchave\\AppData\\Local\\Continuum\\anaconda3\\lib\\site-packages\\ipykernel_launcher.py:41: SettingWithCopyWarning: \n",
      "A value is trying to be set on a copy of a slice from a DataFrame.\n",
      "Try using .loc[row_indexer,col_indexer] = value instead\n",
      "\n",
      "See the caveats in the documentation: http://pandas.pydata.org/pandas-docs/stable/indexing.html#indexing-view-versus-copy\n"
     ]
    },
    {
     "name": "stdout",
     "output_type": "stream",
     "text": [
      "  cell_name_anon      band                score        date rank  \\\n",
      "0      cell-9118  band2100                -0.95  2018-11-04    1   \n",
      "1      cell-5999  band2100                -0.79  2018-11-04    2   \n",
      "\n",
      "            percentile  \n",
      "0                99.98  \n",
      "1                99.95  \n",
      "  cell_name_anon     band                score        date rank  \\\n",
      "0      cell-3836  band700                -0.96  2018-11-04    1   \n",
      "1      cell-2260  band700                -0.71  2018-11-04    2   \n",
      "\n",
      "            percentile  \n",
      "0                99.97  \n",
      "1                99.93  \n",
      "2018-11-05\n"
     ]
    },
    {
     "name": "stderr",
     "output_type": "stream",
     "text": [
      "C:\\Users\\ezchave\\AppData\\Local\\Continuum\\anaconda3\\lib\\site-packages\\ipykernel_launcher.py:41: SettingWithCopyWarning: \n",
      "A value is trying to be set on a copy of a slice from a DataFrame.\n",
      "Try using .loc[row_indexer,col_indexer] = value instead\n",
      "\n",
      "See the caveats in the documentation: http://pandas.pydata.org/pandas-docs/stable/indexing.html#indexing-view-versus-copy\n"
     ]
    },
    {
     "name": "stdout",
     "output_type": "stream",
     "text": [
      "  cell_name_anon      band                score        date rank  \\\n",
      "0      cell-9042  band2100                -1.43  2018-11-05    1   \n",
      "1      cell-6334  band2100                -0.77  2018-11-05    2   \n",
      "\n",
      "            percentile  \n",
      "0                99.98  \n",
      "1                99.95  \n",
      "  cell_name_anon     band                score        date rank  \\\n",
      "0      cell-4620  band700                -1.11  2018-11-05    1   \n",
      "1      cell-3553  band700                -1.07  2018-11-05    2   \n",
      "\n",
      "            percentile  \n",
      "0                99.97  \n",
      "1                99.93  \n",
      "2018-11-06\n"
     ]
    },
    {
     "name": "stderr",
     "output_type": "stream",
     "text": [
      "C:\\Users\\ezchave\\AppData\\Local\\Continuum\\anaconda3\\lib\\site-packages\\ipykernel_launcher.py:41: SettingWithCopyWarning: \n",
      "A value is trying to be set on a copy of a slice from a DataFrame.\n",
      "Try using .loc[row_indexer,col_indexer] = value instead\n",
      "\n",
      "See the caveats in the documentation: http://pandas.pydata.org/pandas-docs/stable/indexing.html#indexing-view-versus-copy\n"
     ]
    },
    {
     "name": "stdout",
     "output_type": "stream",
     "text": [
      "  cell_name_anon      band                score        date rank  \\\n",
      "0      cell-6301  band2100                -1.54  2018-11-06    1   \n",
      "1      cell-8799  band2100                -1.06  2018-11-06    2   \n",
      "\n",
      "            percentile  \n",
      "0                99.98  \n",
      "1                99.95  \n",
      "  cell_name_anon     band                score        date rank  \\\n",
      "0      cell-3836  band700                -0.90  2018-11-06    1   \n",
      "1      cell-2473  band700                -0.70  2018-11-06    2   \n",
      "\n",
      "            percentile  \n",
      "0                99.97  \n",
      "1                99.93  \n",
      "2018-11-07\n"
     ]
    },
    {
     "name": "stderr",
     "output_type": "stream",
     "text": [
      "C:\\Users\\ezchave\\AppData\\Local\\Continuum\\anaconda3\\lib\\site-packages\\ipykernel_launcher.py:41: SettingWithCopyWarning: \n",
      "A value is trying to be set on a copy of a slice from a DataFrame.\n",
      "Try using .loc[row_indexer,col_indexer] = value instead\n",
      "\n",
      "See the caveats in the documentation: http://pandas.pydata.org/pandas-docs/stable/indexing.html#indexing-view-versus-copy\n"
     ]
    },
    {
     "name": "stdout",
     "output_type": "stream",
     "text": [
      "  cell_name_anon      band                score        date rank  \\\n",
      "0      cell-9125  band2100                -0.62  2018-11-07    1   \n",
      "1      cell-6867  band2100                -0.49  2018-11-07    2   \n",
      "\n",
      "            percentile  \n",
      "0                99.98  \n",
      "1                99.95  \n",
      "  cell_name_anon     band                score        date rank  \\\n",
      "0      cell-3107  band700                -0.75  2018-11-07    1   \n",
      "1      cell-2266  band700                -0.75  2018-11-07    2   \n",
      "\n",
      "            percentile  \n",
      "0                99.97  \n",
      "1                99.93  \n",
      "2018-11-08\n"
     ]
    },
    {
     "name": "stderr",
     "output_type": "stream",
     "text": [
      "C:\\Users\\ezchave\\AppData\\Local\\Continuum\\anaconda3\\lib\\site-packages\\ipykernel_launcher.py:41: SettingWithCopyWarning: \n",
      "A value is trying to be set on a copy of a slice from a DataFrame.\n",
      "Try using .loc[row_indexer,col_indexer] = value instead\n",
      "\n",
      "See the caveats in the documentation: http://pandas.pydata.org/pandas-docs/stable/indexing.html#indexing-view-versus-copy\n"
     ]
    },
    {
     "name": "stdout",
     "output_type": "stream",
     "text": [
      "  cell_name_anon      band                score        date rank  \\\n",
      "0      cell-9125  band2100                -0.54  2018-11-08    1   \n",
      "1      cell-9022  band2100                -0.52  2018-11-08    2   \n",
      "\n",
      "            percentile  \n",
      "0                99.98  \n",
      "1                99.95  \n",
      "  cell_name_anon     band                score        date rank  \\\n",
      "0      cell-3593  band700                -0.71  2018-11-08    1   \n",
      "1      cell-3107  band700                -0.71  2018-11-08    2   \n",
      "\n",
      "            percentile  \n",
      "0                99.97  \n",
      "1                99.93  \n",
      "2018-11-09\n"
     ]
    },
    {
     "name": "stderr",
     "output_type": "stream",
     "text": [
      "C:\\Users\\ezchave\\AppData\\Local\\Continuum\\anaconda3\\lib\\site-packages\\ipykernel_launcher.py:41: SettingWithCopyWarning: \n",
      "A value is trying to be set on a copy of a slice from a DataFrame.\n",
      "Try using .loc[row_indexer,col_indexer] = value instead\n",
      "\n",
      "See the caveats in the documentation: http://pandas.pydata.org/pandas-docs/stable/indexing.html#indexing-view-versus-copy\n"
     ]
    },
    {
     "name": "stdout",
     "output_type": "stream",
     "text": [
      "  cell_name_anon      band                score        date rank  \\\n",
      "0      cell-9022  band2100                -0.67  2018-11-09    1   \n",
      "1      cell-9125  band2100                -0.63  2018-11-09    2   \n",
      "\n",
      "            percentile  \n",
      "0                99.98  \n",
      "1                99.95  \n",
      "  cell_name_anon     band                score        date rank  \\\n",
      "0      cell-4620  band700                -1.41  2018-11-09    1   \n",
      "1      cell-2366  band700                -1.32  2018-11-09    2   \n",
      "\n",
      "            percentile  \n",
      "0                99.97  \n",
      "1                99.93  \n",
      "2018-11-10\n"
     ]
    },
    {
     "name": "stderr",
     "output_type": "stream",
     "text": [
      "C:\\Users\\ezchave\\AppData\\Local\\Continuum\\anaconda3\\lib\\site-packages\\ipykernel_launcher.py:41: SettingWithCopyWarning: \n",
      "A value is trying to be set on a copy of a slice from a DataFrame.\n",
      "Try using .loc[row_indexer,col_indexer] = value instead\n",
      "\n",
      "See the caveats in the documentation: http://pandas.pydata.org/pandas-docs/stable/indexing.html#indexing-view-versus-copy\n"
     ]
    },
    {
     "name": "stdout",
     "output_type": "stream",
     "text": [
      "  cell_name_anon      band                score        date rank  \\\n",
      "0      cell-6334  band2100                -0.79  2018-11-10    1   \n",
      "1      cell-5590  band2100                -0.75  2018-11-10    2   \n",
      "\n",
      "            percentile  \n",
      "0                99.98  \n",
      "1                99.95  \n",
      "  cell_name_anon     band                score        date rank  \\\n",
      "0      cell-2266  band700                -1.10  2018-11-10    1   \n",
      "1      cell-4007  band700                -1.03  2018-11-10    2   \n",
      "\n",
      "            percentile  \n",
      "0                99.97  \n",
      "1                99.93  \n",
      "2018-11-11\n"
     ]
    },
    {
     "name": "stderr",
     "output_type": "stream",
     "text": [
      "C:\\Users\\ezchave\\AppData\\Local\\Continuum\\anaconda3\\lib\\site-packages\\ipykernel_launcher.py:41: SettingWithCopyWarning: \n",
      "A value is trying to be set on a copy of a slice from a DataFrame.\n",
      "Try using .loc[row_indexer,col_indexer] = value instead\n",
      "\n",
      "See the caveats in the documentation: http://pandas.pydata.org/pandas-docs/stable/indexing.html#indexing-view-versus-copy\n"
     ]
    },
    {
     "name": "stdout",
     "output_type": "stream",
     "text": [
      "  cell_name_anon      band                score        date rank  \\\n",
      "0      cell-7153  band2100                -1.18  2018-11-11    1   \n",
      "1      cell-5162  band2100                -0.94  2018-11-11    2   \n",
      "\n",
      "            percentile  \n",
      "0                99.98  \n",
      "1                99.95  \n",
      "  cell_name_anon     band                score        date rank  \\\n",
      "0      cell-2266  band700                -1.12  2018-11-11    1   \n",
      "1      cell-2472  band700                -1.04  2018-11-11    2   \n",
      "\n",
      "            percentile  \n",
      "0                99.97  \n",
      "1                99.93  \n",
      "2018-11-12\n"
     ]
    },
    {
     "name": "stderr",
     "output_type": "stream",
     "text": [
      "C:\\Users\\ezchave\\AppData\\Local\\Continuum\\anaconda3\\lib\\site-packages\\ipykernel_launcher.py:41: SettingWithCopyWarning: \n",
      "A value is trying to be set on a copy of a slice from a DataFrame.\n",
      "Try using .loc[row_indexer,col_indexer] = value instead\n",
      "\n",
      "See the caveats in the documentation: http://pandas.pydata.org/pandas-docs/stable/indexing.html#indexing-view-versus-copy\n"
     ]
    },
    {
     "name": "stdout",
     "output_type": "stream",
     "text": [
      "  cell_name_anon      band                score        date rank  \\\n",
      "0      cell-7663  band2100                -0.82  2018-11-12    1   \n",
      "1      cell-6334  band2100                -0.81  2018-11-12    2   \n",
      "\n",
      "            percentile  \n",
      "0                99.98  \n",
      "1                99.95  \n",
      "  cell_name_anon     band                score        date rank  \\\n",
      "0      cell-2266  band700                -1.02  2018-11-12    1   \n",
      "1      cell-3109  band700                -0.96  2018-11-12    2   \n",
      "\n",
      "            percentile  \n",
      "0                99.97  \n",
      "1                99.93  \n",
      "2018-11-13\n"
     ]
    },
    {
     "name": "stderr",
     "output_type": "stream",
     "text": [
      "C:\\Users\\ezchave\\AppData\\Local\\Continuum\\anaconda3\\lib\\site-packages\\ipykernel_launcher.py:41: SettingWithCopyWarning: \n",
      "A value is trying to be set on a copy of a slice from a DataFrame.\n",
      "Try using .loc[row_indexer,col_indexer] = value instead\n",
      "\n",
      "See the caveats in the documentation: http://pandas.pydata.org/pandas-docs/stable/indexing.html#indexing-view-versus-copy\n"
     ]
    },
    {
     "name": "stdout",
     "output_type": "stream",
     "text": [
      "  cell_name_anon      band                score        date rank  \\\n",
      "0      cell-7153  band2100                -0.84  2018-11-13    1   \n",
      "1      cell-8596  band2100                -0.81  2018-11-13    2   \n",
      "\n",
      "            percentile  \n",
      "0                99.98  \n",
      "1                99.95  \n",
      "  cell_name_anon     band                score        date rank  \\\n",
      "0      cell-2266  band700                -1.00  2018-11-13    1   \n",
      "1      cell-3109  band700                -0.98  2018-11-13    2   \n",
      "\n",
      "            percentile  \n",
      "0                99.97  \n",
      "1                99.93  \n",
      "2018-11-14\n"
     ]
    },
    {
     "name": "stderr",
     "output_type": "stream",
     "text": [
      "C:\\Users\\ezchave\\AppData\\Local\\Continuum\\anaconda3\\lib\\site-packages\\ipykernel_launcher.py:41: SettingWithCopyWarning: \n",
      "A value is trying to be set on a copy of a slice from a DataFrame.\n",
      "Try using .loc[row_indexer,col_indexer] = value instead\n",
      "\n",
      "See the caveats in the documentation: http://pandas.pydata.org/pandas-docs/stable/indexing.html#indexing-view-versus-copy\n"
     ]
    },
    {
     "name": "stdout",
     "output_type": "stream",
     "text": [
      "  cell_name_anon      band                score        date rank  \\\n",
      "0      cell-8596  band2100                -0.86  2018-11-14    1   \n",
      "1      cell-7153  band2100                -0.79  2018-11-14    2   \n",
      "\n",
      "            percentile  \n",
      "0                99.98  \n",
      "1                99.95  \n",
      "  cell_name_anon     band                score        date rank  \\\n",
      "0      cell-2472  band700                -0.97  2018-11-14    1   \n",
      "1      cell-4007  band700                -0.96  2018-11-14    2   \n",
      "\n",
      "            percentile  \n",
      "0                99.97  \n",
      "1                99.93  \n",
      "2018-11-15\n"
     ]
    },
    {
     "name": "stderr",
     "output_type": "stream",
     "text": [
      "C:\\Users\\ezchave\\AppData\\Local\\Continuum\\anaconda3\\lib\\site-packages\\ipykernel_launcher.py:41: SettingWithCopyWarning: \n",
      "A value is trying to be set on a copy of a slice from a DataFrame.\n",
      "Try using .loc[row_indexer,col_indexer] = value instead\n",
      "\n",
      "See the caveats in the documentation: http://pandas.pydata.org/pandas-docs/stable/indexing.html#indexing-view-versus-copy\n"
     ]
    },
    {
     "name": "stdout",
     "output_type": "stream",
     "text": [
      "  cell_name_anon      band                score        date rank  \\\n",
      "0      cell-6301  band2100                -0.86  2018-11-15    1   \n",
      "1      cell-7153  band2100                -0.84  2018-11-15    2   \n",
      "\n",
      "            percentile  \n",
      "0                99.98  \n",
      "1                99.95  \n",
      "  cell_name_anon     band                score        date rank  \\\n",
      "0      cell-2472  band700                -0.97  2018-11-15    1   \n",
      "1      cell-2485  band700                -0.96  2018-11-15    2   \n",
      "\n",
      "            percentile  \n",
      "0                99.97  \n",
      "1                99.93  \n",
      "2018-11-16\n"
     ]
    },
    {
     "name": "stderr",
     "output_type": "stream",
     "text": [
      "C:\\Users\\ezchave\\AppData\\Local\\Continuum\\anaconda3\\lib\\site-packages\\ipykernel_launcher.py:41: SettingWithCopyWarning: \n",
      "A value is trying to be set on a copy of a slice from a DataFrame.\n",
      "Try using .loc[row_indexer,col_indexer] = value instead\n",
      "\n",
      "See the caveats in the documentation: http://pandas.pydata.org/pandas-docs/stable/indexing.html#indexing-view-versus-copy\n"
     ]
    },
    {
     "name": "stdout",
     "output_type": "stream",
     "text": [
      "  cell_name_anon      band                score        date rank  \\\n",
      "0      cell-6301  band2100                -1.10  2018-11-16    1   \n",
      "1      cell-7001  band2100                -1.08  2018-11-16    2   \n",
      "\n",
      "            percentile  \n",
      "0                99.98  \n",
      "1                99.95  \n",
      "  cell_name_anon     band                score        date rank  \\\n",
      "0      cell-2472  band700                -1.01  2018-11-16    1   \n",
      "1      cell-4000  band700                -0.97  2018-11-16    2   \n",
      "\n",
      "            percentile  \n",
      "0                99.97  \n",
      "1                99.93  \n",
      "2018-11-17\n"
     ]
    },
    {
     "name": "stderr",
     "output_type": "stream",
     "text": [
      "C:\\Users\\ezchave\\AppData\\Local\\Continuum\\anaconda3\\lib\\site-packages\\ipykernel_launcher.py:41: SettingWithCopyWarning: \n",
      "A value is trying to be set on a copy of a slice from a DataFrame.\n",
      "Try using .loc[row_indexer,col_indexer] = value instead\n",
      "\n",
      "See the caveats in the documentation: http://pandas.pydata.org/pandas-docs/stable/indexing.html#indexing-view-versus-copy\n"
     ]
    },
    {
     "name": "stdout",
     "output_type": "stream",
     "text": [
      "  cell_name_anon      band                score        date rank  \\\n",
      "0      cell-6301  band2100                -1.30  2018-11-17    1   \n",
      "1      cell-7001  band2100                -1.28  2018-11-17    2   \n",
      "\n",
      "            percentile  \n",
      "0                99.98  \n",
      "1                99.95  \n",
      "  cell_name_anon     band                score        date rank  \\\n",
      "0      cell-2472  band700                -1.01  2018-11-17    1   \n",
      "1      cell-3741  band700                -0.96  2018-11-17    2   \n",
      "\n",
      "            percentile  \n",
      "0                99.97  \n",
      "1                99.93  \n",
      "2018-11-18\n"
     ]
    },
    {
     "name": "stderr",
     "output_type": "stream",
     "text": [
      "C:\\Users\\ezchave\\AppData\\Local\\Continuum\\anaconda3\\lib\\site-packages\\ipykernel_launcher.py:41: SettingWithCopyWarning: \n",
      "A value is trying to be set on a copy of a slice from a DataFrame.\n",
      "Try using .loc[row_indexer,col_indexer] = value instead\n",
      "\n",
      "See the caveats in the documentation: http://pandas.pydata.org/pandas-docs/stable/indexing.html#indexing-view-versus-copy\n"
     ]
    },
    {
     "name": "stdout",
     "output_type": "stream",
     "text": [
      "  cell_name_anon      band                score        date rank  \\\n",
      "0      cell-7831  band2100                -1.62  2018-11-18    1   \n",
      "1      cell-6334  band2100                -1.14  2018-11-18    2   \n",
      "\n",
      "            percentile  \n",
      "0                99.98  \n",
      "1                99.95  \n",
      "  cell_name_anon     band                score        date rank  \\\n",
      "0      cell-2472  band700                -0.99  2018-11-18    1   \n",
      "1      cell-2995  band700                -0.95  2018-11-18    2   \n",
      "\n",
      "            percentile  \n",
      "0                99.97  \n",
      "1                99.93  \n",
      "2018-11-19\n"
     ]
    },
    {
     "name": "stderr",
     "output_type": "stream",
     "text": [
      "C:\\Users\\ezchave\\AppData\\Local\\Continuum\\anaconda3\\lib\\site-packages\\ipykernel_launcher.py:41: SettingWithCopyWarning: \n",
      "A value is trying to be set on a copy of a slice from a DataFrame.\n",
      "Try using .loc[row_indexer,col_indexer] = value instead\n",
      "\n",
      "See the caveats in the documentation: http://pandas.pydata.org/pandas-docs/stable/indexing.html#indexing-view-versus-copy\n"
     ]
    },
    {
     "name": "stdout",
     "output_type": "stream",
     "text": [
      "  cell_name_anon      band                score        date rank  \\\n",
      "0      cell-7831  band2100                -1.11  2018-11-19    1   \n",
      "1      cell-6335  band2100                -0.83  2018-11-19    2   \n",
      "\n",
      "            percentile  \n",
      "0                99.98  \n",
      "1                99.95  \n",
      "  cell_name_anon     band                score        date rank  \\\n",
      "0      cell-2995  band700                -0.93  2018-11-19    1   \n",
      "1      cell-2472  band700                -0.92  2018-11-19    2   \n",
      "\n",
      "            percentile  \n",
      "0                99.97  \n",
      "1                99.93  \n",
      "2018-11-20\n"
     ]
    },
    {
     "name": "stderr",
     "output_type": "stream",
     "text": [
      "C:\\Users\\ezchave\\AppData\\Local\\Continuum\\anaconda3\\lib\\site-packages\\ipykernel_launcher.py:41: SettingWithCopyWarning: \n",
      "A value is trying to be set on a copy of a slice from a DataFrame.\n",
      "Try using .loc[row_indexer,col_indexer] = value instead\n",
      "\n",
      "See the caveats in the documentation: http://pandas.pydata.org/pandas-docs/stable/indexing.html#indexing-view-versus-copy\n"
     ]
    },
    {
     "name": "stdout",
     "output_type": "stream",
     "text": [
      "  cell_name_anon      band                score        date rank  \\\n",
      "0      cell-6301  band2100                -1.65  2018-11-20    1   \n",
      "1      cell-6867  band2100                -0.77  2018-11-20    2   \n",
      "\n",
      "            percentile  \n",
      "0                99.98  \n",
      "1                99.95  \n",
      "  cell_name_anon     band                score        date rank  \\\n",
      "0      cell-2243  band700                -0.88  2018-11-20    1   \n",
      "1      cell-2995  band700                -0.88  2018-11-20    2   \n",
      "\n",
      "            percentile  \n",
      "0                99.97  \n",
      "1                99.93  \n",
      "2018-11-21\n"
     ]
    },
    {
     "name": "stderr",
     "output_type": "stream",
     "text": [
      "C:\\Users\\ezchave\\AppData\\Local\\Continuum\\anaconda3\\lib\\site-packages\\ipykernel_launcher.py:41: SettingWithCopyWarning: \n",
      "A value is trying to be set on a copy of a slice from a DataFrame.\n",
      "Try using .loc[row_indexer,col_indexer] = value instead\n",
      "\n",
      "See the caveats in the documentation: http://pandas.pydata.org/pandas-docs/stable/indexing.html#indexing-view-versus-copy\n"
     ]
    },
    {
     "name": "stdout",
     "output_type": "stream",
     "text": [
      "  cell_name_anon      band                score        date rank  \\\n",
      "0      cell-7831  band2100                -1.19  2018-11-21    1   \n",
      "1      cell-6255  band2100                -0.94  2018-11-21    2   \n",
      "\n",
      "            percentile  \n",
      "0                99.98  \n",
      "1                99.95  \n",
      "  cell_name_anon     band                score        date rank  \\\n",
      "0      cell-3022  band700                -0.90  2018-11-21    1   \n",
      "1      cell-2979  band700                -0.88  2018-11-21    2   \n",
      "\n",
      "            percentile  \n",
      "0                99.97  \n",
      "1                99.93  \n",
      "2018-11-22\n"
     ]
    },
    {
     "name": "stderr",
     "output_type": "stream",
     "text": [
      "C:\\Users\\ezchave\\AppData\\Local\\Continuum\\anaconda3\\lib\\site-packages\\ipykernel_launcher.py:41: SettingWithCopyWarning: \n",
      "A value is trying to be set on a copy of a slice from a DataFrame.\n",
      "Try using .loc[row_indexer,col_indexer] = value instead\n",
      "\n",
      "See the caveats in the documentation: http://pandas.pydata.org/pandas-docs/stable/indexing.html#indexing-view-versus-copy\n"
     ]
    },
    {
     "name": "stdout",
     "output_type": "stream",
     "text": [
      "  cell_name_anon      band                score        date rank  \\\n",
      "0      cell-6867  band2100                -0.54  2018-11-22    1   \n",
      "1      cell-5992  band2100                -0.53  2018-11-22    2   \n",
      "\n",
      "            percentile  \n",
      "0                99.98  \n",
      "1                99.95  \n",
      "  cell_name_anon     band                score        date rank  \\\n",
      "0      cell-3022  band700                -0.91  2018-11-22    1   \n",
      "1      cell-3737  band700                -0.91  2018-11-22    2   \n",
      "\n",
      "            percentile  \n",
      "0                99.97  \n",
      "1                99.93  \n",
      "2018-11-23\n"
     ]
    },
    {
     "name": "stderr",
     "output_type": "stream",
     "text": [
      "C:\\Users\\ezchave\\AppData\\Local\\Continuum\\anaconda3\\lib\\site-packages\\ipykernel_launcher.py:41: SettingWithCopyWarning: \n",
      "A value is trying to be set on a copy of a slice from a DataFrame.\n",
      "Try using .loc[row_indexer,col_indexer] = value instead\n",
      "\n",
      "See the caveats in the documentation: http://pandas.pydata.org/pandas-docs/stable/indexing.html#indexing-view-versus-copy\n"
     ]
    },
    {
     "name": "stdout",
     "output_type": "stream",
     "text": [
      "  cell_name_anon      band                score        date rank  \\\n",
      "0      cell-6879  band2100                -0.53  2018-11-23    1   \n",
      "1      cell-7439  band2100                -0.52  2018-11-23    2   \n",
      "\n",
      "            percentile  \n",
      "0                99.98  \n",
      "1                99.95  \n",
      "  cell_name_anon     band                score        date rank  \\\n",
      "0      cell-2266  band700                -0.90  2018-11-23    1   \n",
      "1      cell-2758  band700                -0.89  2018-11-23    2   \n",
      "\n",
      "            percentile  \n",
      "0                99.97  \n",
      "1                99.93  \n",
      "2018-11-24\n"
     ]
    },
    {
     "name": "stderr",
     "output_type": "stream",
     "text": [
      "C:\\Users\\ezchave\\AppData\\Local\\Continuum\\anaconda3\\lib\\site-packages\\ipykernel_launcher.py:41: SettingWithCopyWarning: \n",
      "A value is trying to be set on a copy of a slice from a DataFrame.\n",
      "Try using .loc[row_indexer,col_indexer] = value instead\n",
      "\n",
      "See the caveats in the documentation: http://pandas.pydata.org/pandas-docs/stable/indexing.html#indexing-view-versus-copy\n"
     ]
    },
    {
     "name": "stdout",
     "output_type": "stream",
     "text": [
      "  cell_name_anon      band                score        date rank  \\\n",
      "0      cell-6301  band2100                -1.45  2018-11-24    1   \n",
      "1      cell-6252  band2100                -1.36  2018-11-24    2   \n",
      "\n",
      "            percentile  \n",
      "0                99.98  \n",
      "1                99.95  \n",
      "  cell_name_anon     band                score        date rank  \\\n",
      "0      cell-2505  band700                -1.18  2018-11-24    1   \n",
      "1      cell-3553  band700                -1.14  2018-11-24    2   \n",
      "\n",
      "            percentile  \n",
      "0                99.97  \n",
      "1                99.93  \n",
      "2018-11-25\n"
     ]
    },
    {
     "name": "stderr",
     "output_type": "stream",
     "text": [
      "C:\\Users\\ezchave\\AppData\\Local\\Continuum\\anaconda3\\lib\\site-packages\\ipykernel_launcher.py:41: SettingWithCopyWarning: \n",
      "A value is trying to be set on a copy of a slice from a DataFrame.\n",
      "Try using .loc[row_indexer,col_indexer] = value instead\n",
      "\n",
      "See the caveats in the documentation: http://pandas.pydata.org/pandas-docs/stable/indexing.html#indexing-view-versus-copy\n"
     ]
    },
    {
     "name": "stdout",
     "output_type": "stream",
     "text": [
      "  cell_name_anon      band                score        date rank  \\\n",
      "0      cell-6301  band2100                -1.21  2018-11-25    1   \n",
      "1      cell-6220  band2100                -0.79  2018-11-25    2   \n",
      "\n",
      "            percentile  \n",
      "0                99.98  \n",
      "1                99.95  \n",
      "  cell_name_anon     band                score        date rank  \\\n",
      "0      cell-3194  band700                -0.93  2018-11-25    1   \n",
      "1      cell-2266  band700                -0.92  2018-11-25    2   \n",
      "\n",
      "            percentile  \n",
      "0                99.97  \n",
      "1                99.93  \n",
      "2018-11-26\n"
     ]
    },
    {
     "name": "stderr",
     "output_type": "stream",
     "text": [
      "C:\\Users\\ezchave\\AppData\\Local\\Continuum\\anaconda3\\lib\\site-packages\\ipykernel_launcher.py:41: SettingWithCopyWarning: \n",
      "A value is trying to be set on a copy of a slice from a DataFrame.\n",
      "Try using .loc[row_indexer,col_indexer] = value instead\n",
      "\n",
      "See the caveats in the documentation: http://pandas.pydata.org/pandas-docs/stable/indexing.html#indexing-view-versus-copy\n"
     ]
    },
    {
     "name": "stdout",
     "output_type": "stream",
     "text": [
      "  cell_name_anon      band                score        date rank  \\\n",
      "0      cell-6301  band2100                -1.11  2018-11-26    1   \n",
      "1      cell-7361  band2100                -0.76  2018-11-26    2   \n",
      "\n",
      "            percentile  \n",
      "0                99.98  \n",
      "1                99.95  \n",
      "  cell_name_anon     band                score        date rank  \\\n",
      "0      cell-4620  band700                -1.68  2018-11-26    1   \n",
      "1      cell-3553  band700                -1.53  2018-11-26    2   \n",
      "\n",
      "            percentile  \n",
      "0                99.97  \n",
      "1                99.93  \n",
      "2018-11-27\n"
     ]
    },
    {
     "name": "stderr",
     "output_type": "stream",
     "text": [
      "C:\\Users\\ezchave\\AppData\\Local\\Continuum\\anaconda3\\lib\\site-packages\\ipykernel_launcher.py:41: SettingWithCopyWarning: \n",
      "A value is trying to be set on a copy of a slice from a DataFrame.\n",
      "Try using .loc[row_indexer,col_indexer] = value instead\n",
      "\n",
      "See the caveats in the documentation: http://pandas.pydata.org/pandas-docs/stable/indexing.html#indexing-view-versus-copy\n"
     ]
    },
    {
     "name": "stdout",
     "output_type": "stream",
     "text": [
      "  cell_name_anon      band                score        date rank  \\\n",
      "0      cell-7563  band2100                -1.64  2018-11-27    1   \n",
      "1      cell-7831  band2100                -1.38  2018-11-27    2   \n",
      "\n",
      "            percentile  \n",
      "0                99.98  \n",
      "1                99.95  \n",
      "  cell_name_anon     band                score        date rank  \\\n",
      "0      cell-3456  band700                -1.51  2018-11-27    1   \n",
      "1      cell-3555  band700                -1.26  2018-11-27    2   \n",
      "\n",
      "            percentile  \n",
      "0                99.97  \n",
      "1                99.93  \n",
      "2018-11-29\n"
     ]
    },
    {
     "name": "stderr",
     "output_type": "stream",
     "text": [
      "C:\\Users\\ezchave\\AppData\\Local\\Continuum\\anaconda3\\lib\\site-packages\\ipykernel_launcher.py:41: SettingWithCopyWarning: \n",
      "A value is trying to be set on a copy of a slice from a DataFrame.\n",
      "Try using .loc[row_indexer,col_indexer] = value instead\n",
      "\n",
      "See the caveats in the documentation: http://pandas.pydata.org/pandas-docs/stable/indexing.html#indexing-view-versus-copy\n"
     ]
    },
    {
     "name": "stdout",
     "output_type": "stream",
     "text": [
      "  cell_name_anon      band                score        date rank  \\\n",
      "0      cell-7563  band2100                -1.46  2018-11-29    1   \n",
      "1      cell-7831  band2100                -1.39  2018-11-29    2   \n",
      "\n",
      "            percentile  \n",
      "0                99.98  \n",
      "1                99.95  \n",
      "  cell_name_anon     band                score        date rank  \\\n",
      "0      cell-3456  band700                -1.39  2018-11-29    1   \n",
      "1      cell-4596  band700                -1.14  2018-11-29    2   \n",
      "\n",
      "            percentile  \n",
      "0                99.97  \n",
      "1                99.93  \n",
      "2018-11-30\n"
     ]
    },
    {
     "name": "stderr",
     "output_type": "stream",
     "text": [
      "C:\\Users\\ezchave\\AppData\\Local\\Continuum\\anaconda3\\lib\\site-packages\\ipykernel_launcher.py:41: SettingWithCopyWarning: \n",
      "A value is trying to be set on a copy of a slice from a DataFrame.\n",
      "Try using .loc[row_indexer,col_indexer] = value instead\n",
      "\n",
      "See the caveats in the documentation: http://pandas.pydata.org/pandas-docs/stable/indexing.html#indexing-view-versus-copy\n"
     ]
    },
    {
     "name": "stdout",
     "output_type": "stream",
     "text": [
      "  cell_name_anon      band                score        date rank  \\\n",
      "0      cell-7831  band2100                -2.10  2018-11-30    1   \n",
      "1      cell-7563  band2100                -1.29  2018-11-30    2   \n",
      "\n",
      "            percentile  \n",
      "0                99.98  \n",
      "1                99.95  \n",
      "  cell_name_anon     band                score        date rank  \\\n",
      "0      cell-4000  band700                -0.91  2018-11-30    1   \n",
      "1      cell-2885  band700                -0.82  2018-11-30    2   \n",
      "\n",
      "            percentile  \n",
      "0                99.97  \n",
      "1                99.93  \n",
      "2018-12-01\n"
     ]
    },
    {
     "name": "stderr",
     "output_type": "stream",
     "text": [
      "C:\\Users\\ezchave\\AppData\\Local\\Continuum\\anaconda3\\lib\\site-packages\\ipykernel_launcher.py:41: SettingWithCopyWarning: \n",
      "A value is trying to be set on a copy of a slice from a DataFrame.\n",
      "Try using .loc[row_indexer,col_indexer] = value instead\n",
      "\n",
      "See the caveats in the documentation: http://pandas.pydata.org/pandas-docs/stable/indexing.html#indexing-view-versus-copy\n"
     ]
    },
    {
     "name": "stdout",
     "output_type": "stream",
     "text": [
      "  cell_name_anon      band                score        date rank  \\\n",
      "0      cell-7831  band2100                -2.08  2018-12-01    1   \n",
      "1      cell-7563  band2100                -0.97  2018-12-01    2   \n",
      "\n",
      "            percentile  \n",
      "0                99.98  \n",
      "1                99.95  \n",
      "  cell_name_anon     band                score        date rank  \\\n",
      "0      cell-3456  band700                -1.14  2018-12-01    1   \n",
      "1      cell-4111  band700                -1.07  2018-12-01    2   \n",
      "\n",
      "            percentile  \n",
      "0                99.97  \n",
      "1                99.93  \n",
      "2018-12-02\n"
     ]
    },
    {
     "name": "stderr",
     "output_type": "stream",
     "text": [
      "C:\\Users\\ezchave\\AppData\\Local\\Continuum\\anaconda3\\lib\\site-packages\\ipykernel_launcher.py:41: SettingWithCopyWarning: \n",
      "A value is trying to be set on a copy of a slice from a DataFrame.\n",
      "Try using .loc[row_indexer,col_indexer] = value instead\n",
      "\n",
      "See the caveats in the documentation: http://pandas.pydata.org/pandas-docs/stable/indexing.html#indexing-view-versus-copy\n"
     ]
    },
    {
     "name": "stdout",
     "output_type": "stream",
     "text": [
      "  cell_name_anon      band                score        date rank  \\\n",
      "0      cell-7831  band2100                -1.57  2018-12-02    1   \n",
      "1      cell-7563  band2100                -0.95  2018-12-02    2   \n",
      "\n",
      "            percentile  \n",
      "0                99.98  \n",
      "1                99.95  \n",
      "  cell_name_anon     band                score        date rank  \\\n",
      "0      cell-2556  band700                -0.86  2018-12-02    1   \n",
      "1      cell-4000  band700                -0.84  2018-12-02    2   \n",
      "\n",
      "            percentile  \n",
      "0                99.97  \n",
      "1                99.93  \n",
      "2018-12-03\n"
     ]
    },
    {
     "name": "stderr",
     "output_type": "stream",
     "text": [
      "C:\\Users\\ezchave\\AppData\\Local\\Continuum\\anaconda3\\lib\\site-packages\\ipykernel_launcher.py:41: SettingWithCopyWarning: \n",
      "A value is trying to be set on a copy of a slice from a DataFrame.\n",
      "Try using .loc[row_indexer,col_indexer] = value instead\n",
      "\n",
      "See the caveats in the documentation: http://pandas.pydata.org/pandas-docs/stable/indexing.html#indexing-view-versus-copy\n"
     ]
    },
    {
     "name": "stdout",
     "output_type": "stream",
     "text": [
      "  cell_name_anon      band                score        date rank  \\\n",
      "0      cell-7831  band2100                -1.57  2018-12-03    1   \n",
      "1      cell-9125  band2100                -1.26  2018-12-03    2   \n",
      "\n",
      "            percentile  \n",
      "0                99.98  \n",
      "1                99.95  \n",
      "  cell_name_anon     band                score        date rank  \\\n",
      "0      cell-4965  band700                -0.84  2018-12-03    1   \n",
      "1      cell-4000  band700                -0.84  2018-12-03    2   \n",
      "\n",
      "            percentile  \n",
      "0                99.97  \n",
      "1                99.93  \n",
      "2018-12-04\n"
     ]
    },
    {
     "name": "stderr",
     "output_type": "stream",
     "text": [
      "C:\\Users\\ezchave\\AppData\\Local\\Continuum\\anaconda3\\lib\\site-packages\\ipykernel_launcher.py:41: SettingWithCopyWarning: \n",
      "A value is trying to be set on a copy of a slice from a DataFrame.\n",
      "Try using .loc[row_indexer,col_indexer] = value instead\n",
      "\n",
      "See the caveats in the documentation: http://pandas.pydata.org/pandas-docs/stable/indexing.html#indexing-view-versus-copy\n"
     ]
    },
    {
     "name": "stdout",
     "output_type": "stream",
     "text": [
      "  cell_name_anon      band                score        date rank  \\\n",
      "0      cell-9125  band2100                -1.49  2018-12-04    1   \n",
      "1      cell-7831  band2100                -1.16  2018-12-04    2   \n",
      "\n",
      "            percentile  \n",
      "0                99.98  \n",
      "1                99.95  \n",
      "  cell_name_anon     band                score        date rank  \\\n",
      "0      cell-4000  band700                -0.88  2018-12-04    1   \n",
      "1      cell-4965  band700                -0.87  2018-12-04    2   \n",
      "\n",
      "            percentile  \n",
      "0                99.97  \n",
      "1                99.93  \n",
      "2018-12-05\n"
     ]
    },
    {
     "name": "stderr",
     "output_type": "stream",
     "text": [
      "C:\\Users\\ezchave\\AppData\\Local\\Continuum\\anaconda3\\lib\\site-packages\\ipykernel_launcher.py:41: SettingWithCopyWarning: \n",
      "A value is trying to be set on a copy of a slice from a DataFrame.\n",
      "Try using .loc[row_indexer,col_indexer] = value instead\n",
      "\n",
      "See the caveats in the documentation: http://pandas.pydata.org/pandas-docs/stable/indexing.html#indexing-view-versus-copy\n"
     ]
    },
    {
     "name": "stdout",
     "output_type": "stream",
     "text": [
      "  cell_name_anon      band                score        date rank  \\\n",
      "0      cell-9125  band2100                -1.44  2018-12-05    1   \n",
      "1      cell-6335  band2100                -1.18  2018-12-05    2   \n",
      "\n",
      "            percentile  \n",
      "0                99.98  \n",
      "1                99.95  \n",
      "  cell_name_anon     band                score        date rank  \\\n",
      "0      cell-3109  band700                -1.07  2018-12-05    1   \n",
      "1      cell-3040  band700                -0.94  2018-12-05    2   \n",
      "\n",
      "            percentile  \n",
      "0                99.97  \n",
      "1                99.93  \n",
      "2018-12-06\n"
     ]
    },
    {
     "name": "stderr",
     "output_type": "stream",
     "text": [
      "C:\\Users\\ezchave\\AppData\\Local\\Continuum\\anaconda3\\lib\\site-packages\\ipykernel_launcher.py:41: SettingWithCopyWarning: \n",
      "A value is trying to be set on a copy of a slice from a DataFrame.\n",
      "Try using .loc[row_indexer,col_indexer] = value instead\n",
      "\n",
      "See the caveats in the documentation: http://pandas.pydata.org/pandas-docs/stable/indexing.html#indexing-view-versus-copy\n"
     ]
    },
    {
     "name": "stdout",
     "output_type": "stream",
     "text": [
      "  cell_name_anon      band                score        date rank  \\\n",
      "0      cell-5620  band2100                -0.88  2018-12-06    1   \n",
      "1      cell-6301  band2100                -0.83  2018-12-06    2   \n",
      "\n",
      "            percentile  \n",
      "0                99.98  \n",
      "1                99.95  \n",
      "  cell_name_anon     band                score        date rank  \\\n",
      "0      cell-4965  band700                -0.88  2018-12-06    1   \n",
      "1      cell-2266  band700                -0.88  2018-12-06    2   \n",
      "\n",
      "            percentile  \n",
      "0                99.97  \n",
      "1                99.93  \n",
      "2018-12-07\n"
     ]
    },
    {
     "name": "stderr",
     "output_type": "stream",
     "text": [
      "C:\\Users\\ezchave\\AppData\\Local\\Continuum\\anaconda3\\lib\\site-packages\\ipykernel_launcher.py:41: SettingWithCopyWarning: \n",
      "A value is trying to be set on a copy of a slice from a DataFrame.\n",
      "Try using .loc[row_indexer,col_indexer] = value instead\n",
      "\n",
      "See the caveats in the documentation: http://pandas.pydata.org/pandas-docs/stable/indexing.html#indexing-view-versus-copy\n"
     ]
    },
    {
     "name": "stdout",
     "output_type": "stream",
     "text": [
      "  cell_name_anon      band                score        date rank  \\\n",
      "0      cell-9125  band2100                -1.16  2018-12-07    1   \n",
      "1      cell-7851  band2100                -1.11  2018-12-07    2   \n",
      "\n",
      "            percentile  \n",
      "0                99.98  \n",
      "1                99.95  \n",
      "  cell_name_anon     band                score        date rank  \\\n",
      "0      cell-3007  band700                -1.04  2018-12-07    1   \n",
      "1      cell-4000  band700                -1.03  2018-12-07    2   \n",
      "\n",
      "            percentile  \n",
      "0                99.97  \n",
      "1                99.93  \n",
      "2018-12-08\n"
     ]
    },
    {
     "name": "stderr",
     "output_type": "stream",
     "text": [
      "C:\\Users\\ezchave\\AppData\\Local\\Continuum\\anaconda3\\lib\\site-packages\\ipykernel_launcher.py:41: SettingWithCopyWarning: \n",
      "A value is trying to be set on a copy of a slice from a DataFrame.\n",
      "Try using .loc[row_indexer,col_indexer] = value instead\n",
      "\n",
      "See the caveats in the documentation: http://pandas.pydata.org/pandas-docs/stable/indexing.html#indexing-view-versus-copy\n"
     ]
    },
    {
     "name": "stdout",
     "output_type": "stream",
     "text": [
      "  cell_name_anon      band                score        date rank  \\\n",
      "0      cell-6301  band2100                -1.69  2018-12-08    1   \n",
      "1      cell-8596  band2100                -0.91  2018-12-08    2   \n",
      "\n",
      "            percentile  \n",
      "0                99.98  \n",
      "1                99.95  \n",
      "  cell_name_anon     band                score        date rank  \\\n",
      "0      cell-2266  band700                -0.86  2018-12-08    1   \n",
      "1      cell-3995  band700                -0.86  2018-12-08    2   \n",
      "\n",
      "            percentile  \n",
      "0                99.97  \n",
      "1                99.93  \n",
      "2018-12-09\n"
     ]
    },
    {
     "name": "stderr",
     "output_type": "stream",
     "text": [
      "C:\\Users\\ezchave\\AppData\\Local\\Continuum\\anaconda3\\lib\\site-packages\\ipykernel_launcher.py:41: SettingWithCopyWarning: \n",
      "A value is trying to be set on a copy of a slice from a DataFrame.\n",
      "Try using .loc[row_indexer,col_indexer] = value instead\n",
      "\n",
      "See the caveats in the documentation: http://pandas.pydata.org/pandas-docs/stable/indexing.html#indexing-view-versus-copy\n"
     ]
    },
    {
     "name": "stdout",
     "output_type": "stream",
     "text": [
      "  cell_name_anon      band                score        date rank  \\\n",
      "0      cell-6301  band2100                -1.50  2018-12-09    1   \n",
      "1      cell-8596  band2100                -0.98  2018-12-09    2   \n",
      "\n",
      "            percentile  \n",
      "0                99.98  \n",
      "1                99.95  \n",
      "  cell_name_anon     band                score        date rank  \\\n",
      "0      cell-3995  band700                -0.91  2018-12-09    1   \n",
      "1      cell-2266  band700                -0.91  2018-12-09    2   \n",
      "\n",
      "            percentile  \n",
      "0                99.97  \n",
      "1                99.93  \n",
      "2018-12-10\n"
     ]
    },
    {
     "name": "stderr",
     "output_type": "stream",
     "text": [
      "C:\\Users\\ezchave\\AppData\\Local\\Continuum\\anaconda3\\lib\\site-packages\\ipykernel_launcher.py:41: SettingWithCopyWarning: \n",
      "A value is trying to be set on a copy of a slice from a DataFrame.\n",
      "Try using .loc[row_indexer,col_indexer] = value instead\n",
      "\n",
      "See the caveats in the documentation: http://pandas.pydata.org/pandas-docs/stable/indexing.html#indexing-view-versus-copy\n"
     ]
    },
    {
     "name": "stdout",
     "output_type": "stream",
     "text": [
      "  cell_name_anon      band                score        date rank  \\\n",
      "0      cell-9004  band2100                -1.10  2018-12-10    1   \n",
      "1      cell-7851  band2100                -1.09  2018-12-10    2   \n",
      "\n",
      "            percentile  \n",
      "0                99.98  \n",
      "1                99.95  \n",
      "  cell_name_anon     band                score        date rank  \\\n",
      "0      cell-2979  band700                -0.92  2018-12-10    1   \n",
      "1      cell-2556  band700                -0.91  2018-12-10    2   \n",
      "\n",
      "            percentile  \n",
      "0                99.97  \n",
      "1                99.93  \n",
      "2018-12-11\n"
     ]
    },
    {
     "name": "stderr",
     "output_type": "stream",
     "text": [
      "C:\\Users\\ezchave\\AppData\\Local\\Continuum\\anaconda3\\lib\\site-packages\\ipykernel_launcher.py:41: SettingWithCopyWarning: \n",
      "A value is trying to be set on a copy of a slice from a DataFrame.\n",
      "Try using .loc[row_indexer,col_indexer] = value instead\n",
      "\n",
      "See the caveats in the documentation: http://pandas.pydata.org/pandas-docs/stable/indexing.html#indexing-view-versus-copy\n"
     ]
    },
    {
     "name": "stdout",
     "output_type": "stream",
     "text": [
      "  cell_name_anon      band                score        date rank  \\\n",
      "0      cell-6301  band2100                -1.16  2018-12-11    1   \n",
      "1      cell-7635  band2100                -0.98  2018-12-11    2   \n",
      "\n",
      "            percentile  \n",
      "0                99.98  \n",
      "1                99.95  \n",
      "  cell_name_anon     band                score        date rank  \\\n",
      "0      cell-2556  band700                -0.92  2018-12-11    1   \n",
      "1      cell-2979  band700                -0.92  2018-12-11    2   \n",
      "\n",
      "            percentile  \n",
      "0                99.97  \n",
      "1                99.93  \n",
      "2018-12-12\n"
     ]
    },
    {
     "name": "stderr",
     "output_type": "stream",
     "text": [
      "C:\\Users\\ezchave\\AppData\\Local\\Continuum\\anaconda3\\lib\\site-packages\\ipykernel_launcher.py:41: SettingWithCopyWarning: \n",
      "A value is trying to be set on a copy of a slice from a DataFrame.\n",
      "Try using .loc[row_indexer,col_indexer] = value instead\n",
      "\n",
      "See the caveats in the documentation: http://pandas.pydata.org/pandas-docs/stable/indexing.html#indexing-view-versus-copy\n"
     ]
    },
    {
     "name": "stdout",
     "output_type": "stream",
     "text": [
      "  cell_name_anon      band                score        date rank  \\\n",
      "0      cell-6301  band2100                -1.11  2018-12-12    1   \n",
      "1      cell-7635  band2100                -0.87  2018-12-12    2   \n",
      "\n",
      "            percentile  \n",
      "0                99.98  \n",
      "1                99.95  \n",
      "  cell_name_anon     band                score        date rank  \\\n",
      "0      cell-2556  band700                -1.13  2018-12-12    1   \n",
      "1      cell-4000  band700                -1.13  2018-12-12    2   \n",
      "\n",
      "            percentile  \n",
      "0                99.97  \n",
      "1                99.93  \n",
      "2018-12-13\n"
     ]
    },
    {
     "name": "stderr",
     "output_type": "stream",
     "text": [
      "C:\\Users\\ezchave\\AppData\\Local\\Continuum\\anaconda3\\lib\\site-packages\\ipykernel_launcher.py:41: SettingWithCopyWarning: \n",
      "A value is trying to be set on a copy of a slice from a DataFrame.\n",
      "Try using .loc[row_indexer,col_indexer] = value instead\n",
      "\n",
      "See the caveats in the documentation: http://pandas.pydata.org/pandas-docs/stable/indexing.html#indexing-view-versus-copy\n"
     ]
    },
    {
     "name": "stdout",
     "output_type": "stream",
     "text": [
      "  cell_name_anon      band                score        date rank  \\\n",
      "0      cell-6301  band2100                -1.48  2018-12-13    1   \n",
      "1      cell-9125  band2100                -1.15  2018-12-13    2   \n",
      "\n",
      "            percentile  \n",
      "0                99.98  \n",
      "1                99.95  \n",
      "  cell_name_anon     band                score        date rank  \\\n",
      "0      cell-2266  band700                -0.95  2018-12-13    1   \n",
      "1      cell-3593  band700                -0.92  2018-12-13    2   \n",
      "\n",
      "            percentile  \n",
      "0                99.97  \n",
      "1                99.93  \n",
      "2018-12-14\n"
     ]
    },
    {
     "name": "stderr",
     "output_type": "stream",
     "text": [
      "C:\\Users\\ezchave\\AppData\\Local\\Continuum\\anaconda3\\lib\\site-packages\\ipykernel_launcher.py:41: SettingWithCopyWarning: \n",
      "A value is trying to be set on a copy of a slice from a DataFrame.\n",
      "Try using .loc[row_indexer,col_indexer] = value instead\n",
      "\n",
      "See the caveats in the documentation: http://pandas.pydata.org/pandas-docs/stable/indexing.html#indexing-view-versus-copy\n"
     ]
    },
    {
     "name": "stdout",
     "output_type": "stream",
     "text": [
      "  cell_name_anon      band                score        date rank  \\\n",
      "0      cell-7635  band2100                -1.65  2018-12-14    1   \n",
      "1      cell-9125  band2100                -1.13  2018-12-14    2   \n",
      "\n",
      "            percentile  \n",
      "0                99.98  \n",
      "1                99.95  \n",
      "  cell_name_anon     band                score        date rank  \\\n",
      "0      cell-2266  band700                -0.92  2018-12-14    1   \n",
      "1      cell-4000  band700                -0.92  2018-12-14    2   \n",
      "\n",
      "            percentile  \n",
      "0                99.97  \n",
      "1                99.93  \n",
      "2018-12-15\n"
     ]
    },
    {
     "name": "stderr",
     "output_type": "stream",
     "text": [
      "C:\\Users\\ezchave\\AppData\\Local\\Continuum\\anaconda3\\lib\\site-packages\\ipykernel_launcher.py:41: SettingWithCopyWarning: \n",
      "A value is trying to be set on a copy of a slice from a DataFrame.\n",
      "Try using .loc[row_indexer,col_indexer] = value instead\n",
      "\n",
      "See the caveats in the documentation: http://pandas.pydata.org/pandas-docs/stable/indexing.html#indexing-view-versus-copy\n"
     ]
    },
    {
     "name": "stdout",
     "output_type": "stream",
     "text": [
      "  cell_name_anon      band                score        date rank  \\\n",
      "0      cell-7635  band2100                -1.28  2018-12-15    1   \n",
      "1      cell-9125  band2100                -1.04  2018-12-15    2   \n",
      "\n",
      "            percentile  \n",
      "0                99.98  \n",
      "1                99.95  \n",
      "  cell_name_anon     band                score        date rank  \\\n",
      "0      cell-4000  band700                -0.91  2018-12-15    1   \n",
      "1      cell-2266  band700                -0.91  2018-12-15    2   \n",
      "\n",
      "            percentile  \n",
      "0                99.97  \n",
      "1                99.93  \n",
      "2018-12-16\n"
     ]
    },
    {
     "name": "stderr",
     "output_type": "stream",
     "text": [
      "C:\\Users\\ezchave\\AppData\\Local\\Continuum\\anaconda3\\lib\\site-packages\\ipykernel_launcher.py:41: SettingWithCopyWarning: \n",
      "A value is trying to be set on a copy of a slice from a DataFrame.\n",
      "Try using .loc[row_indexer,col_indexer] = value instead\n",
      "\n",
      "See the caveats in the documentation: http://pandas.pydata.org/pandas-docs/stable/indexing.html#indexing-view-versus-copy\n"
     ]
    },
    {
     "name": "stdout",
     "output_type": "stream",
     "text": [
      "  cell_name_anon      band                score        date rank  \\\n",
      "0      cell-7635  band2100                -1.66  2018-12-16    1   \n",
      "1      cell-9053  band2100                -1.12  2018-12-16    2   \n",
      "\n",
      "            percentile  \n",
      "0                99.98  \n",
      "1                99.95  \n",
      "  cell_name_anon     band                score        date rank  \\\n",
      "0      cell-2266  band700                -0.93  2018-12-16    1   \n",
      "1      cell-4000  band700                -0.92  2018-12-16    2   \n",
      "\n",
      "            percentile  \n",
      "0                99.97  \n",
      "1                99.93  \n",
      "2018-12-17\n"
     ]
    },
    {
     "name": "stderr",
     "output_type": "stream",
     "text": [
      "C:\\Users\\ezchave\\AppData\\Local\\Continuum\\anaconda3\\lib\\site-packages\\ipykernel_launcher.py:41: SettingWithCopyWarning: \n",
      "A value is trying to be set on a copy of a slice from a DataFrame.\n",
      "Try using .loc[row_indexer,col_indexer] = value instead\n",
      "\n",
      "See the caveats in the documentation: http://pandas.pydata.org/pandas-docs/stable/indexing.html#indexing-view-versus-copy\n"
     ]
    },
    {
     "name": "stdout",
     "output_type": "stream",
     "text": [
      "  cell_name_anon      band                score        date rank  \\\n",
      "0      cell-7635  band2100                -1.61  2018-12-17    1   \n",
      "1      cell-9125  band2100                -1.06  2018-12-17    2   \n",
      "\n",
      "            percentile  \n",
      "0                99.98  \n",
      "1                99.95  \n",
      "  cell_name_anon     band                score        date rank  \\\n",
      "0      cell-2266  band700                -0.93  2018-12-17    1   \n",
      "1      cell-4000  band700                -0.91  2018-12-17    2   \n",
      "\n",
      "            percentile  \n",
      "0                99.97  \n",
      "1                99.93  \n",
      "2018-12-18\n"
     ]
    },
    {
     "name": "stderr",
     "output_type": "stream",
     "text": [
      "C:\\Users\\ezchave\\AppData\\Local\\Continuum\\anaconda3\\lib\\site-packages\\ipykernel_launcher.py:41: SettingWithCopyWarning: \n",
      "A value is trying to be set on a copy of a slice from a DataFrame.\n",
      "Try using .loc[row_indexer,col_indexer] = value instead\n",
      "\n",
      "See the caveats in the documentation: http://pandas.pydata.org/pandas-docs/stable/indexing.html#indexing-view-versus-copy\n"
     ]
    },
    {
     "name": "stdout",
     "output_type": "stream",
     "text": [
      "  cell_name_anon      band                score        date rank  \\\n",
      "0      cell-9125  band2100                -1.08  2018-12-18    1   \n",
      "1      cell-8935  band2100                -0.99  2018-12-18    2   \n",
      "\n",
      "            percentile  \n",
      "0                99.98  \n",
      "1                99.95  \n",
      "  cell_name_anon     band                score        date rank  \\\n",
      "0      cell-2266  band700                -0.96  2018-12-18    1   \n",
      "1      cell-4000  band700                -0.90  2018-12-18    2   \n",
      "\n",
      "            percentile  \n",
      "0                99.97  \n",
      "1                99.93  \n",
      "2018-12-19\n"
     ]
    },
    {
     "name": "stderr",
     "output_type": "stream",
     "text": [
      "C:\\Users\\ezchave\\AppData\\Local\\Continuum\\anaconda3\\lib\\site-packages\\ipykernel_launcher.py:41: SettingWithCopyWarning: \n",
      "A value is trying to be set on a copy of a slice from a DataFrame.\n",
      "Try using .loc[row_indexer,col_indexer] = value instead\n",
      "\n",
      "See the caveats in the documentation: http://pandas.pydata.org/pandas-docs/stable/indexing.html#indexing-view-versus-copy\n"
     ]
    },
    {
     "name": "stdout",
     "output_type": "stream",
     "text": [
      "  cell_name_anon      band                score        date rank  \\\n",
      "0      cell-8081  band2100                -0.94  2018-12-19    1   \n",
      "1      cell-5252  band2100                -0.66  2018-12-19    2   \n",
      "\n",
      "            percentile  \n",
      "0                99.98  \n",
      "1                99.95  \n",
      "  cell_name_anon     band                score        date rank  \\\n",
      "0      cell-3864  band700                -2.53  2018-12-19    1   \n",
      "1      cell-4925  band700                -1.77  2018-12-19    2   \n",
      "\n",
      "            percentile  \n",
      "0                99.97  \n",
      "1                99.93  \n",
      "2018-12-20\n"
     ]
    },
    {
     "name": "stderr",
     "output_type": "stream",
     "text": [
      "C:\\Users\\ezchave\\AppData\\Local\\Continuum\\anaconda3\\lib\\site-packages\\ipykernel_launcher.py:41: SettingWithCopyWarning: \n",
      "A value is trying to be set on a copy of a slice from a DataFrame.\n",
      "Try using .loc[row_indexer,col_indexer] = value instead\n",
      "\n",
      "See the caveats in the documentation: http://pandas.pydata.org/pandas-docs/stable/indexing.html#indexing-view-versus-copy\n"
     ]
    },
    {
     "name": "stdout",
     "output_type": "stream",
     "text": [
      "  cell_name_anon      band                score        date rank  \\\n",
      "0      cell-8081  band2100                -0.73  2018-12-20    1   \n",
      "1      cell-5286  band2100                -0.57  2018-12-20    2   \n",
      "\n",
      "            percentile  \n",
      "0                99.98  \n",
      "1                99.95  \n",
      "  cell_name_anon     band                score        date rank  \\\n",
      "0      cell-2266  band700                -0.94  2018-12-20    1   \n",
      "1      cell-3229  band700                -0.85  2018-12-20    2   \n",
      "\n",
      "            percentile  \n",
      "0                99.97  \n",
      "1                99.93  \n",
      "2018-12-21\n"
     ]
    },
    {
     "name": "stderr",
     "output_type": "stream",
     "text": [
      "C:\\Users\\ezchave\\AppData\\Local\\Continuum\\anaconda3\\lib\\site-packages\\ipykernel_launcher.py:41: SettingWithCopyWarning: \n",
      "A value is trying to be set on a copy of a slice from a DataFrame.\n",
      "Try using .loc[row_indexer,col_indexer] = value instead\n",
      "\n",
      "See the caveats in the documentation: http://pandas.pydata.org/pandas-docs/stable/indexing.html#indexing-view-versus-copy\n"
     ]
    },
    {
     "name": "stdout",
     "output_type": "stream",
     "text": [
      "  cell_name_anon      band                score        date rank  \\\n",
      "0      cell-9120  band2100                -0.75  2018-12-21    1   \n",
      "1      cell-5286  band2100                -0.56  2018-12-21    2   \n",
      "\n",
      "            percentile  \n",
      "0                99.98  \n",
      "1                99.95  \n",
      "  cell_name_anon     band                score        date rank  \\\n",
      "0      cell-2266  band700                -0.98  2018-12-21    1   \n",
      "1      cell-3713  band700                -0.89  2018-12-21    2   \n",
      "\n",
      "            percentile  \n",
      "0                99.97  \n",
      "1                99.93  \n",
      "2018-12-23\n"
     ]
    },
    {
     "name": "stderr",
     "output_type": "stream",
     "text": [
      "C:\\Users\\ezchave\\AppData\\Local\\Continuum\\anaconda3\\lib\\site-packages\\ipykernel_launcher.py:41: SettingWithCopyWarning: \n",
      "A value is trying to be set on a copy of a slice from a DataFrame.\n",
      "Try using .loc[row_indexer,col_indexer] = value instead\n",
      "\n",
      "See the caveats in the documentation: http://pandas.pydata.org/pandas-docs/stable/indexing.html#indexing-view-versus-copy\n"
     ]
    },
    {
     "name": "stdout",
     "output_type": "stream",
     "text": [
      "  cell_name_anon      band                score        date rank  \\\n",
      "0      cell-9120  band2100                -0.98  2018-12-23    1   \n",
      "1      cell-8081  band2100                -0.78  2018-12-23    2   \n",
      "\n",
      "            percentile  \n",
      "0                99.98  \n",
      "1                99.95  \n",
      "  cell_name_anon     band                score        date rank  \\\n",
      "0      cell-2266  band700                -0.90  2018-12-23    1   \n",
      "1      cell-2837  band700                -0.86  2018-12-23    2   \n",
      "\n",
      "            percentile  \n",
      "0                99.97  \n",
      "1                99.93  \n",
      "2018-12-24\n"
     ]
    },
    {
     "name": "stderr",
     "output_type": "stream",
     "text": [
      "C:\\Users\\ezchave\\AppData\\Local\\Continuum\\anaconda3\\lib\\site-packages\\ipykernel_launcher.py:41: SettingWithCopyWarning: \n",
      "A value is trying to be set on a copy of a slice from a DataFrame.\n",
      "Try using .loc[row_indexer,col_indexer] = value instead\n",
      "\n",
      "See the caveats in the documentation: http://pandas.pydata.org/pandas-docs/stable/indexing.html#indexing-view-versus-copy\n"
     ]
    },
    {
     "name": "stdout",
     "output_type": "stream",
     "text": [
      "  cell_name_anon      band                score        date rank  \\\n",
      "0      cell-9120  band2100                -0.91  2018-12-24    1   \n",
      "1      cell-8081  band2100                -0.77  2018-12-24    2   \n",
      "\n",
      "            percentile  \n",
      "0                99.98  \n",
      "1                99.95  \n",
      "  cell_name_anon     band                score        date rank  \\\n",
      "0      cell-2485  band700                -0.87  2018-12-24    1   \n",
      "1      cell-2837  band700                -0.86  2018-12-24    2   \n",
      "\n",
      "            percentile  \n",
      "0                99.97  \n",
      "1                99.93  \n",
      "2018-12-25\n"
     ]
    },
    {
     "name": "stderr",
     "output_type": "stream",
     "text": [
      "C:\\Users\\ezchave\\AppData\\Local\\Continuum\\anaconda3\\lib\\site-packages\\ipykernel_launcher.py:41: SettingWithCopyWarning: \n",
      "A value is trying to be set on a copy of a slice from a DataFrame.\n",
      "Try using .loc[row_indexer,col_indexer] = value instead\n",
      "\n",
      "See the caveats in the documentation: http://pandas.pydata.org/pandas-docs/stable/indexing.html#indexing-view-versus-copy\n"
     ]
    },
    {
     "name": "stdout",
     "output_type": "stream",
     "text": [
      "  cell_name_anon      band                score        date rank  \\\n",
      "0      cell-6867  band2100                -0.50  2018-12-25    1   \n",
      "1      cell-7735  band2100                -0.49  2018-12-25    2   \n",
      "\n",
      "            percentile  \n",
      "0                99.98  \n",
      "1                99.95  \n",
      "  cell_name_anon     band                score        date rank  \\\n",
      "0      cell-3217  band700                -0.82  2018-12-25    1   \n",
      "1      cell-2837  band700                -0.81  2018-12-25    2   \n",
      "\n",
      "            percentile  \n",
      "0                99.97  \n",
      "1                99.93  \n",
      "2018-12-26\n"
     ]
    },
    {
     "name": "stderr",
     "output_type": "stream",
     "text": [
      "C:\\Users\\ezchave\\AppData\\Local\\Continuum\\anaconda3\\lib\\site-packages\\ipykernel_launcher.py:41: SettingWithCopyWarning: \n",
      "A value is trying to be set on a copy of a slice from a DataFrame.\n",
      "Try using .loc[row_indexer,col_indexer] = value instead\n",
      "\n",
      "See the caveats in the documentation: http://pandas.pydata.org/pandas-docs/stable/indexing.html#indexing-view-versus-copy\n"
     ]
    },
    {
     "name": "stdout",
     "output_type": "stream",
     "text": [
      "  cell_name_anon      band                score        date rank  \\\n",
      "0      cell-8756  band2100                -0.48  2018-12-26    1   \n",
      "1      cell-7735  band2100                -0.46  2018-12-26    2   \n",
      "\n",
      "            percentile  \n",
      "0                99.98  \n",
      "1                99.95  \n",
      "  cell_name_anon     band                score        date rank  \\\n",
      "0      cell-2266  band700                -0.83  2018-12-26    1   \n",
      "1      cell-4917  band700                -0.81  2018-12-26    2   \n",
      "\n",
      "            percentile  \n",
      "0                99.97  \n",
      "1                99.93  \n",
      "2018-12-27\n"
     ]
    },
    {
     "name": "stderr",
     "output_type": "stream",
     "text": [
      "C:\\Users\\ezchave\\AppData\\Local\\Continuum\\anaconda3\\lib\\site-packages\\ipykernel_launcher.py:41: SettingWithCopyWarning: \n",
      "A value is trying to be set on a copy of a slice from a DataFrame.\n",
      "Try using .loc[row_indexer,col_indexer] = value instead\n",
      "\n",
      "See the caveats in the documentation: http://pandas.pydata.org/pandas-docs/stable/indexing.html#indexing-view-versus-copy\n"
     ]
    },
    {
     "name": "stdout",
     "output_type": "stream",
     "text": [
      "  cell_name_anon      band                score        date rank  \\\n",
      "0      cell-9021  band2100                -0.50  2018-12-27    1   \n",
      "1      cell-8756  band2100                -0.46  2018-12-27    2   \n",
      "\n",
      "            percentile  \n",
      "0                99.98  \n",
      "1                99.95  \n",
      "  cell_name_anon     band                score        date rank  \\\n",
      "0      cell-3220  band700                -0.77  2018-12-27    1   \n",
      "1      cell-2473  band700                -0.76  2018-12-27    2   \n",
      "\n",
      "            percentile  \n",
      "0                99.97  \n",
      "1                99.93  \n",
      "2018-12-28\n"
     ]
    },
    {
     "name": "stderr",
     "output_type": "stream",
     "text": [
      "C:\\Users\\ezchave\\AppData\\Local\\Continuum\\anaconda3\\lib\\site-packages\\ipykernel_launcher.py:41: SettingWithCopyWarning: \n",
      "A value is trying to be set on a copy of a slice from a DataFrame.\n",
      "Try using .loc[row_indexer,col_indexer] = value instead\n",
      "\n",
      "See the caveats in the documentation: http://pandas.pydata.org/pandas-docs/stable/indexing.html#indexing-view-versus-copy\n"
     ]
    },
    {
     "name": "stdout",
     "output_type": "stream",
     "text": [
      "  cell_name_anon      band                score        date rank  \\\n",
      "0      cell-8754  band2100                -0.42  2018-12-28    1   \n",
      "1      cell-6334  band2100                -0.41  2018-12-28    2   \n",
      "\n",
      "            percentile  \n",
      "0                99.98  \n",
      "1                99.95  \n",
      "  cell_name_anon     band                score        date rank  \\\n",
      "0      cell-2718  band700                -0.84  2018-12-28    1   \n",
      "1      cell-3547  band700                -0.76  2018-12-28    2   \n",
      "\n",
      "            percentile  \n",
      "0                99.97  \n",
      "1                99.93  \n",
      "2018-12-29\n"
     ]
    },
    {
     "name": "stderr",
     "output_type": "stream",
     "text": [
      "C:\\Users\\ezchave\\AppData\\Local\\Continuum\\anaconda3\\lib\\site-packages\\ipykernel_launcher.py:41: SettingWithCopyWarning: \n",
      "A value is trying to be set on a copy of a slice from a DataFrame.\n",
      "Try using .loc[row_indexer,col_indexer] = value instead\n",
      "\n",
      "See the caveats in the documentation: http://pandas.pydata.org/pandas-docs/stable/indexing.html#indexing-view-versus-copy\n"
     ]
    },
    {
     "name": "stdout",
     "output_type": "stream",
     "text": [
      "  cell_name_anon      band                score        date rank  \\\n",
      "0      cell-5101  band2100                -1.65  2018-12-29    1   \n",
      "1      cell-5693  band2100                -1.43  2018-12-29    2   \n",
      "\n",
      "            percentile  \n",
      "0                99.98  \n",
      "1                99.95  \n",
      "  cell_name_anon     band                score        date rank  \\\n",
      "0      cell-3150  band700                -0.81  2018-12-29    1   \n",
      "1      cell-3547  band700                -0.80  2018-12-29    2   \n",
      "\n",
      "            percentile  \n",
      "0                99.97  \n",
      "1                99.93  \n",
      "2018-12-30\n"
     ]
    },
    {
     "name": "stderr",
     "output_type": "stream",
     "text": [
      "C:\\Users\\ezchave\\AppData\\Local\\Continuum\\anaconda3\\lib\\site-packages\\ipykernel_launcher.py:41: SettingWithCopyWarning: \n",
      "A value is trying to be set on a copy of a slice from a DataFrame.\n",
      "Try using .loc[row_indexer,col_indexer] = value instead\n",
      "\n",
      "See the caveats in the documentation: http://pandas.pydata.org/pandas-docs/stable/indexing.html#indexing-view-versus-copy\n"
     ]
    },
    {
     "name": "stdout",
     "output_type": "stream",
     "text": [
      "  cell_name_anon      band                score        date rank  \\\n",
      "0      cell-5693  band2100                -1.97  2018-12-30    1   \n",
      "1      cell-5101  band2100                -1.65  2018-12-30    2   \n",
      "\n",
      "            percentile  \n",
      "0                99.98  \n",
      "1                99.95  \n",
      "  cell_name_anon     band                score        date rank  \\\n",
      "0      cell-3555  band700                -1.34  2018-12-30    1   \n",
      "1      cell-3610  band700                -1.06  2018-12-30    2   \n",
      "\n",
      "            percentile  \n",
      "0                99.97  \n",
      "1                99.93  \n",
      "2018-12-31\n"
     ]
    },
    {
     "name": "stderr",
     "output_type": "stream",
     "text": [
      "C:\\Users\\ezchave\\AppData\\Local\\Continuum\\anaconda3\\lib\\site-packages\\ipykernel_launcher.py:41: SettingWithCopyWarning: \n",
      "A value is trying to be set on a copy of a slice from a DataFrame.\n",
      "Try using .loc[row_indexer,col_indexer] = value instead\n",
      "\n",
      "See the caveats in the documentation: http://pandas.pydata.org/pandas-docs/stable/indexing.html#indexing-view-versus-copy\n"
     ]
    },
    {
     "name": "stdout",
     "output_type": "stream",
     "text": [
      "  cell_name_anon      band                score        date rank  \\\n",
      "0      cell-5693  band2100                -1.83  2018-12-31    1   \n",
      "1      cell-5101  band2100                -1.23  2018-12-31    2   \n",
      "\n",
      "            percentile  \n",
      "0                99.98  \n",
      "1                99.95  \n",
      "  cell_name_anon     band                score        date rank  \\\n",
      "0      cell-3555  band700                -2.07  2018-12-31    1   \n",
      "1      cell-3426  band700                -1.57  2018-12-31    2   \n",
      "\n",
      "            percentile  \n",
      "0                99.97  \n",
      "1                99.93  \n",
      "2019-01-01\n"
     ]
    },
    {
     "name": "stderr",
     "output_type": "stream",
     "text": [
      "C:\\Users\\ezchave\\AppData\\Local\\Continuum\\anaconda3\\lib\\site-packages\\ipykernel_launcher.py:41: SettingWithCopyWarning: \n",
      "A value is trying to be set on a copy of a slice from a DataFrame.\n",
      "Try using .loc[row_indexer,col_indexer] = value instead\n",
      "\n",
      "See the caveats in the documentation: http://pandas.pydata.org/pandas-docs/stable/indexing.html#indexing-view-versus-copy\n"
     ]
    },
    {
     "name": "stdout",
     "output_type": "stream",
     "text": [
      "  cell_name_anon      band                score        date rank  \\\n",
      "0      cell-5230  band2100                -1.05  2019-01-01    1   \n",
      "1      cell-8596  band2100                -1.04  2019-01-01    2   \n",
      "\n",
      "            percentile  \n",
      "0                99.98  \n",
      "1                99.95  \n",
      "  cell_name_anon     band                score        date rank  \\\n",
      "0      cell-3593  band700                -0.94  2019-01-01    1   \n",
      "1      cell-2412  band700                -0.93  2019-01-01    2   \n",
      "\n",
      "            percentile  \n",
      "0                99.97  \n",
      "1                99.93  \n",
      "2019-01-02\n"
     ]
    },
    {
     "name": "stderr",
     "output_type": "stream",
     "text": [
      "C:\\Users\\ezchave\\AppData\\Local\\Continuum\\anaconda3\\lib\\site-packages\\ipykernel_launcher.py:41: SettingWithCopyWarning: \n",
      "A value is trying to be set on a copy of a slice from a DataFrame.\n",
      "Try using .loc[row_indexer,col_indexer] = value instead\n",
      "\n",
      "See the caveats in the documentation: http://pandas.pydata.org/pandas-docs/stable/indexing.html#indexing-view-versus-copy\n"
     ]
    },
    {
     "name": "stdout",
     "output_type": "stream",
     "text": [
      "  cell_name_anon      band                score        date rank  \\\n",
      "0      cell-9019  band2100                -1.36  2019-01-02    1   \n",
      "1      cell-8081  band2100                -1.29  2019-01-02    2   \n",
      "\n",
      "            percentile  \n",
      "0                99.98  \n",
      "1                99.95  \n",
      "  cell_name_anon     band                score        date rank  \\\n",
      "0      cell-3593  band700                -1.00  2019-01-02    1   \n",
      "1      cell-2412  band700                -0.95  2019-01-02    2   \n",
      "\n",
      "            percentile  \n",
      "0                99.97  \n",
      "1                99.93  \n",
      "2019-01-03\n"
     ]
    },
    {
     "name": "stderr",
     "output_type": "stream",
     "text": [
      "C:\\Users\\ezchave\\AppData\\Local\\Continuum\\anaconda3\\lib\\site-packages\\ipykernel_launcher.py:41: SettingWithCopyWarning: \n",
      "A value is trying to be set on a copy of a slice from a DataFrame.\n",
      "Try using .loc[row_indexer,col_indexer] = value instead\n",
      "\n",
      "See the caveats in the documentation: http://pandas.pydata.org/pandas-docs/stable/indexing.html#indexing-view-versus-copy\n"
     ]
    },
    {
     "name": "stdout",
     "output_type": "stream",
     "text": [
      "  cell_name_anon      band                score        date rank  \\\n",
      "0      cell-8596  band2100                -1.35  2019-01-03    1   \n",
      "1      cell-5693  band2100                -1.30  2019-01-03    2   \n",
      "\n",
      "            percentile  \n",
      "0                99.98  \n",
      "1                99.95  \n",
      "  cell_name_anon     band                score        date rank  \\\n",
      "0      cell-4007  band700                -0.97  2019-01-03    1   \n",
      "1      cell-2412  band700                -0.96  2019-01-03    2   \n",
      "\n",
      "            percentile  \n",
      "0                99.97  \n",
      "1                99.93  \n",
      "2019-01-04\n"
     ]
    },
    {
     "name": "stderr",
     "output_type": "stream",
     "text": [
      "C:\\Users\\ezchave\\AppData\\Local\\Continuum\\anaconda3\\lib\\site-packages\\ipykernel_launcher.py:41: SettingWithCopyWarning: \n",
      "A value is trying to be set on a copy of a slice from a DataFrame.\n",
      "Try using .loc[row_indexer,col_indexer] = value instead\n",
      "\n",
      "See the caveats in the documentation: http://pandas.pydata.org/pandas-docs/stable/indexing.html#indexing-view-versus-copy\n"
     ]
    },
    {
     "name": "stdout",
     "output_type": "stream",
     "text": [
      "  cell_name_anon      band                score        date rank  \\\n",
      "0      cell-8596  band2100                -1.98  2019-01-04    1   \n",
      "1      cell-5693  band2100                -1.46  2019-01-04    2   \n",
      "\n",
      "            percentile  \n",
      "0                99.98  \n",
      "1                99.95  \n",
      "  cell_name_anon     band                score        date rank  \\\n",
      "0      cell-4007  band700                -0.73  2019-01-04    1   \n",
      "1      cell-2412  band700                -0.69  2019-01-04    2   \n",
      "\n",
      "            percentile  \n",
      "0                99.97  \n",
      "1                99.93  \n",
      "2019-01-05\n"
     ]
    },
    {
     "name": "stderr",
     "output_type": "stream",
     "text": [
      "C:\\Users\\ezchave\\AppData\\Local\\Continuum\\anaconda3\\lib\\site-packages\\ipykernel_launcher.py:41: SettingWithCopyWarning: \n",
      "A value is trying to be set on a copy of a slice from a DataFrame.\n",
      "Try using .loc[row_indexer,col_indexer] = value instead\n",
      "\n",
      "See the caveats in the documentation: http://pandas.pydata.org/pandas-docs/stable/indexing.html#indexing-view-versus-copy\n"
     ]
    },
    {
     "name": "stdout",
     "output_type": "stream",
     "text": [
      "  cell_name_anon      band                score        date rank  \\\n",
      "0      cell-5693  band2100                -1.00  2019-01-05    1   \n",
      "1      cell-7698  band2100                -0.82  2019-01-05    2   \n",
      "\n",
      "            percentile  \n",
      "0                99.98  \n",
      "1                99.95  \n",
      "  cell_name_anon     band                score        date rank  \\\n",
      "0      cell-4007  band700                -0.65  2019-01-05    1   \n",
      "1      cell-2412  band700                -0.62  2019-01-05    2   \n",
      "\n",
      "            percentile  \n",
      "0                99.97  \n",
      "1                99.93  \n",
      "2019-01-06\n"
     ]
    },
    {
     "name": "stderr",
     "output_type": "stream",
     "text": [
      "C:\\Users\\ezchave\\AppData\\Local\\Continuum\\anaconda3\\lib\\site-packages\\ipykernel_launcher.py:41: SettingWithCopyWarning: \n",
      "A value is trying to be set on a copy of a slice from a DataFrame.\n",
      "Try using .loc[row_indexer,col_indexer] = value instead\n",
      "\n",
      "See the caveats in the documentation: http://pandas.pydata.org/pandas-docs/stable/indexing.html#indexing-view-versus-copy\n"
     ]
    },
    {
     "name": "stdout",
     "output_type": "stream",
     "text": [
      "  cell_name_anon      band                score        date rank  \\\n",
      "0      cell-7297  band2100                -0.60  2019-01-06    1   \n",
      "1      cell-5441  band2100                -0.54  2019-01-06    2   \n",
      "\n",
      "            percentile  \n",
      "0                99.98  \n",
      "1                99.95  \n",
      "  cell_name_anon     band                score        date rank  \\\n",
      "0      cell-4007  band700                -0.61  2019-01-06    1   \n",
      "1      cell-2412  band700                -0.58  2019-01-06    2   \n",
      "\n",
      "            percentile  \n",
      "0                99.97  \n",
      "1                99.93  \n",
      "2019-01-07\n"
     ]
    },
    {
     "name": "stderr",
     "output_type": "stream",
     "text": [
      "C:\\Users\\ezchave\\AppData\\Local\\Continuum\\anaconda3\\lib\\site-packages\\ipykernel_launcher.py:41: SettingWithCopyWarning: \n",
      "A value is trying to be set on a copy of a slice from a DataFrame.\n",
      "Try using .loc[row_indexer,col_indexer] = value instead\n",
      "\n",
      "See the caveats in the documentation: http://pandas.pydata.org/pandas-docs/stable/indexing.html#indexing-view-versus-copy\n"
     ]
    },
    {
     "name": "stdout",
     "output_type": "stream",
     "text": [
      "  cell_name_anon      band                score        date rank  \\\n",
      "0      cell-5230  band2100                -1.11  2019-01-07    1   \n",
      "1      cell-8596  band2100                -0.97  2019-01-07    2   \n",
      "\n",
      "            percentile  \n",
      "0                99.98  \n",
      "1                99.95  \n",
      "  cell_name_anon     band                score        date rank  \\\n",
      "0      cell-4007  band700                -0.64  2019-01-07    1   \n",
      "1      cell-3995  band700                -0.63  2019-01-07    2   \n",
      "\n",
      "            percentile  \n",
      "0                99.97  \n",
      "1                99.93  \n",
      "2019-01-08\n"
     ]
    },
    {
     "name": "stderr",
     "output_type": "stream",
     "text": [
      "C:\\Users\\ezchave\\AppData\\Local\\Continuum\\anaconda3\\lib\\site-packages\\ipykernel_launcher.py:41: SettingWithCopyWarning: \n",
      "A value is trying to be set on a copy of a slice from a DataFrame.\n",
      "Try using .loc[row_indexer,col_indexer] = value instead\n",
      "\n",
      "See the caveats in the documentation: http://pandas.pydata.org/pandas-docs/stable/indexing.html#indexing-view-versus-copy\n"
     ]
    },
    {
     "name": "stdout",
     "output_type": "stream",
     "text": [
      "  cell_name_anon      band                score        date rank  \\\n",
      "0      cell-7297  band2100                -0.78  2019-01-08    1   \n",
      "1      cell-5101  band2100                -0.63  2019-01-08    2   \n",
      "\n",
      "            percentile  \n",
      "0                99.98  \n",
      "1                99.95  \n",
      "  cell_name_anon     band                score        date rank  \\\n",
      "0      cell-4007  band700                -0.68  2019-01-08    1   \n",
      "1      cell-3995  band700                -0.67  2019-01-08    2   \n",
      "\n",
      "            percentile  \n",
      "0                99.97  \n",
      "1                99.93  \n",
      "2019-01-09\n"
     ]
    },
    {
     "name": "stderr",
     "output_type": "stream",
     "text": [
      "C:\\Users\\ezchave\\AppData\\Local\\Continuum\\anaconda3\\lib\\site-packages\\ipykernel_launcher.py:41: SettingWithCopyWarning: \n",
      "A value is trying to be set on a copy of a slice from a DataFrame.\n",
      "Try using .loc[row_indexer,col_indexer] = value instead\n",
      "\n",
      "See the caveats in the documentation: http://pandas.pydata.org/pandas-docs/stable/indexing.html#indexing-view-versus-copy\n"
     ]
    },
    {
     "name": "stdout",
     "output_type": "stream",
     "text": [
      "  cell_name_anon      band                score        date rank  \\\n",
      "0      cell-7297  band2100                -0.84  2019-01-09    1   \n",
      "1      cell-5101  band2100                -0.73  2019-01-09    2   \n",
      "\n",
      "            percentile  \n",
      "0                99.98  \n",
      "1                99.95  \n",
      "  cell_name_anon     band                score        date rank  \\\n",
      "0      cell-2412  band700                -0.66  2019-01-09    1   \n",
      "1      cell-3193  band700                -0.64  2019-01-09    2   \n",
      "\n",
      "            percentile  \n",
      "0                99.97  \n",
      "1                99.93  \n",
      "2019-01-10\n"
     ]
    },
    {
     "name": "stderr",
     "output_type": "stream",
     "text": [
      "C:\\Users\\ezchave\\AppData\\Local\\Continuum\\anaconda3\\lib\\site-packages\\ipykernel_launcher.py:41: SettingWithCopyWarning: \n",
      "A value is trying to be set on a copy of a slice from a DataFrame.\n",
      "Try using .loc[row_indexer,col_indexer] = value instead\n",
      "\n",
      "See the caveats in the documentation: http://pandas.pydata.org/pandas-docs/stable/indexing.html#indexing-view-versus-copy\n"
     ]
    },
    {
     "name": "stdout",
     "output_type": "stream",
     "text": [
      "  cell_name_anon      band                score        date rank  \\\n",
      "0      cell-7955  band2100                -0.94  2019-01-10    1   \n",
      "1      cell-5101  band2100                -0.79  2019-01-10    2   \n",
      "\n",
      "            percentile  \n",
      "0                99.98  \n",
      "1                99.95  \n",
      "  cell_name_anon     band                score        date rank  \\\n",
      "0      cell-2266  band700                -0.69  2019-01-10    1   \n",
      "1      cell-2412  band700                -0.68  2019-01-10    2   \n",
      "\n",
      "            percentile  \n",
      "0                99.97  \n",
      "1                99.93  \n",
      "2019-01-11\n"
     ]
    },
    {
     "name": "stderr",
     "output_type": "stream",
     "text": [
      "C:\\Users\\ezchave\\AppData\\Local\\Continuum\\anaconda3\\lib\\site-packages\\ipykernel_launcher.py:41: SettingWithCopyWarning: \n",
      "A value is trying to be set on a copy of a slice from a DataFrame.\n",
      "Try using .loc[row_indexer,col_indexer] = value instead\n",
      "\n",
      "See the caveats in the documentation: http://pandas.pydata.org/pandas-docs/stable/indexing.html#indexing-view-versus-copy\n"
     ]
    },
    {
     "name": "stdout",
     "output_type": "stream",
     "text": [
      "  cell_name_anon      band                score        date rank  \\\n",
      "0      cell-7955  band2100                -0.95  2019-01-11    1   \n",
      "1      cell-5101  band2100                -0.91  2019-01-11    2   \n",
      "\n",
      "            percentile  \n",
      "0                99.98  \n",
      "1                99.95  \n",
      "  cell_name_anon     band                score        date rank  \\\n",
      "0      cell-4000  band700                -1.01  2019-01-11    1   \n",
      "1      cell-2412  band700                -0.97  2019-01-11    2   \n",
      "\n",
      "            percentile  \n",
      "0                99.97  \n",
      "1                99.93  \n",
      "2019-01-12\n"
     ]
    },
    {
     "name": "stderr",
     "output_type": "stream",
     "text": [
      "C:\\Users\\ezchave\\AppData\\Local\\Continuum\\anaconda3\\lib\\site-packages\\ipykernel_launcher.py:41: SettingWithCopyWarning: \n",
      "A value is trying to be set on a copy of a slice from a DataFrame.\n",
      "Try using .loc[row_indexer,col_indexer] = value instead\n",
      "\n",
      "See the caveats in the documentation: http://pandas.pydata.org/pandas-docs/stable/indexing.html#indexing-view-versus-copy\n"
     ]
    },
    {
     "name": "stdout",
     "output_type": "stream",
     "text": [
      "  cell_name_anon      band                score        date rank  \\\n",
      "0      cell-5101  band2100                -1.34  2019-01-12    1   \n",
      "1      cell-7955  band2100                -1.25  2019-01-12    2   \n",
      "\n",
      "            percentile  \n",
      "0                99.98  \n",
      "1                99.95  \n",
      "  cell_name_anon     band                score        date rank  \\\n",
      "0      cell-4000  band700                -1.14  2019-01-12    1   \n",
      "1      cell-2412  band700                -1.09  2019-01-12    2   \n",
      "\n",
      "            percentile  \n",
      "0                99.97  \n",
      "1                99.93  \n",
      "2019-01-13\n"
     ]
    },
    {
     "name": "stderr",
     "output_type": "stream",
     "text": [
      "C:\\Users\\ezchave\\AppData\\Local\\Continuum\\anaconda3\\lib\\site-packages\\ipykernel_launcher.py:41: SettingWithCopyWarning: \n",
      "A value is trying to be set on a copy of a slice from a DataFrame.\n",
      "Try using .loc[row_indexer,col_indexer] = value instead\n",
      "\n",
      "See the caveats in the documentation: http://pandas.pydata.org/pandas-docs/stable/indexing.html#indexing-view-versus-copy\n"
     ]
    },
    {
     "name": "stdout",
     "output_type": "stream",
     "text": [
      "  cell_name_anon      band                score        date rank  \\\n",
      "0      cell-5101  band2100                -1.18  2019-01-13    1   \n",
      "1      cell-7955  band2100                -1.14  2019-01-13    2   \n",
      "\n",
      "            percentile  \n",
      "0                99.98  \n",
      "1                99.95  \n",
      "  cell_name_anon     band                score        date rank  \\\n",
      "0      cell-2266  band700                -0.90  2019-01-13    1   \n",
      "1      cell-2412  band700                -0.86  2019-01-13    2   \n",
      "\n",
      "            percentile  \n",
      "0                99.97  \n",
      "1                99.93  \n",
      "2019-01-14\n"
     ]
    },
    {
     "name": "stderr",
     "output_type": "stream",
     "text": [
      "C:\\Users\\ezchave\\AppData\\Local\\Continuum\\anaconda3\\lib\\site-packages\\ipykernel_launcher.py:41: SettingWithCopyWarning: \n",
      "A value is trying to be set on a copy of a slice from a DataFrame.\n",
      "Try using .loc[row_indexer,col_indexer] = value instead\n",
      "\n",
      "See the caveats in the documentation: http://pandas.pydata.org/pandas-docs/stable/indexing.html#indexing-view-versus-copy\n"
     ]
    },
    {
     "name": "stdout",
     "output_type": "stream",
     "text": [
      "  cell_name_anon      band                score        date rank  \\\n",
      "0      cell-5488  band2100                -1.02  2019-01-14    1   \n",
      "1      cell-6771  band2100                -1.00  2019-01-14    2   \n",
      "\n",
      "            percentile  \n",
      "0                99.98  \n",
      "1                99.95  \n",
      "  cell_name_anon     band                score        date rank  \\\n",
      "0      cell-2266  band700                -0.90  2019-01-14    1   \n",
      "1      cell-2412  band700                -0.83  2019-01-14    2   \n",
      "\n",
      "            percentile  \n",
      "0                99.97  \n",
      "1                99.93  \n",
      "2019-01-15\n"
     ]
    },
    {
     "name": "stderr",
     "output_type": "stream",
     "text": [
      "C:\\Users\\ezchave\\AppData\\Local\\Continuum\\anaconda3\\lib\\site-packages\\ipykernel_launcher.py:41: SettingWithCopyWarning: \n",
      "A value is trying to be set on a copy of a slice from a DataFrame.\n",
      "Try using .loc[row_indexer,col_indexer] = value instead\n",
      "\n",
      "See the caveats in the documentation: http://pandas.pydata.org/pandas-docs/stable/indexing.html#indexing-view-versus-copy\n"
     ]
    },
    {
     "name": "stdout",
     "output_type": "stream",
     "text": [
      "  cell_name_anon      band                score        date rank  \\\n",
      "0      cell-6771  band2100                -0.99  2019-01-15    1   \n",
      "1      cell-5488  band2100                -0.90  2019-01-15    2   \n",
      "\n",
      "            percentile  \n",
      "0                99.98  \n",
      "1                99.95  \n",
      "  cell_name_anon     band                score        date rank  \\\n",
      "0      cell-2266  band700                -0.91  2019-01-15    1   \n",
      "1      cell-2974  band700                -0.81  2019-01-15    2   \n",
      "\n",
      "            percentile  \n",
      "0                99.97  \n",
      "1                99.93  \n",
      "2019-01-16\n"
     ]
    },
    {
     "name": "stderr",
     "output_type": "stream",
     "text": [
      "C:\\Users\\ezchave\\AppData\\Local\\Continuum\\anaconda3\\lib\\site-packages\\ipykernel_launcher.py:41: SettingWithCopyWarning: \n",
      "A value is trying to be set on a copy of a slice from a DataFrame.\n",
      "Try using .loc[row_indexer,col_indexer] = value instead\n",
      "\n",
      "See the caveats in the documentation: http://pandas.pydata.org/pandas-docs/stable/indexing.html#indexing-view-versus-copy\n"
     ]
    },
    {
     "name": "stdout",
     "output_type": "stream",
     "text": [
      "  cell_name_anon      band                score        date rank  \\\n",
      "0      cell-6334  band2100                -1.26  2019-01-16    1   \n",
      "1      cell-9125  band2100                -1.22  2019-01-16    2   \n",
      "\n",
      "            percentile  \n",
      "0                99.98  \n",
      "1                99.95  \n",
      "  cell_name_anon     band                score        date rank  \\\n",
      "0      cell-3109  band700                -0.93  2019-01-16    1   \n",
      "1      cell-2974  band700                -0.84  2019-01-16    2   \n",
      "\n",
      "            percentile  \n",
      "0                99.97  \n",
      "1                99.93  \n",
      "2019-01-23\n"
     ]
    },
    {
     "name": "stderr",
     "output_type": "stream",
     "text": [
      "C:\\Users\\ezchave\\AppData\\Local\\Continuum\\anaconda3\\lib\\site-packages\\ipykernel_launcher.py:41: SettingWithCopyWarning: \n",
      "A value is trying to be set on a copy of a slice from a DataFrame.\n",
      "Try using .loc[row_indexer,col_indexer] = value instead\n",
      "\n",
      "See the caveats in the documentation: http://pandas.pydata.org/pandas-docs/stable/indexing.html#indexing-view-versus-copy\n"
     ]
    },
    {
     "name": "stdout",
     "output_type": "stream",
     "text": [
      "  cell_name_anon      band                score        date rank  \\\n",
      "0      cell-5230  band2100                -1.03  2019-01-23    1   \n",
      "1      cell-8596  band2100                -1.00  2019-01-23    2   \n",
      "\n",
      "            percentile  \n",
      "0                99.98  \n",
      "1                99.95  \n",
      "  cell_name_anon     band                score        date rank  \\\n",
      "0      cell-2791  band700                -0.94  2019-01-23    1   \n",
      "1      cell-3028  band700                -0.92  2019-01-23    2   \n",
      "\n",
      "            percentile  \n",
      "0                99.97  \n",
      "1                99.93  \n",
      "2019-01-24\n"
     ]
    },
    {
     "name": "stderr",
     "output_type": "stream",
     "text": [
      "C:\\Users\\ezchave\\AppData\\Local\\Continuum\\anaconda3\\lib\\site-packages\\ipykernel_launcher.py:41: SettingWithCopyWarning: \n",
      "A value is trying to be set on a copy of a slice from a DataFrame.\n",
      "Try using .loc[row_indexer,col_indexer] = value instead\n",
      "\n",
      "See the caveats in the documentation: http://pandas.pydata.org/pandas-docs/stable/indexing.html#indexing-view-versus-copy\n"
     ]
    },
    {
     "name": "stdout",
     "output_type": "stream",
     "text": [
      "  cell_name_anon      band                score        date rank  \\\n",
      "0      cell-8081  band2100                -0.78  2019-01-24    1   \n",
      "1      cell-6334  band2100                -0.46  2019-01-24    2   \n",
      "\n",
      "            percentile  \n",
      "0                99.98  \n",
      "1                99.95  \n",
      "  cell_name_anon     band                score        date rank  \\\n",
      "0      cell-2464  band700                -0.85  2019-01-24    1   \n",
      "1      cell-2974  band700                -0.82  2019-01-24    2   \n",
      "\n",
      "            percentile  \n",
      "0                99.97  \n",
      "1                99.93  \n",
      "2019-01-25\n"
     ]
    },
    {
     "name": "stderr",
     "output_type": "stream",
     "text": [
      "C:\\Users\\ezchave\\AppData\\Local\\Continuum\\anaconda3\\lib\\site-packages\\ipykernel_launcher.py:41: SettingWithCopyWarning: \n",
      "A value is trying to be set on a copy of a slice from a DataFrame.\n",
      "Try using .loc[row_indexer,col_indexer] = value instead\n",
      "\n",
      "See the caveats in the documentation: http://pandas.pydata.org/pandas-docs/stable/indexing.html#indexing-view-versus-copy\n"
     ]
    },
    {
     "name": "stdout",
     "output_type": "stream",
     "text": [
      "  cell_name_anon      band                score        date rank  \\\n",
      "0      cell-6335  band2100                -1.02  2019-01-25    1   \n",
      "1      cell-6916  band2100                -1.00  2019-01-25    2   \n",
      "\n",
      "            percentile  \n",
      "0                99.98  \n",
      "1                99.95  \n",
      "  cell_name_anon     band                score        date rank  \\\n",
      "0      cell-2464  band700                -0.94  2019-01-25    1   \n",
      "1      cell-2717  band700                -0.86  2019-01-25    2   \n",
      "\n",
      "            percentile  \n",
      "0                99.97  \n",
      "1                99.93  \n",
      "2019-01-27\n"
     ]
    },
    {
     "name": "stderr",
     "output_type": "stream",
     "text": [
      "C:\\Users\\ezchave\\AppData\\Local\\Continuum\\anaconda3\\lib\\site-packages\\ipykernel_launcher.py:41: SettingWithCopyWarning: \n",
      "A value is trying to be set on a copy of a slice from a DataFrame.\n",
      "Try using .loc[row_indexer,col_indexer] = value instead\n",
      "\n",
      "See the caveats in the documentation: http://pandas.pydata.org/pandas-docs/stable/indexing.html#indexing-view-versus-copy\n"
     ]
    },
    {
     "name": "stdout",
     "output_type": "stream",
     "text": [
      "  cell_name_anon      band                score        date rank  \\\n",
      "0      cell-6916  band2100                -1.25  2019-01-27    1   \n",
      "1      cell-5230  band2100                -0.96  2019-01-27    2   \n",
      "\n",
      "            percentile  \n",
      "0                99.98  \n",
      "1                99.95  \n",
      "  cell_name_anon     band                score        date rank  \\\n",
      "0      cell-2884  band700                -0.95  2019-01-27    1   \n",
      "1      cell-3194  band700                -0.95  2019-01-27    2   \n",
      "\n",
      "            percentile  \n",
      "0                99.97  \n",
      "1                99.93  \n",
      "2019-01-28\n"
     ]
    },
    {
     "name": "stderr",
     "output_type": "stream",
     "text": [
      "C:\\Users\\ezchave\\AppData\\Local\\Continuum\\anaconda3\\lib\\site-packages\\ipykernel_launcher.py:41: SettingWithCopyWarning: \n",
      "A value is trying to be set on a copy of a slice from a DataFrame.\n",
      "Try using .loc[row_indexer,col_indexer] = value instead\n",
      "\n",
      "See the caveats in the documentation: http://pandas.pydata.org/pandas-docs/stable/indexing.html#indexing-view-versus-copy\n"
     ]
    },
    {
     "name": "stdout",
     "output_type": "stream",
     "text": [
      "  cell_name_anon      band                score        date rank  \\\n",
      "0      cell-6916  band2100                -1.29  2019-01-28    1   \n",
      "1      cell-5230  band2100                -1.04  2019-01-28    2   \n",
      "\n",
      "            percentile  \n",
      "0                99.98  \n",
      "1                99.95  \n",
      "  cell_name_anon     band                score        date rank  \\\n",
      "0      cell-3194  band700                -0.96  2019-01-28    1   \n",
      "1      cell-2884  band700                -0.95  2019-01-28    2   \n",
      "\n",
      "            percentile  \n",
      "0                99.97  \n",
      "1                99.93  \n",
      "2019-01-29\n"
     ]
    },
    {
     "name": "stderr",
     "output_type": "stream",
     "text": [
      "C:\\Users\\ezchave\\AppData\\Local\\Continuum\\anaconda3\\lib\\site-packages\\ipykernel_launcher.py:41: SettingWithCopyWarning: \n",
      "A value is trying to be set on a copy of a slice from a DataFrame.\n",
      "Try using .loc[row_indexer,col_indexer] = value instead\n",
      "\n",
      "See the caveats in the documentation: http://pandas.pydata.org/pandas-docs/stable/indexing.html#indexing-view-versus-copy\n"
     ]
    },
    {
     "name": "stdout",
     "output_type": "stream",
     "text": [
      "  cell_name_anon      band                score        date rank  \\\n",
      "0      cell-6692  band2100                -0.46  2019-01-29    1   \n",
      "1      cell-5883  band2100                -0.45  2019-01-29    2   \n",
      "\n",
      "            percentile  \n",
      "0                99.98  \n",
      "1                99.95  \n",
      "  cell_name_anon     band                score        date rank  \\\n",
      "0      cell-3109  band700                -0.92  2019-01-29    1   \n",
      "1      cell-3194  band700                -0.92  2019-01-29    2   \n",
      "\n",
      "            percentile  \n",
      "0                99.97  \n",
      "1                99.93  \n",
      "2019-01-30\n"
     ]
    },
    {
     "name": "stderr",
     "output_type": "stream",
     "text": [
      "C:\\Users\\ezchave\\AppData\\Local\\Continuum\\anaconda3\\lib\\site-packages\\ipykernel_launcher.py:41: SettingWithCopyWarning: \n",
      "A value is trying to be set on a copy of a slice from a DataFrame.\n",
      "Try using .loc[row_indexer,col_indexer] = value instead\n",
      "\n",
      "See the caveats in the documentation: http://pandas.pydata.org/pandas-docs/stable/indexing.html#indexing-view-versus-copy\n"
     ]
    },
    {
     "name": "stdout",
     "output_type": "stream",
     "text": [
      "  cell_name_anon      band                score        date rank  \\\n",
      "0      cell-7354  band2100                -0.48  2019-01-30    1   \n",
      "1      cell-6692  band2100                -0.47  2019-01-30    2   \n",
      "\n",
      "            percentile  \n",
      "0                99.98  \n",
      "1                99.95  \n",
      "  cell_name_anon     band                score        date rank  \\\n",
      "0      cell-2266  band700                -0.93  2019-01-30    1   \n",
      "1      cell-2639  band700                -0.93  2019-01-30    2   \n",
      "\n",
      "            percentile  \n",
      "0                99.97  \n",
      "1                99.93  \n",
      "2019-01-31\n"
     ]
    },
    {
     "name": "stderr",
     "output_type": "stream",
     "text": [
      "C:\\Users\\ezchave\\AppData\\Local\\Continuum\\anaconda3\\lib\\site-packages\\ipykernel_launcher.py:41: SettingWithCopyWarning: \n",
      "A value is trying to be set on a copy of a slice from a DataFrame.\n",
      "Try using .loc[row_indexer,col_indexer] = value instead\n",
      "\n",
      "See the caveats in the documentation: http://pandas.pydata.org/pandas-docs/stable/indexing.html#indexing-view-versus-copy\n"
     ]
    },
    {
     "name": "stdout",
     "output_type": "stream",
     "text": [
      "  cell_name_anon      band                score        date rank  \\\n",
      "0      cell-7354  band2100                -0.47  2019-01-31    1   \n",
      "1      cell-9020  band2100                -0.47  2019-01-31    2   \n",
      "\n",
      "            percentile  \n",
      "0                99.98  \n",
      "1                99.95  \n",
      "  cell_name_anon     band                score        date rank  \\\n",
      "0      cell-3109  band700                -0.96  2019-01-31    1   \n",
      "1      cell-3194  band700                -0.94  2019-01-31    2   \n",
      "\n",
      "            percentile  \n",
      "0                99.97  \n",
      "1                99.93  \n",
      "2019-02-01\n"
     ]
    },
    {
     "name": "stderr",
     "output_type": "stream",
     "text": [
      "C:\\Users\\ezchave\\AppData\\Local\\Continuum\\anaconda3\\lib\\site-packages\\ipykernel_launcher.py:41: SettingWithCopyWarning: \n",
      "A value is trying to be set on a copy of a slice from a DataFrame.\n",
      "Try using .loc[row_indexer,col_indexer] = value instead\n",
      "\n",
      "See the caveats in the documentation: http://pandas.pydata.org/pandas-docs/stable/indexing.html#indexing-view-versus-copy\n"
     ]
    },
    {
     "name": "stdout",
     "output_type": "stream",
     "text": [
      "  cell_name_anon      band                score        date rank  \\\n",
      "0      cell-6334  band2100                -0.49  2019-02-01    1   \n",
      "1      cell-7354  band2100                -0.47  2019-02-01    2   \n",
      "\n",
      "            percentile  \n",
      "0                99.98  \n",
      "1                99.95  \n",
      "  cell_name_anon     band                score        date rank  \\\n",
      "0      cell-3109  band700                -0.90  2019-02-01    1   \n",
      "1      cell-2884  band700                -0.87  2019-02-01    2   \n",
      "\n",
      "            percentile  \n",
      "0                99.97  \n",
      "1                99.93  \n",
      "2019-02-02\n"
     ]
    },
    {
     "name": "stderr",
     "output_type": "stream",
     "text": [
      "C:\\Users\\ezchave\\AppData\\Local\\Continuum\\anaconda3\\lib\\site-packages\\ipykernel_launcher.py:41: SettingWithCopyWarning: \n",
      "A value is trying to be set on a copy of a slice from a DataFrame.\n",
      "Try using .loc[row_indexer,col_indexer] = value instead\n",
      "\n",
      "See the caveats in the documentation: http://pandas.pydata.org/pandas-docs/stable/indexing.html#indexing-view-versus-copy\n"
     ]
    },
    {
     "name": "stdout",
     "output_type": "stream",
     "text": [
      "  cell_name_anon      band                score        date rank  \\\n",
      "0      cell-6916  band2100                -1.36  2019-02-02    1   \n",
      "1      cell-7034  band2100                -1.19  2019-02-02    2   \n",
      "\n",
      "            percentile  \n",
      "0                99.98  \n",
      "1                99.95  \n",
      "  cell_name_anon     band                score        date rank  \\\n",
      "0      cell-3194  band700                -1.46  2019-02-02    1   \n",
      "1      cell-3109  band700                -1.25  2019-02-02    2   \n",
      "\n",
      "            percentile  \n",
      "0                99.97  \n",
      "1                99.93  \n",
      "2019-02-03\n"
     ]
    },
    {
     "name": "stderr",
     "output_type": "stream",
     "text": [
      "C:\\Users\\ezchave\\AppData\\Local\\Continuum\\anaconda3\\lib\\site-packages\\ipykernel_launcher.py:41: SettingWithCopyWarning: \n",
      "A value is trying to be set on a copy of a slice from a DataFrame.\n",
      "Try using .loc[row_indexer,col_indexer] = value instead\n",
      "\n",
      "See the caveats in the documentation: http://pandas.pydata.org/pandas-docs/stable/indexing.html#indexing-view-versus-copy\n"
     ]
    },
    {
     "name": "stdout",
     "output_type": "stream",
     "text": [
      "  cell_name_anon      band                score        date rank  \\\n",
      "0      cell-6771  band2100                -1.32  2019-02-03    1   \n",
      "1      cell-5230  band2100                -1.23  2019-02-03    2   \n",
      "\n",
      "            percentile  \n",
      "0                99.98  \n",
      "1                99.95  \n",
      "  cell_name_anon     band                score        date rank  \\\n",
      "0      cell-3564  band700                -0.86  2019-02-03    1   \n",
      "1      cell-3041  band700                -0.83  2019-02-03    2   \n",
      "\n",
      "            percentile  \n",
      "0                99.97  \n",
      "1                99.93  \n",
      "2019-02-04\n"
     ]
    },
    {
     "name": "stderr",
     "output_type": "stream",
     "text": [
      "C:\\Users\\ezchave\\AppData\\Local\\Continuum\\anaconda3\\lib\\site-packages\\ipykernel_launcher.py:41: SettingWithCopyWarning: \n",
      "A value is trying to be set on a copy of a slice from a DataFrame.\n",
      "Try using .loc[row_indexer,col_indexer] = value instead\n",
      "\n",
      "See the caveats in the documentation: http://pandas.pydata.org/pandas-docs/stable/indexing.html#indexing-view-versus-copy\n"
     ]
    },
    {
     "name": "stdout",
     "output_type": "stream",
     "text": [
      "  cell_name_anon      band                score        date rank  \\\n",
      "0      cell-6771  band2100                -1.33  2019-02-04    1   \n",
      "1      cell-6916  band2100                -1.26  2019-02-04    2   \n",
      "\n",
      "            percentile  \n",
      "0                99.98  \n",
      "1                99.95  \n",
      "  cell_name_anon     band                score        date rank  \\\n",
      "0      cell-3564  band700                -0.86  2019-02-04    1   \n",
      "1      cell-3011  band700                -0.84  2019-02-04    2   \n",
      "\n",
      "            percentile  \n",
      "0                99.97  \n",
      "1                99.93  \n",
      "2019-02-05\n"
     ]
    },
    {
     "name": "stderr",
     "output_type": "stream",
     "text": [
      "C:\\Users\\ezchave\\AppData\\Local\\Continuum\\anaconda3\\lib\\site-packages\\ipykernel_launcher.py:41: SettingWithCopyWarning: \n",
      "A value is trying to be set on a copy of a slice from a DataFrame.\n",
      "Try using .loc[row_indexer,col_indexer] = value instead\n",
      "\n",
      "See the caveats in the documentation: http://pandas.pydata.org/pandas-docs/stable/indexing.html#indexing-view-versus-copy\n"
     ]
    },
    {
     "name": "stdout",
     "output_type": "stream",
     "text": [
      "  cell_name_anon      band                score        date rank  \\\n",
      "0      cell-6334  band2100                -0.55  2019-02-05    1   \n",
      "1      cell-5408  band2100                -0.50  2019-02-05    2   \n",
      "\n",
      "            percentile  \n",
      "0                99.98  \n",
      "1                99.95  \n",
      "  cell_name_anon     band                score        date rank  \\\n",
      "0      cell-2717  band700                -0.93  2019-02-05    1   \n",
      "1      cell-4705  band700                -0.86  2019-02-05    2   \n",
      "\n",
      "            percentile  \n",
      "0                99.97  \n",
      "1                99.93  \n",
      "2019-02-06\n"
     ]
    },
    {
     "name": "stderr",
     "output_type": "stream",
     "text": [
      "C:\\Users\\ezchave\\AppData\\Local\\Continuum\\anaconda3\\lib\\site-packages\\ipykernel_launcher.py:41: SettingWithCopyWarning: \n",
      "A value is trying to be set on a copy of a slice from a DataFrame.\n",
      "Try using .loc[row_indexer,col_indexer] = value instead\n",
      "\n",
      "See the caveats in the documentation: http://pandas.pydata.org/pandas-docs/stable/indexing.html#indexing-view-versus-copy\n"
     ]
    },
    {
     "name": "stdout",
     "output_type": "stream",
     "text": [
      "  cell_name_anon      band                score        date rank  \\\n",
      "0      cell-6867  band2100                -0.50  2019-02-06    1   \n",
      "1      cell-9020  band2100                -0.50  2019-02-06    2   \n",
      "\n",
      "            percentile  \n",
      "0                99.98  \n",
      "1                99.95  \n",
      "  cell_name_anon     band                score        date rank  \\\n",
      "0      cell-3741  band700                -0.88  2019-02-06    1   \n",
      "1      cell-3220  band700                -0.86  2019-02-06    2   \n",
      "\n",
      "            percentile  \n",
      "0                99.97  \n",
      "1                99.93  \n",
      "2019-02-07\n"
     ]
    },
    {
     "name": "stderr",
     "output_type": "stream",
     "text": [
      "C:\\Users\\ezchave\\AppData\\Local\\Continuum\\anaconda3\\lib\\site-packages\\ipykernel_launcher.py:41: SettingWithCopyWarning: \n",
      "A value is trying to be set on a copy of a slice from a DataFrame.\n",
      "Try using .loc[row_indexer,col_indexer] = value instead\n",
      "\n",
      "See the caveats in the documentation: http://pandas.pydata.org/pandas-docs/stable/indexing.html#indexing-view-versus-copy\n"
     ]
    },
    {
     "name": "stdout",
     "output_type": "stream",
     "text": [
      "  cell_name_anon      band                score        date rank  \\\n",
      "0      cell-6916  band2100                -1.28  2019-02-07    1   \n",
      "1      cell-5230  band2100                -1.27  2019-02-07    2   \n",
      "\n",
      "            percentile  \n",
      "0                99.98  \n",
      "1                99.95  \n",
      "  cell_name_anon     band                score        date rank  \\\n",
      "0      cell-3741  band700                -0.93  2019-02-07    1   \n",
      "1      cell-3059  band700                -0.89  2019-02-07    2   \n",
      "\n",
      "            percentile  \n",
      "0                99.97  \n",
      "1                99.93  \n",
      "2019-02-08\n"
     ]
    },
    {
     "name": "stderr",
     "output_type": "stream",
     "text": [
      "C:\\Users\\ezchave\\AppData\\Local\\Continuum\\anaconda3\\lib\\site-packages\\ipykernel_launcher.py:41: SettingWithCopyWarning: \n",
      "A value is trying to be set on a copy of a slice from a DataFrame.\n",
      "Try using .loc[row_indexer,col_indexer] = value instead\n",
      "\n",
      "See the caveats in the documentation: http://pandas.pydata.org/pandas-docs/stable/indexing.html#indexing-view-versus-copy\n"
     ]
    },
    {
     "name": "stdout",
     "output_type": "stream",
     "text": [
      "  cell_name_anon      band                score        date rank  \\\n",
      "0      cell-8081  band2100                -1.88  2019-02-08    1   \n",
      "1      cell-7147  band2100                -1.72  2019-02-08    2   \n",
      "\n",
      "            percentile  \n",
      "0                99.98  \n",
      "1                99.95  \n",
      "  cell_name_anon     band                score        date rank  \\\n",
      "0      cell-3994  band700                -1.76  2019-02-08    1   \n",
      "1      cell-3976  band700                -1.58  2019-02-08    2   \n",
      "\n",
      "            percentile  \n",
      "0                99.97  \n",
      "1                99.93  \n",
      "2019-02-11\n"
     ]
    },
    {
     "name": "stderr",
     "output_type": "stream",
     "text": [
      "C:\\Users\\ezchave\\AppData\\Local\\Continuum\\anaconda3\\lib\\site-packages\\ipykernel_launcher.py:41: SettingWithCopyWarning: \n",
      "A value is trying to be set on a copy of a slice from a DataFrame.\n",
      "Try using .loc[row_indexer,col_indexer] = value instead\n",
      "\n",
      "See the caveats in the documentation: http://pandas.pydata.org/pandas-docs/stable/indexing.html#indexing-view-versus-copy\n"
     ]
    },
    {
     "name": "stdout",
     "output_type": "stream",
     "text": [
      "  cell_name_anon      band                score        date rank  \\\n",
      "0      cell-8081  band2100                -1.96  2019-02-11    1   \n",
      "1      cell-7147  band2100                -1.84  2019-02-11    2   \n",
      "\n",
      "            percentile  \n",
      "0                99.98  \n",
      "1                99.95  \n",
      "  cell_name_anon     band                score        date rank  \\\n",
      "0      cell-3506  band700                -1.97  2019-02-11    1   \n",
      "1      cell-3554  band700                -1.80  2019-02-11    2   \n",
      "\n",
      "            percentile  \n",
      "0                99.97  \n",
      "1                99.93  \n",
      "2019-02-12\n"
     ]
    },
    {
     "name": "stderr",
     "output_type": "stream",
     "text": [
      "C:\\Users\\ezchave\\AppData\\Local\\Continuum\\anaconda3\\lib\\site-packages\\ipykernel_launcher.py:41: SettingWithCopyWarning: \n",
      "A value is trying to be set on a copy of a slice from a DataFrame.\n",
      "Try using .loc[row_indexer,col_indexer] = value instead\n",
      "\n",
      "See the caveats in the documentation: http://pandas.pydata.org/pandas-docs/stable/indexing.html#indexing-view-versus-copy\n"
     ]
    },
    {
     "name": "stdout",
     "output_type": "stream",
     "text": [
      "  cell_name_anon      band                score        date rank  \\\n",
      "0      cell-8081  band2100                -1.83  2019-02-12    1   \n",
      "1      cell-9042  band2100                -1.07  2019-02-12    2   \n",
      "\n",
      "            percentile  \n",
      "0                99.98  \n",
      "1                99.95  \n",
      "  cell_name_anon     band                score        date rank  \\\n",
      "0      cell-2914  band700                -0.97  2019-02-12    1   \n",
      "1      cell-4384  band700                -0.94  2019-02-12    2   \n",
      "\n",
      "            percentile  \n",
      "0                99.97  \n",
      "1                99.93  \n",
      "2019-02-13\n"
     ]
    },
    {
     "name": "stderr",
     "output_type": "stream",
     "text": [
      "C:\\Users\\ezchave\\AppData\\Local\\Continuum\\anaconda3\\lib\\site-packages\\ipykernel_launcher.py:41: SettingWithCopyWarning: \n",
      "A value is trying to be set on a copy of a slice from a DataFrame.\n",
      "Try using .loc[row_indexer,col_indexer] = value instead\n",
      "\n",
      "See the caveats in the documentation: http://pandas.pydata.org/pandas-docs/stable/indexing.html#indexing-view-versus-copy\n"
     ]
    },
    {
     "name": "stdout",
     "output_type": "stream",
     "text": [
      "  cell_name_anon      band                score        date rank  \\\n",
      "0      cell-8081  band2100                -1.58  2019-02-13    1   \n",
      "1      cell-9042  band2100                -1.13  2019-02-13    2   \n",
      "\n",
      "            percentile  \n",
      "0                99.98  \n",
      "1                99.95  \n",
      "  cell_name_anon     band                score        date rank  \\\n",
      "0      cell-4384  band700                -0.95  2019-02-13    1   \n",
      "1      cell-3553  band700                -0.94  2019-02-13    2   \n",
      "\n",
      "            percentile  \n",
      "0                99.97  \n",
      "1                99.93  \n",
      "2019-02-14\n"
     ]
    },
    {
     "name": "stderr",
     "output_type": "stream",
     "text": [
      "C:\\Users\\ezchave\\AppData\\Local\\Continuum\\anaconda3\\lib\\site-packages\\ipykernel_launcher.py:41: SettingWithCopyWarning: \n",
      "A value is trying to be set on a copy of a slice from a DataFrame.\n",
      "Try using .loc[row_indexer,col_indexer] = value instead\n",
      "\n",
      "See the caveats in the documentation: http://pandas.pydata.org/pandas-docs/stable/indexing.html#indexing-view-versus-copy\n"
     ]
    },
    {
     "name": "stdout",
     "output_type": "stream",
     "text": [
      "  cell_name_anon      band                score        date rank  \\\n",
      "0      cell-9042  band2100                -2.08  2019-02-14    1   \n",
      "1      cell-8081  band2100                -1.50  2019-02-14    2   \n",
      "\n",
      "            percentile  \n",
      "0                99.98  \n",
      "1                99.95  \n",
      "  cell_name_anon     band                score        date rank  \\\n",
      "0      cell-3553  band700                -0.97  2019-02-14    1   \n",
      "1      cell-4384  band700                -0.96  2019-02-14    2   \n",
      "\n",
      "            percentile  \n",
      "0                99.97  \n",
      "1                99.93  \n",
      "2019-02-15\n"
     ]
    },
    {
     "name": "stderr",
     "output_type": "stream",
     "text": [
      "C:\\Users\\ezchave\\AppData\\Local\\Continuum\\anaconda3\\lib\\site-packages\\ipykernel_launcher.py:41: SettingWithCopyWarning: \n",
      "A value is trying to be set on a copy of a slice from a DataFrame.\n",
      "Try using .loc[row_indexer,col_indexer] = value instead\n",
      "\n",
      "See the caveats in the documentation: http://pandas.pydata.org/pandas-docs/stable/indexing.html#indexing-view-versus-copy\n"
     ]
    },
    {
     "name": "stdout",
     "output_type": "stream",
     "text": [
      "  cell_name_anon      band                score        date rank  \\\n",
      "0      cell-5805  band2100                -2.02  2019-02-15    1   \n",
      "1      cell-7297  band2100                -1.63  2019-02-15    2   \n",
      "\n",
      "            percentile  \n",
      "0                99.98  \n",
      "1                99.95  \n",
      "  cell_name_anon     band                score        date rank  \\\n",
      "0      cell-4384  band700                -0.93  2019-02-15    1   \n",
      "1      cell-4985  band700                -0.91  2019-02-15    2   \n",
      "\n",
      "            percentile  \n",
      "0                99.97  \n",
      "1                99.93  \n",
      "2019-02-16\n"
     ]
    },
    {
     "name": "stderr",
     "output_type": "stream",
     "text": [
      "C:\\Users\\ezchave\\AppData\\Local\\Continuum\\anaconda3\\lib\\site-packages\\ipykernel_launcher.py:41: SettingWithCopyWarning: \n",
      "A value is trying to be set on a copy of a slice from a DataFrame.\n",
      "Try using .loc[row_indexer,col_indexer] = value instead\n",
      "\n",
      "See the caveats in the documentation: http://pandas.pydata.org/pandas-docs/stable/indexing.html#indexing-view-versus-copy\n"
     ]
    },
    {
     "name": "stdout",
     "output_type": "stream",
     "text": [
      "  cell_name_anon      band                score        date rank  \\\n",
      "0      cell-5805  band2100                -1.39  2019-02-16    1   \n",
      "1      cell-7297  band2100                -1.16  2019-02-16    2   \n",
      "\n",
      "            percentile  \n",
      "0                99.98  \n",
      "1                99.95  \n",
      "  cell_name_anon     band                score        date rank  \\\n",
      "0      cell-2394  band700                -1.01  2019-02-16    1   \n",
      "1      cell-4000  band700                -0.94  2019-02-16    2   \n",
      "\n",
      "            percentile  \n",
      "0                99.97  \n",
      "1                99.93  \n",
      "2019-02-18\n"
     ]
    },
    {
     "name": "stderr",
     "output_type": "stream",
     "text": [
      "C:\\Users\\ezchave\\AppData\\Local\\Continuum\\anaconda3\\lib\\site-packages\\ipykernel_launcher.py:41: SettingWithCopyWarning: \n",
      "A value is trying to be set on a copy of a slice from a DataFrame.\n",
      "Try using .loc[row_indexer,col_indexer] = value instead\n",
      "\n",
      "See the caveats in the documentation: http://pandas.pydata.org/pandas-docs/stable/indexing.html#indexing-view-versus-copy\n"
     ]
    },
    {
     "name": "stdout",
     "output_type": "stream",
     "text": [
      "  cell_name_anon      band                score        date rank  \\\n",
      "0      cell-7297  band2100                -1.04  2019-02-18    1   \n",
      "1      cell-6047  band2100                -0.87  2019-02-18    2   \n",
      "\n",
      "            percentile  \n",
      "0                99.98  \n",
      "1                99.95  \n",
      "  cell_name_anon     band                score        date rank  \\\n",
      "0      cell-2394  band700                -0.97  2019-02-18    1   \n",
      "1      cell-4985  band700                -0.87  2019-02-18    2   \n",
      "\n",
      "            percentile  \n",
      "0                99.97  \n",
      "1                99.93  \n",
      "2019-02-19\n"
     ]
    },
    {
     "name": "stderr",
     "output_type": "stream",
     "text": [
      "C:\\Users\\ezchave\\AppData\\Local\\Continuum\\anaconda3\\lib\\site-packages\\ipykernel_launcher.py:41: SettingWithCopyWarning: \n",
      "A value is trying to be set on a copy of a slice from a DataFrame.\n",
      "Try using .loc[row_indexer,col_indexer] = value instead\n",
      "\n",
      "See the caveats in the documentation: http://pandas.pydata.org/pandas-docs/stable/indexing.html#indexing-view-versus-copy\n"
     ]
    },
    {
     "name": "stdout",
     "output_type": "stream",
     "text": [
      "  cell_name_anon      band                score        date rank  \\\n",
      "0      cell-6047  band2100                -0.51  2019-02-19    1   \n",
      "1      cell-6763  band2100                -0.47  2019-02-19    2   \n",
      "\n",
      "            percentile  \n",
      "0                99.98  \n",
      "1                99.95  \n",
      "  cell_name_anon     band                score        date rank  \\\n",
      "0      cell-4384  band700                -0.83  2019-02-19    1   \n",
      "1      cell-4654  band700                -0.83  2019-02-19    2   \n",
      "\n",
      "            percentile  \n",
      "0                99.97  \n",
      "1                99.93  \n",
      "PCA done \n",
      "\n"
     ]
    },
    {
     "name": "stderr",
     "output_type": "stream",
     "text": [
      "C:\\Users\\ezchave\\AppData\\Local\\Continuum\\anaconda3\\lib\\site-packages\\ipykernel_launcher.py:3: SettingWithCopyWarning: \n",
      "A value is trying to be set on a copy of a slice from a DataFrame.\n",
      "Try using .loc[row_indexer,col_indexer] = value instead\n",
      "\n",
      "See the caveats in the documentation: http://pandas.pydata.org/pandas-docs/stable/indexing.html#indexing-view-versus-copy\n",
      "  This is separate from the ipykernel package so we can avoid doing imports until\n"
     ]
    },
    {
     "name": "stdout",
     "output_type": "stream",
     "text": [
      "cell ranking for build period done \n",
      "\n",
      "cell mean and standard deviation calculation done \n",
      "\n",
      "cell mean +- sigma calculation done for test period\n",
      "  cell_name_anon     band    mean_score_90days        date  rank  \\\n",
      "0      cell-2196  band700                 0.51  2019-01-11  2499   \n",
      "1      cell-2196  band700                 0.51  2019-01-12  2472   \n",
      "2      cell-2196  band700                 0.29  2019-01-13  2294   \n",
      "3      cell-2196  band700                 0.28  2019-01-14  2291   \n",
      "4      cell-2196  band700                 0.21  2019-01-15  2220   \n",
      "\n",
      "            percentile  score_mean_good_days     score_std_90days  \\\n",
      "0                13.11                  0.53                 0.25   \n",
      "1                14.08                  0.53                 0.25   \n",
      "2                20.26                  0.53                 0.25   \n",
      "3                20.37                  0.53                 0.25   \n",
      "4                22.84                  0.53                 0.25   \n",
      "\n",
      "     score_mean_90days          mu+0.5sigma          mu-0.5sigma  \\\n",
      "0                 0.68                 0.65                 0.40   \n",
      "1                 0.68                 0.65                 0.40   \n",
      "2                 0.68                 0.65                 0.40   \n",
      "3                 0.68                 0.65                 0.40   \n",
      "4                 0.68                 0.65                 0.40   \n",
      "\n",
      "   gt_mu+0.5sigma  lt_mu-0.5sigma  \n",
      "0           False           False  \n",
      "1           False           False  \n",
      "2           False            True  \n",
      "3           False            True  \n",
      "4           False            True  \n",
      "cell ranking for build period done \n",
      "\n",
      "cell mean and standard deviation calculation done \n",
      "\n",
      "cell mean +- sigma calculation done for test period\n",
      "  cell_name_anon     band    mean_score_90days        date  rank  \\\n",
      "0      cell-2196  band700                 0.51  2019-01-11  2499   \n",
      "1      cell-2196  band700                 0.51  2019-01-12  2472   \n",
      "2      cell-2196  band700                 0.29  2019-01-13  2294   \n",
      "3      cell-2196  band700                 0.28  2019-01-14  2291   \n",
      "4      cell-2196  band700                 0.21  2019-01-15  2220   \n",
      "\n",
      "            percentile  score_mean_good_days     score_std_90days  \\\n",
      "0                13.11                  0.61                 0.25   \n",
      "1                14.08                  0.61                 0.25   \n",
      "2                20.26                  0.61                 0.25   \n",
      "3                20.37                  0.61                 0.25   \n",
      "4                22.84                  0.61                 0.25   \n",
      "\n",
      "     score_mean_90days            mu+1sigma            mu-1sigma  \\\n",
      "0                 0.68                 0.86                 0.36   \n",
      "1                 0.68                 0.86                 0.36   \n",
      "2                 0.68                 0.86                 0.36   \n",
      "3                 0.68                 0.86                 0.36   \n",
      "4                 0.68                 0.86                 0.36   \n",
      "\n",
      "   gt_mu+1sigma  lt_mu-1sigma  \n",
      "0         False         False  \n",
      "1         False         False  \n",
      "2         False          True  \n",
      "3         False          True  \n",
      "4         False          True  \n",
      "cell ranking for build period done \n",
      "\n",
      "cell mean and standard deviation calculation done \n",
      "\n",
      "cell mean +- sigma calculation done for test period\n",
      "  cell_name_anon     band    mean_score_90days        date  rank  \\\n",
      "0      cell-2196  band700                 0.51  2019-01-11  2499   \n",
      "1      cell-2196  band700                 0.51  2019-01-12  2472   \n",
      "2      cell-2196  band700                 0.29  2019-01-13  2294   \n",
      "3      cell-2196  band700                 0.28  2019-01-14  2291   \n",
      "4      cell-2196  band700                 0.21  2019-01-15  2220   \n",
      "\n",
      "            percentile  score_mean_good_days     score_std_90days  \\\n",
      "0                13.11                  0.65                 0.25   \n",
      "1                14.08                  0.65                 0.25   \n",
      "2                20.26                  0.65                 0.25   \n",
      "3                20.37                  0.65                 0.25   \n",
      "4                22.84                  0.65                 0.25   \n",
      "\n",
      "     score_mean_90days          mu+1.5sigma          mu-1.5sigma  \\\n",
      "0                 0.68                 1.03                 0.28   \n",
      "1                 0.68                 1.03                 0.28   \n",
      "2                 0.68                 1.03                 0.28   \n",
      "3                 0.68                 1.03                 0.28   \n",
      "4                 0.68                 1.03                 0.28   \n",
      "\n",
      "   gt_mu+1.5sigma  lt_mu-1.5sigma  \n",
      "0           False           False  \n",
      "1           False           False  \n",
      "2           False           False  \n",
      "3           False            True  \n",
      "4           False            True  \n",
      "cell ranking for build period done \n",
      "\n",
      "cell mean and standard deviation calculation done \n",
      "\n",
      "cell mean +- sigma calculation done for test period\n",
      "  cell_name_anon     band    mean_score_90days        date  rank  \\\n",
      "0      cell-2196  band700                 0.51  2019-01-11  2499   \n",
      "1      cell-2196  band700                 0.51  2019-01-12  2472   \n",
      "2      cell-2196  band700                 0.29  2019-01-13  2294   \n",
      "3      cell-2196  band700                 0.28  2019-01-14  2291   \n",
      "4      cell-2196  band700                 0.21  2019-01-15  2220   \n",
      "\n",
      "            percentile  score_mean_good_days     score_std_90days  \\\n",
      "0                13.11                  0.67                 0.25   \n",
      "1                14.08                  0.67                 0.25   \n",
      "2                20.26                  0.67                 0.25   \n",
      "3                20.37                  0.67                 0.25   \n",
      "4                22.84                  0.67                 0.25   \n",
      "\n",
      "     score_mean_90days            mu+2sigma            mu-2sigma  \\\n",
      "0                 0.68                 1.17                 0.17   \n",
      "1                 0.68                 1.17                 0.17   \n",
      "2                 0.68                 1.17                 0.17   \n",
      "3                 0.68                 1.17                 0.17   \n",
      "4                 0.68                 1.17                 0.17   \n",
      "\n",
      "   gt_mu+2sigma  lt_mu-2sigma  \n",
      "0         False         False  \n",
      "1         False         False  \n",
      "2         False         False  \n",
      "3         False         False  \n",
      "4         False         False  \n",
      "cell ranking for build period done \n",
      "\n",
      "cell mean and standard deviation calculation done \n",
      "\n",
      "cell mean +- sigma calculation done for test period\n",
      "  cell_name_anon     band    mean_score_90days        date  rank  \\\n",
      "0      cell-2196  band700                 0.51  2019-01-11  2499   \n",
      "1      cell-2196  band700                 0.51  2019-01-12  2472   \n",
      "2      cell-2196  band700                 0.29  2019-01-13  2294   \n",
      "3      cell-2196  band700                 0.28  2019-01-14  2291   \n",
      "4      cell-2196  band700                 0.21  2019-01-15  2220   \n",
      "\n",
      "            percentile  score_mean_good_days     score_std_90days  \\\n",
      "0                13.11                  0.68                 0.25   \n",
      "1                14.08                  0.68                 0.25   \n",
      "2                20.26                  0.68                 0.25   \n",
      "3                20.37                  0.68                 0.25   \n",
      "4                22.84                  0.68                 0.25   \n",
      "\n",
      "     score_mean_90days          mu+2.5sigma          mu-2.5sigma  \\\n",
      "0                 0.68                 1.30                 0.05   \n",
      "1                 0.68                 1.30                 0.05   \n",
      "2                 0.68                 1.30                 0.05   \n",
      "3                 0.68                 1.30                 0.05   \n",
      "4                 0.68                 1.30                 0.05   \n",
      "\n",
      "   gt_mu+2.5sigma  lt_mu-2.5sigma  \n",
      "0           False           False  \n",
      "1           False           False  \n",
      "2           False           False  \n",
      "3           False           False  \n",
      "4           False           False  \n",
      "cell ranking for build period done \n",
      "\n",
      "cell mean and standard deviation calculation done \n",
      "\n",
      "cell mean +- sigma calculation done for test period\n",
      "  cell_name_anon     band    mean_score_90days        date  rank  \\\n",
      "0      cell-2196  band700                 0.51  2019-01-11  2499   \n",
      "1      cell-2196  band700                 0.51  2019-01-12  2472   \n",
      "2      cell-2196  band700                 0.29  2019-01-13  2294   \n",
      "3      cell-2196  band700                 0.28  2019-01-14  2291   \n",
      "4      cell-2196  band700                 0.21  2019-01-15  2220   \n",
      "\n",
      "            percentile  score_mean_good_days     score_std_90days  \\\n",
      "0                13.11                  0.68                 0.25   \n",
      "1                14.08                  0.68                 0.25   \n",
      "2                20.26                  0.68                 0.25   \n",
      "3                20.37                  0.68                 0.25   \n",
      "4                22.84                  0.68                 0.25   \n",
      "\n",
      "     score_mean_90days            mu+3sigma            mu-3sigma  \\\n",
      "0                 0.68                 1.43                -0.06   \n",
      "1                 0.68                 1.43                -0.06   \n",
      "2                 0.68                 1.43                -0.06   \n",
      "3                 0.68                 1.43                -0.06   \n",
      "4                 0.68                 1.43                -0.06   \n",
      "\n",
      "   gt_mu+3sigma  lt_mu-3sigma  \n",
      "0         False         False  \n",
      "1         False         False  \n",
      "2         False         False  \n",
      "3         False         False  \n",
      "4         False         False  \n"
     ]
    }
   ],
   "source": [
    "pca_build,pca_test = apply_PCA_on_period(0.5,'2019-02-19') # last date must be after 120 days of data \n",
    "test_k05,build_k05 = calculate_performance(pca_build,pca_test,0.5)\n",
    "test_k1,build_k1 = calculate_performance(pca_build,pca_test,1)\n",
    "test_k15,build_k15 = calculate_performance(pca_build,pca_test,1.5)\n",
    "test_k2,build_k2 = calculate_performance(pca_build,pca_test,2)\n",
    "test_k25,build_k25 = calculate_performance(pca_build,pca_test,2.5)\n",
    "test_k3,build_k3 = calculate_performance(pca_build,pca_test,3)\n"
   ]
  },
  {
   "cell_type": "code",
   "execution_count": 29,
   "metadata": {},
   "outputs": [],
   "source": [
    "build_k05[['cell_name_anon','score_mean_90days','score_mean_good_days','score_std','mu+sigma','mu-sigma']].drop_duplicates('cell_name_anon').to_csv(r'C:\\Users\\ezchave\\Desktop\\work_no\\cell ranking\\13weeks_k05_feb.csv')\n",
    "build_k1[['cell_name_anon','score_mean_90days','score_mean_good_days','score_std','mu+sigma','mu-sigma']].drop_duplicates('cell_name_anon').to_csv(r'C:\\Users\\ezchave\\Desktop\\work_no\\cell ranking\\13weeks_k1_feb.csv')\n",
    "build_k15[['cell_name_anon','score_mean_90days','score_mean_good_days','score_std','mu+sigma','mu-sigma']].drop_duplicates('cell_name_anon').to_csv(r'C:\\Users\\ezchave\\Desktop\\work_no\\cell ranking\\13weeks_k15_feb.csv')\n",
    "build_k2[['cell_name_anon','score_mean_90days','score_mean_good_days','score_std','mu+sigma','mu-sigma']].drop_duplicates('cell_name_anon').to_csv(r'C:\\Users\\ezchave\\Desktop\\work_no\\cell ranking\\13weeks_k2_feb.csv')\n",
    "build_k25[['cell_name_anon','score_mean_90days','score_mean_good_days','score_std','mu+sigma','mu-sigma']].drop_duplicates('cell_name_anon').to_csv(r'C:\\Users\\ezchave\\Desktop\\work_no\\cell ranking\\13weeks_k25_feb.csv')\n",
    "build_k3[['cell_name_anon','score_mean_90days','score_mean_good_days','score_std','mu+sigma','mu-sigma']].drop_duplicates('cell_name_anon').to_csv(r'C:\\Users\\ezchave\\Desktop\\work_no\\cell ranking\\13weeks_k3_feb.csv')\n"
   ]
  },
  {
   "cell_type": "code",
   "execution_count": 30,
   "metadata": {
    "scrolled": true
   },
   "outputs": [
    {
     "data": {
      "text/html": [
       "<div>\n",
       "<style scoped>\n",
       "    .dataframe tbody tr th:only-of-type {\n",
       "        vertical-align: middle;\n",
       "    }\n",
       "\n",
       "    .dataframe tbody tr th {\n",
       "        vertical-align: top;\n",
       "    }\n",
       "\n",
       "    .dataframe thead th {\n",
       "        text-align: right;\n",
       "    }\n",
       "</style>\n",
       "<table border=\"1\" class=\"dataframe\">\n",
       "  <thead>\n",
       "    <tr style=\"text-align: right;\">\n",
       "      <th></th>\n",
       "      <th>cell_name_anon</th>\n",
       "      <th>band</th>\n",
       "      <th>score</th>\n",
       "      <th>date</th>\n",
       "      <th>rank</th>\n",
       "      <th>percentile</th>\n",
       "      <th>score_std</th>\n",
       "      <th>score_mean_90days</th>\n",
       "      <th>mu+sigma</th>\n",
       "      <th>mu-sigma</th>\n",
       "      <th>gt_mu+sigma</th>\n",
       "      <th>lt_mu-sigma</th>\n",
       "      <th>score_mean_good_days</th>\n",
       "    </tr>\n",
       "  </thead>\n",
       "  <tbody>\n",
       "    <tr>\n",
       "      <th>0</th>\n",
       "      <td>cell-2196</td>\n",
       "      <td>band700</td>\n",
       "      <td>1.39</td>\n",
       "      <td>2018-10-08</td>\n",
       "      <td>2733</td>\n",
       "      <td>5.01</td>\n",
       "      <td>0.25</td>\n",
       "      <td>0.68</td>\n",
       "      <td>0.81</td>\n",
       "      <td>0.56</td>\n",
       "      <td>True</td>\n",
       "      <td>False</td>\n",
       "      <td>0.53</td>\n",
       "    </tr>\n",
       "    <tr>\n",
       "      <th>1</th>\n",
       "      <td>cell-2196</td>\n",
       "      <td>band700</td>\n",
       "      <td>1.26</td>\n",
       "      <td>2018-10-09</td>\n",
       "      <td>2718</td>\n",
       "      <td>5.53</td>\n",
       "      <td>0.25</td>\n",
       "      <td>0.68</td>\n",
       "      <td>0.81</td>\n",
       "      <td>0.56</td>\n",
       "      <td>True</td>\n",
       "      <td>False</td>\n",
       "      <td>0.53</td>\n",
       "    </tr>\n",
       "    <tr>\n",
       "      <th>2</th>\n",
       "      <td>cell-2196</td>\n",
       "      <td>band700</td>\n",
       "      <td>1.17</td>\n",
       "      <td>2018-10-10</td>\n",
       "      <td>2696</td>\n",
       "      <td>6.29</td>\n",
       "      <td>0.25</td>\n",
       "      <td>0.68</td>\n",
       "      <td>0.81</td>\n",
       "      <td>0.56</td>\n",
       "      <td>True</td>\n",
       "      <td>False</td>\n",
       "      <td>0.53</td>\n",
       "    </tr>\n",
       "    <tr>\n",
       "      <th>3</th>\n",
       "      <td>cell-2196</td>\n",
       "      <td>band700</td>\n",
       "      <td>1.13</td>\n",
       "      <td>2018-10-11</td>\n",
       "      <td>2690</td>\n",
       "      <td>6.50</td>\n",
       "      <td>0.25</td>\n",
       "      <td>0.68</td>\n",
       "      <td>0.81</td>\n",
       "      <td>0.56</td>\n",
       "      <td>True</td>\n",
       "      <td>False</td>\n",
       "      <td>0.53</td>\n",
       "    </tr>\n",
       "    <tr>\n",
       "      <th>4</th>\n",
       "      <td>cell-2196</td>\n",
       "      <td>band700</td>\n",
       "      <td>0.98</td>\n",
       "      <td>2018-10-12</td>\n",
       "      <td>2649</td>\n",
       "      <td>7.92</td>\n",
       "      <td>0.25</td>\n",
       "      <td>0.68</td>\n",
       "      <td>0.81</td>\n",
       "      <td>0.56</td>\n",
       "      <td>True</td>\n",
       "      <td>False</td>\n",
       "      <td>0.53</td>\n",
       "    </tr>\n",
       "  </tbody>\n",
       "</table>\n",
       "</div>"
      ],
      "text/plain": [
       "  cell_name_anon     band                score        date  rank  \\\n",
       "0      cell-2196  band700                 1.39  2018-10-08  2733   \n",
       "1      cell-2196  band700                 1.26  2018-10-09  2718   \n",
       "2      cell-2196  band700                 1.17  2018-10-10  2696   \n",
       "3      cell-2196  band700                 1.13  2018-10-11  2690   \n",
       "4      cell-2196  band700                 0.98  2018-10-12  2649   \n",
       "\n",
       "            percentile            score_std    score_mean_90days  \\\n",
       "0                 5.01                 0.25                 0.68   \n",
       "1                 5.53                 0.25                 0.68   \n",
       "2                 6.29                 0.25                 0.68   \n",
       "3                 6.50                 0.25                 0.68   \n",
       "4                 7.92                 0.25                 0.68   \n",
       "\n",
       "              mu+sigma             mu-sigma  gt_mu+sigma  lt_mu-sigma  \\\n",
       "0                 0.81                 0.56         True        False   \n",
       "1                 0.81                 0.56         True        False   \n",
       "2                 0.81                 0.56         True        False   \n",
       "3                 0.81                 0.56         True        False   \n",
       "4                 0.81                 0.56         True        False   \n",
       "\n",
       "   score_mean_good_days  \n",
       "0                  0.53  \n",
       "1                  0.53  \n",
       "2                  0.53  \n",
       "3                  0.53  \n",
       "4                  0.53  "
      ]
     },
     "execution_count": 30,
     "metadata": {},
     "output_type": "execute_result"
    }
   ],
   "source": [
    "build_k05.head()"
   ]
  },
  {
   "cell_type": "code",
   "execution_count": 40,
   "metadata": {},
   "outputs": [
    {
     "data": {
      "text/html": [
       "<div>\n",
       "<style scoped>\n",
       "    .dataframe tbody tr th:only-of-type {\n",
       "        vertical-align: middle;\n",
       "    }\n",
       "\n",
       "    .dataframe tbody tr th {\n",
       "        vertical-align: top;\n",
       "    }\n",
       "\n",
       "    .dataframe thead th {\n",
       "        text-align: right;\n",
       "    }\n",
       "</style>\n",
       "<table border=\"1\" class=\"dataframe\">\n",
       "  <thead>\n",
       "    <tr style=\"text-align: right;\">\n",
       "      <th></th>\n",
       "      <th>cell_name_anon</th>\n",
       "      <th>band</th>\n",
       "      <th>mean_score_90days</th>\n",
       "      <th>date</th>\n",
       "      <th>rank</th>\n",
       "      <th>percentile</th>\n",
       "      <th>score_mean_good_days</th>\n",
       "      <th>score_std_90days</th>\n",
       "      <th>score_mean_90days</th>\n",
       "      <th>mu+0.5sigma</th>\n",
       "      <th>mu-0.5sigma</th>\n",
       "      <th>gt_mu+0.5sigma</th>\n",
       "      <th>lt_mu-0.5sigma</th>\n",
       "    </tr>\n",
       "  </thead>\n",
       "  <tbody>\n",
       "    <tr>\n",
       "      <th>0</th>\n",
       "      <td>cell-2196</td>\n",
       "      <td>band700</td>\n",
       "      <td>0.51</td>\n",
       "      <td>2019-01-11</td>\n",
       "      <td>2499</td>\n",
       "      <td>13.11</td>\n",
       "      <td>0.53</td>\n",
       "      <td>0.25</td>\n",
       "      <td>0.68</td>\n",
       "      <td>0.65</td>\n",
       "      <td>0.40</td>\n",
       "      <td>False</td>\n",
       "      <td>False</td>\n",
       "    </tr>\n",
       "    <tr>\n",
       "      <th>1</th>\n",
       "      <td>cell-2196</td>\n",
       "      <td>band700</td>\n",
       "      <td>0.51</td>\n",
       "      <td>2019-01-12</td>\n",
       "      <td>2472</td>\n",
       "      <td>14.08</td>\n",
       "      <td>0.53</td>\n",
       "      <td>0.25</td>\n",
       "      <td>0.68</td>\n",
       "      <td>0.65</td>\n",
       "      <td>0.40</td>\n",
       "      <td>False</td>\n",
       "      <td>False</td>\n",
       "    </tr>\n",
       "    <tr>\n",
       "      <th>2</th>\n",
       "      <td>cell-2196</td>\n",
       "      <td>band700</td>\n",
       "      <td>0.29</td>\n",
       "      <td>2019-01-13</td>\n",
       "      <td>2294</td>\n",
       "      <td>20.26</td>\n",
       "      <td>0.53</td>\n",
       "      <td>0.25</td>\n",
       "      <td>0.68</td>\n",
       "      <td>0.65</td>\n",
       "      <td>0.40</td>\n",
       "      <td>False</td>\n",
       "      <td>True</td>\n",
       "    </tr>\n",
       "    <tr>\n",
       "      <th>3</th>\n",
       "      <td>cell-2196</td>\n",
       "      <td>band700</td>\n",
       "      <td>0.28</td>\n",
       "      <td>2019-01-14</td>\n",
       "      <td>2291</td>\n",
       "      <td>20.37</td>\n",
       "      <td>0.53</td>\n",
       "      <td>0.25</td>\n",
       "      <td>0.68</td>\n",
       "      <td>0.65</td>\n",
       "      <td>0.40</td>\n",
       "      <td>False</td>\n",
       "      <td>True</td>\n",
       "    </tr>\n",
       "    <tr>\n",
       "      <th>4</th>\n",
       "      <td>cell-2196</td>\n",
       "      <td>band700</td>\n",
       "      <td>0.21</td>\n",
       "      <td>2019-01-15</td>\n",
       "      <td>2220</td>\n",
       "      <td>22.84</td>\n",
       "      <td>0.53</td>\n",
       "      <td>0.25</td>\n",
       "      <td>0.68</td>\n",
       "      <td>0.65</td>\n",
       "      <td>0.40</td>\n",
       "      <td>False</td>\n",
       "      <td>True</td>\n",
       "    </tr>\n",
       "  </tbody>\n",
       "</table>\n",
       "</div>"
      ],
      "text/plain": [
       "  cell_name_anon     band    mean_score_90days        date  rank  \\\n",
       "0      cell-2196  band700                 0.51  2019-01-11  2499   \n",
       "1      cell-2196  band700                 0.51  2019-01-12  2472   \n",
       "2      cell-2196  band700                 0.29  2019-01-13  2294   \n",
       "3      cell-2196  band700                 0.28  2019-01-14  2291   \n",
       "4      cell-2196  band700                 0.21  2019-01-15  2220   \n",
       "\n",
       "            percentile  score_mean_good_days     score_std_90days  \\\n",
       "0                13.11                  0.53                 0.25   \n",
       "1                14.08                  0.53                 0.25   \n",
       "2                20.26                  0.53                 0.25   \n",
       "3                20.37                  0.53                 0.25   \n",
       "4                22.84                  0.53                 0.25   \n",
       "\n",
       "     score_mean_90days          mu+0.5sigma          mu-0.5sigma  \\\n",
       "0                 0.68                 0.65                 0.40   \n",
       "1                 0.68                 0.65                 0.40   \n",
       "2                 0.68                 0.65                 0.40   \n",
       "3                 0.68                 0.65                 0.40   \n",
       "4                 0.68                 0.65                 0.40   \n",
       "\n",
       "   gt_mu+0.5sigma  lt_mu-0.5sigma  \n",
       "0           False           False  \n",
       "1           False           False  \n",
       "2           False            True  \n",
       "3           False            True  \n",
       "4           False            True  "
      ]
     },
     "execution_count": 40,
     "metadata": {},
     "output_type": "execute_result"
    }
   ],
   "source": [
    "test_k05.head(5)"
   ]
  },
  {
   "cell_type": "code",
   "execution_count": 42,
   "metadata": {},
   "outputs": [
    {
     "data": {
      "text/plain": [
       "11.2503476408909"
      ]
     },
     "execution_count": 42,
     "metadata": {},
     "output_type": "execute_result"
    }
   ],
   "source": [
    "#watching the mean for a random cell\n",
    "build_k05[build_k05.cell_name_anon == 'cell-2196'].groupby('cell_name_anon')['percentile'].mean()[0]"
   ]
  },
  {
   "cell_type": "code",
   "execution_count": 43,
   "metadata": {},
   "outputs": [
    {
     "name": "stdout",
     "output_type": "stream",
     "text": [
      "-1.9341081126927429 -1.041255376105828 10.433927786966741\n"
     ]
    }
   ],
   "source": [
    "#calculate percentile drops for k=0.5\n",
    "row=0\n",
    "count=0\n",
    "pct_change_k05 = pd.DataFrame(columns = {'total','cell_name','count'})\n",
    "for cell in test_k05[test_k05['gt_mu+0.5sigma']==True].cell_name_anon.unique():\n",
    "    tmp = test_k05[test_k05.cell_name_anon==cell]\n",
    "    idx = list(tmp.index)\n",
    "    idx.pop()\n",
    "    instances = len(idx)\n",
    "    pct=[]\n",
    "    percentile = build_k05[build_k05.cell_name_anon == cell].groupby('cell_name_anon')['percentile'].mean()[0]\n",
    "    for i in idx:\n",
    "        pct.append(tmp.loc[i+1,'percentile']-percentile)\n",
    "        count+=1\n",
    "    #print(list((cell,float(np.std(pct)),float(np.median(pct)),float(np.mean(pct)),instances)))\n",
    "    pct_change_k05 = pct_change_k05.append({'total':np.mean(pct),'cell_name':cell,'count':count},ignore_index=True)\n",
    "    row+=1\n",
    "del(tmp,percentile,idx,pct)\n",
    "print(pct_change_k05['total'].mean(),pct_change_k05['total'].median(),pct_change_k05['total'].std())"
   ]
  },
  {
   "cell_type": "code",
   "execution_count": null,
   "metadata": {},
   "outputs": [],
   "source": []
  },
  {
   "cell_type": "code",
   "execution_count": 44,
   "metadata": {},
   "outputs": [
    {
     "name": "stdout",
     "output_type": "stream",
     "text": [
      "-3.71561441137312 -2.489029365460074 9.929107012370329\n"
     ]
    }
   ],
   "source": [
    "#calculate percentile drops for k=1\n",
    "row=0\n",
    "count=0\n",
    "pct_change_k1 = pd.DataFrame(columns = {'total','cell_name','count'})\n",
    "for cell in test_k1[test_k1['gt_mu+1sigma']==True].cell_name_anon.unique():\n",
    "    tmp = test_k1[test_k1.cell_name_anon==cell]\n",
    "    idx = list(tmp.index)\n",
    "    idx.pop()\n",
    "    instances = len(idx)\n",
    "    pct=[]\n",
    "    percentile = build_k1[build_k1.cell_name_anon == cell].groupby('cell_name_anon')['percentile'].mean()[0]\n",
    "    for i in idx:\n",
    "        pct.append(tmp.loc[i+1,'percentile']-percentile)\n",
    "        count+=1\n",
    "    #print(list((cell,float(np.std(pct)),float(np.median(pct)),float(np.mean(pct)),instances)))\n",
    "    pct_change_k1 = pct_change_k1.append({'total':np.mean(pct),'cell_name':cell,'count':count},ignore_index=True)\n",
    "    row+=1\n",
    "del(tmp,percentile,idx,pct)\n",
    "print(pct_change_k1['total'].mean(),pct_change_k1['total'].median(),pct_change_k1['total'].std())"
   ]
  },
  {
   "cell_type": "code",
   "execution_count": 45,
   "metadata": {},
   "outputs": [
    {
     "name": "stdout",
     "output_type": "stream",
     "text": [
      "-5.997428618046384 -4.696150696709157 9.736662780555775\n"
     ]
    }
   ],
   "source": [
    "#calculate percentile drops for k=1.5\n",
    "row=0\n",
    "count=0\n",
    "pct_change_k15 = pd.DataFrame(columns = {'total','cell_name','count'})\n",
    "for cell in test_k15[test_k15['gt_mu+1.5sigma']==True].cell_name_anon.unique():\n",
    "    tmp = test_k15[test_k15.cell_name_anon==cell]\n",
    "    idx = list(tmp.index)\n",
    "    idx.pop()\n",
    "    instances = len(idx)\n",
    "    pct=[]\n",
    "    percentile = build_k15[build_k15.cell_name_anon == cell].groupby('cell_name_anon')['percentile'].mean()[0]\n",
    "    for i in idx:\n",
    "        pct.append(tmp.loc[i+1,'percentile']-percentile)\n",
    "        count+=1\n",
    "    #print(list((cell,float(np.std(pct)),float(np.median(pct)),float(np.mean(pct)),instances)))\n",
    "    pct_change_k15 = pct_change_k15.append({'total':np.mean(pct),'cell_name':cell,'count':count},ignore_index=True)\n",
    "    row+=1\n",
    "del(tmp,percentile,idx,pct)\n",
    "print(pct_change_k15['total'].mean(),pct_change_k15['total'].median(),pct_change_k15['total'].std())"
   ]
  },
  {
   "cell_type": "code",
   "execution_count": 46,
   "metadata": {},
   "outputs": [
    {
     "name": "stdout",
     "output_type": "stream",
     "text": [
      "-8.194908246230083 -6.695891754450698 10.066289992724199\n"
     ]
    }
   ],
   "source": [
    "#calculate percentile drops for k=2\n",
    "row=0\n",
    "count=0\n",
    "pct_change_k2 = pd.DataFrame(columns = {'total','cell_name','count'})\n",
    "for cell in test_k2[test_k2['gt_mu+2sigma']==True].cell_name_anon.unique():\n",
    "    tmp = test_k2[test_k2.cell_name_anon==cell]\n",
    "    idx = list(tmp.index)\n",
    "    idx.pop()\n",
    "    instances = len(idx)\n",
    "    pct=[]\n",
    "    percentile = build_k2[build_k2.cell_name_anon == cell].groupby('cell_name_anon')['percentile'].mean()[0]\n",
    "    for i in idx:\n",
    "        pct.append(tmp.loc[i+1,'percentile']-percentile)\n",
    "        count+=1\n",
    "    #print(list((cell,float(np.std(pct)),float(np.median(pct)),float(np.mean(pct)),instances)))\n",
    "    pct_change_k2 = pct_change_k2.append({'total':np.mean(pct),'cell_name':cell,'count':count},ignore_index=True)\n",
    "    row+=1\n",
    "del(tmp,percentile,idx,pct)\n",
    "print(pct_change_k2['total'].mean(),pct_change_k2['total'].median(),pct_change_k2['total'].std())"
   ]
  },
  {
   "cell_type": "code",
   "execution_count": 47,
   "metadata": {},
   "outputs": [
    {
     "name": "stdout",
     "output_type": "stream",
     "text": [
      "-10.187203865137674 -8.798875416665815 10.193252365331523\n"
     ]
    }
   ],
   "source": [
    "#calculate percentile drops for k=2.5\n",
    "row=0\n",
    "count=0\n",
    "pct_change_k25 = pd.DataFrame(columns = {'total','cell_name','count'})\n",
    "for cell in test_k25[test_k25['gt_mu+2.5sigma']==True].cell_name_anon.unique():\n",
    "    tmp = test_k25[test_k25.cell_name_anon==cell]\n",
    "    idx = list(tmp.index)\n",
    "    idx.pop()\n",
    "    instances = len(idx)\n",
    "    pct=[]\n",
    "    percentile = build_k25[build_k25.cell_name_anon == cell].groupby('cell_name_anon')['percentile'].mean()[0]\n",
    "    for i in idx:\n",
    "        pct.append(tmp.loc[i+1,'percentile']-percentile)\n",
    "        count+=1\n",
    "    #print(list((cell,float(np.std(pct)),float(np.median(pct)),float(np.mean(pct)),instances)))\n",
    "    pct_change_k25 = pct_change_k25.append({'total':np.mean(pct),'cell_name':cell,'count':count},ignore_index=True)\n",
    "    row+=1\n",
    "del(tmp,percentile,idx,pct)\n",
    "print(pct_change_k25['total'].mean(),pct_change_k25['total'].median(),pct_change_k25['total'].std())"
   ]
  },
  {
   "cell_type": "code",
   "execution_count": 48,
   "metadata": {},
   "outputs": [
    {
     "name": "stdout",
     "output_type": "stream",
     "text": [
      "-11.8256950198448 -10.252550532279471 10.563673280174344\n"
     ]
    }
   ],
   "source": [
    "#calculate percentile drops for k=3\n",
    "row=0\n",
    "count=0\n",
    "pct_change_k3 = pd.DataFrame(columns = {'total','cell_name','count'})\n",
    "for cell in test_k3[test_k3['gt_mu+3sigma']==True].cell_name_anon.unique():\n",
    "    tmp = test_k3[test_k3.cell_name_anon==cell]\n",
    "    idx = list(tmp.index)\n",
    "    idx.pop()\n",
    "    instances = len(idx)\n",
    "    pct=[]\n",
    "    percentile = build_k3[build_k3.cell_name_anon == cell].groupby('cell_name_anon')['percentile'].mean()[0]\n",
    "    for i in idx:\n",
    "        pct.append(tmp.loc[i+1,'percentile']-percentile)\n",
    "        count+=1\n",
    "    #print(list((cell,float(np.std(pct)),float(np.median(pct)),float(np.mean(pct)),instances)))\n",
    "    pct_change_k3 = pct_change_k3.append({'total':np.mean(pct),'cell_name':cell,'count':count},ignore_index=True)\n",
    "    row+=1\n",
    "del(tmp,percentile,idx,pct)\n",
    "print(pct_change_k3['total'].mean(),pct_change_k3['total'].median(),pct_change_k3['total'].std())"
   ]
  },
  {
   "cell_type": "code",
   "execution_count": 49,
   "metadata": {},
   "outputs": [],
   "source": [
    "test_k05[['cell_name_anon','mean_score_90days','percentile','date','score_mean_good_days','score_std_90days','mu+0.5sigma','mu-0.5sigma']].to_csv(r'C:\\Users\\ezchave\\Desktop\\work_no\\cell ranking\\test_k05_feb.csv')\n",
    "test_k1[['cell_name_anon','mean_score_90days','percentile','date','score_mean_good_days','score_std_90days','mu+1sigma','mu-1sigma']].to_csv(r'C:\\Users\\ezchave\\Desktop\\work_no\\cell ranking\\test_k1_feb.csv')\n",
    "test_k15[['cell_name_anon','mean_score_90days','percentile','date','score_mean_good_days','score_std_90days','mu+1.5sigma','mu-1.5sigma']].to_csv(r'C:\\Users\\ezchave\\Desktop\\work_no\\cell ranking\\test_k15_feb.csv')\n",
    "test_k2[['cell_name_anon','mean_score_90days','percentile','date','score_mean_good_days','score_std_90days','mu+2sigma','mu-2sigma']].to_csv(r'C:\\Users\\ezchave\\Desktop\\work_no\\cell ranking\\test_k2_feb.csv')\n",
    "test_k25[['cell_name_anon','mean_score_90days','percentile','date','score_mean_good_days','score_std_90days','mu+2.5sigma','mu-2.5sigma']].to_csv(r'C:\\Users\\ezchave\\Desktop\\work_no\\cell ranking\\test_k25_feb.csv')\n",
    "test_k3[['cell_name_anon','mean_score_90days','percentile','date','score_mean_good_days','score_std_90days','mu+3sigma','mu-3sigma']].to_csv(r'C:\\Users\\ezchave\\Desktop\\work_no\\cell ranking\\test_k3_feb.csv')\n"
   ]
  },
  {
   "cell_type": "code",
   "execution_count": 50,
   "metadata": {},
   "outputs": [
    {
     "name": "stdout",
     "output_type": "stream",
     "text": [
      "(4922, 13)\n",
      "(2461, 13)\n"
     ]
    }
   ],
   "source": [
    "#making the changes dataFrame for the cells on the days having low performance\n",
    "test_k15.date = pd.to_datetime(test_k15.date)\n",
    "x = test_k15[test_k15['gt_mu+1.5sigma']==True][['cell_name_anon','date']]\n",
    "x.date = x.date - dt.timedelta(days=1)\n",
    "changes_df = test_k15[test_k15['gt_mu+1.5sigma']==True].append(pd.merge(test_k15,x,how='inner',on=['cell_name_anon','date']))\n",
    "changes_df.sort_values(by=['cell_name_anon','date'],inplace=True)\n",
    "changes_df.drop_duplicates(inplace = True)\n",
    "changes_df.reset_index(inplace=True,drop=True)\n",
    "index = list(changes_df.index)\n",
    "true_to_go = []\n",
    "index.pop()\n",
    "for i in index:\n",
    "    if(changes_df.loc[i,'gt_mu+1.5sigma'] == True) & (changes_df.loc[i+1,'gt_mu+1.5sigma'] == True):\n",
    "        true_to_go.append(i+1)\n",
    "changes_df.drop(true_to_go,axis=0,inplace=True)\n",
    "changes_df.sort_values(by=['cell_name_anon','date'],inplace=True)\n",
    "print(changes_df.shape)\n",
    "print(changes_df[changes_df['gt_mu+1.5sigma']==True].shape)\n",
    "del(true_to_go,x,i,index)"
   ]
  },
  {
   "cell_type": "code",
   "execution_count": 51,
   "metadata": {},
   "outputs": [],
   "source": [
    "features = ['call_count',\n",
    "'est_count_handover',\n",
    "'vsDataEUtranCellFDD..crsGain',\n",
    "'feature_HoOscCtrlUE',\n",
    "'feature_AdvancedDiffForResourceFairSch',\n",
    "'vsDataENodeBFunction..dlBbCapacityNet',\n",
    "'feature_Support18Cells',\n",
    "'vsDataEUtranCellFDD..qRxLevMin',\n",
    "'feature_MixedModeRadioLte',\n",
    "'vsDataENodeBFunction..ulBbCapacityNet',\n",
    "'feature_QuadAntUlPerfPkg',\n",
    "'vsDataEUtranCellFDD..pdcchTargetBlerVolte',\n",
    "'dotw',\n",
    "'vsDataEUtranCellFDD..lastSchedLinkAdaptEnabled',\n",
    "'feature_QuadAntDlPerfPkg4x4',\n",
    "'vsDataEUtranCellFDD..threshServingLow',\n",
    "'vsDataEUtranCellFDD..cellSubscriptionCapacity',\n",
    "'vsDataEUtranCellFDD..cellCapMinCellSubCap',\n",
    "'feature_QuadAntDlPerfPkg',\n",
    "'vsDataEUtranCellFDD..ulSrsEnable',\n",
    "'feature_PucchOverdimensioning',\n",
    "'feature_CrossDUCarrierAggregation',\n",
    "'vsDataENodeBFunction..caAwareMfbiIntraCellHo',\n",
    "'vsDataEUtranCellFDD..pZeroNominalPusch',\n",
    "'vsDataEUtranCellFDD..transmissionMode',\n",
    "'vsDataEUtranCellFDD..cellDownlinkCaCapacity',\n",
    "'feature_UlTrigInterFreqMob',\n",
    "'feature_VoLTEOptimizedCA',\n",
    "'vsDataEUtranCellFDD..puschPwrOffset64qam',\n",
    "'feature_Support24Cells',\n",
    "'feature_SrvccToUtran',\n",
    "'feature_CsfbForLimitedDualRadioUe',\n",
    "'feature_FourDlCarrierAggregation',\n",
    "'feature_FddTddSameENodeB',\n",
    "'vsDataEUtranCellFDD..ulConfigurableFrequencyStart',\n",
    "'feature_CarrierAggregationFddTdd',\n",
    "'qciProfile..tReorderingDl',\n",
    "'feature_RelInactiveUeAtHighLoadHo',\n",
    "'vsDataENodeBFunction..enabledUlTrigMeas',\n",
    "'feature_PdcchPowerBoost',\n",
    "'vsDataEUtranCellFDD..qQualMin',\n",
    "'vsDataENodeBFunction..mfbiSupport',\n",
    "'feature_ConfigurableScellPrio',\n",
    "'feature_UlSpectrumAnalyzer',\n",
    "'vsDataEUtranCellFDD..tReorderingAutoConfiguration',\n",
    "'vsDataEUtranCellFDD..additionalPlmnList_mcc_enc',\n",
    "'vsDataENodeBFunction..timeAndPhaseSynchCritical',\n",
    "'vsDataEUtranCellFDD..outOfCoverageSrTimerPeriodicity',\n",
    "'feature_MultiFreqBand',\n",
    "'qciProfile..dlMaxHARQTxQci','cell_name_anon','date']"
   ]
  },
  {
   "cell_type": "code",
   "execution_count": 52,
   "metadata": {},
   "outputs": [
    {
     "name": "stderr",
     "output_type": "stream",
     "text": [
      "C:\\Users\\ezchave\\AppData\\Local\\Continuum\\anaconda3\\lib\\site-packages\\IPython\\core\\interactiveshell.py:3057: DtypeWarning: Columns (257,258,297,308,309,314,315,325,328,331,343,344,345,347,352,359,372,373,400,402,416,423,445,446,447,456,457,469,475,480,495,501,503,509,511,514,516,517,521,523,524,525,526,527,538,551,552,586,592,612,613,629,630,631,647,648,649,667,671,672,673,685,694,695,703,704,708,709,710) have mixed types. Specify dtype option on import or set low_memory=False.\n",
      "  interactivity=interactivity, compiler=compiler, result=result)\n",
      "C:\\Users\\ezchave\\AppData\\Local\\Continuum\\anaconda3\\lib\\site-packages\\IPython\\core\\interactiveshell.py:3057: DtypeWarning: Columns (252,253,292,303,304,309,310,320,323,326,338,339,340,342,347,354,367,368,395,397,411,418,440,441,442,451,452,464,470,475,490,496,498,504,506,509,511,512,516,518,519,520,521,522,533,546,547,581,587,607,608,624,625,626,642,643,644,662,666,667,668,680,689,690,698,699,703,704,705) have mixed types. Specify dtype option on import or set low_memory=False.\n",
      "  interactivity=interactivity, compiler=compiler, result=result)\n"
     ]
    }
   ],
   "source": [
    "#taking the cm data to a table cm_data\n",
    "chunksize = 10 ** 7\n",
    "cm_data = pd.DataFrame()\n",
    "\n",
    "for chunk in pd.read_csv(r'C:\\Users\\ezchave\\Desktop\\New_data_rankprct\\band2100_dataset_A.csv', chunksize=chunksize):\n",
    "    #chunk = chunk[['features']]\n",
    "    chunk = chunk.reindex(columns = features)\n",
    "    cm_data = cm_data.append(chunk)\n",
    "    \n",
    "    \n",
    "for chunk in pd.read_csv(r'C:\\Users\\ezchave\\Desktop\\New_data_rankprct\\band2100_dataset_B.csv', chunksize=chunksize):\n",
    "    #chunk = chunk[['features']]\n",
    "    chunk = chunk.reindex(columns = features)\n",
    "    cm_data = cm_data.append(chunk)\n",
    "    \n",
    "del(chunk,chunksize)"
   ]
  },
  {
   "cell_type": "code",
   "execution_count": 53,
   "metadata": {},
   "outputs": [],
   "source": [
    "def get_deviation_df(test_k,cm_data,k):\n",
    "    #this is the function to get data only for the day of deviation and the day before\n",
    "    # and the inceident data of the same days\n",
    "    #test_k = test dataframe generated before\n",
    "    #cm_data is the dataframe of the cm counters\n",
    "    #k is the value of k in the test dataframe sent above\n",
    "    #test_k=test_k15.copy()\n",
    "    #k=1.5\n",
    "    test_k.date = pd.to_datetime(test_k.date)\n",
    "    x = test_k[test_k['gt_mu+'+str(k)+'sigma']==True][['cell_name_anon','date']]\n",
    "    y = x.copy()\n",
    "    x.date = x.date - dt.timedelta(days=1)\n",
    "    y=y.append(x)\n",
    "    y.reset_index(inplace=True)\n",
    "    changes_df = test_k[test_k['gt_mu+'+str(k)+'sigma']==True].append(pd.merge(test_k,x,how='inner',on=['cell_name_anon','date']))\n",
    "    changes_df.sort_values(by=['cell_name_anon','date'],inplace=True)\n",
    "    changes_df.drop_duplicates(inplace = True)\n",
    "    changes_df.reset_index(inplace=True,drop=True)\n",
    "    index = list(changes_df.index)\n",
    "    true_to_go = []\n",
    "    index.pop()\n",
    "    for i in index:\n",
    "        if(changes_df.loc[i,'gt_mu+'+str(k)+'sigma'] == True) & (changes_df.loc[i+1,'gt_mu+'+str(k)+'sigma'] == True):\n",
    "            true_to_go.append(i+1)\n",
    "    changes_df.drop(true_to_go,axis=0,inplace=True)\n",
    "    changes_df.sort_values(by=['cell_name_anon','date'],inplace=True)\n",
    "    #print(changes_df.shape)\n",
    "    #print(changes_df[changes_df['gt_mu+'+str(k)+'sigma']==True].shape)\n",
    "    #del(true_to_go,x,i,index)\n",
    "    cm_data.date = pd.to_datetime(cm_data.date)\n",
    "    changes_cm = pd.DataFrame()\n",
    "    changes_df = pd.merge(changes_df,df,on=['cell_name_anon','date'],how='inner')\n",
    "    #print(changes_df.shape)\n",
    "    changes_cm = pd.merge(changes_df[['cell_name_anon','date']],cm_data,on=['cell_name_anon','date'],how='left')\n",
    "    \n",
    "    #print('changes_cm shape : ',changes_cm.shape)\n",
    "    #print(changes_df.shape)\n",
    "    changes_df.drop(['band_x'],inplace=True,axis=1)\n",
    "    changes_df.rename(columns={'band_y':'band','call_count_y':'call_count','est_count_handover_y':'est_count_handover'},inplace=True)\n",
    "    changes_cm['unique'] = changes_cm['cell_name_anon'].astype(str) + changes_cm['date'].astype(str)\n",
    "    \n",
    "    to_go = []\n",
    "    i=0\n",
    "    while(i<(len(changes_cm.index)-1)):\n",
    "        date_today,cell_today = changes_cm.loc[i,['date','cell_name_anon']]\n",
    "        date_tomo,cell_tomo = changes_cm.loc[i+1,['date','cell_name_anon']]\n",
    "        date_today = date_today + dt.timedelta(days=1)\n",
    "        if(cell_today == cell_tomo):\n",
    "            if(date_today!=date_tomo):\n",
    "                to_go.append((date_today,i,changes_cm.loc[i,'cell_name_anon']))\n",
    "                i=i+1\n",
    "            else:\n",
    "                i=i+2\n",
    "        else:\n",
    "            i=i+1\n",
    "    for i in to_go :\n",
    "        changes_cm.drop(i[1],axis=0,inplace=True)\n",
    "    changes_cm.reset_index(inplace=True,drop=True)\n",
    "    changes_cm.index = changes_cm['unique'] \n",
    "    #print('changes_cm shape : ',changes_cm.shape)\n",
    "    changes_cm.drop(['cell_name_anon','date','unique'],inplace=True,axis=1)\n",
    "    changes_cm.reset_index(inplace=True)\n",
    "\n",
    "    #print('changes_cm shape : ',changes_cm.shape)\n",
    "    #changes_cm.index = changes_cm['unique'].values\n",
    "    #changes_cm.drop('unique',axis=1,inplace=True)\n",
    "    #print(changes_cm.head())\n",
    "    #del(test_k,cm_data,k)\n",
    "    return changes_cm,changes_df"
   ]
  },
  {
   "cell_type": "code",
   "execution_count": 54,
   "metadata": {},
   "outputs": [],
   "source": [
    "changes_cm,changes_df = get_deviation_df(test_k15,cm_data,1.5)\n",
    "changes_df.to_csv(r'C:\\Users\\ezchave\\Desktop\\work_no\\cell ranking\\changes_df_feb.csv')\n",
    "changes_cm.to_csv(r'C:\\Users\\ezchave\\Desktop\\work_no\\cell ranking\\changes_cm_feb.csv')"
   ]
  },
  {
   "cell_type": "code",
   "execution_count": 55,
   "metadata": {},
   "outputs": [],
   "source": [
    "def get_nr_deviations (test_k,cm_data,k):\n",
    "    cm,df=get_deviation_df(test_k,cm_data,k)\n",
    "    return cm.shape[0]/2\n",
    "    "
   ]
  },
  {
   "cell_type": "code",
   "execution_count": 56,
   "metadata": {
    "scrolled": true
   },
   "outputs": [
    {
     "name": "stdout",
     "output_type": "stream",
     "text": [
      "4537.0\n",
      "3596.5\n",
      "2415.5\n",
      "1524.0\n",
      "969.5\n",
      "650.0\n"
     ]
    }
   ],
   "source": [
    "#number of deviations for all values of k \n",
    "print(get_nr_deviations(test_k05,cm_data,0.5))\n",
    "print(get_nr_deviations(test_k1,cm_data,1))\n",
    "print(get_nr_deviations(test_k15,cm_data,1.5))\n",
    "print(get_nr_deviations(test_k2,cm_data,2))\n",
    "print(get_nr_deviations(test_k25,cm_data,2.5))\n",
    "print(get_nr_deviations(test_k3,cm_data,3))"
   ]
  },
  {
   "cell_type": "code",
   "execution_count": null,
   "metadata": {},
   "outputs": [],
   "source": []
  },
  {
   "cell_type": "code",
   "execution_count": null,
   "metadata": {},
   "outputs": [],
   "source": []
  }
 ],
 "metadata": {
  "kernelspec": {
   "display_name": "Python 3",
   "language": "python",
   "name": "python3"
  },
  "language_info": {
   "codemirror_mode": {
    "name": "ipython",
    "version": 3
   },
   "file_extension": ".py",
   "mimetype": "text/x-python",
   "name": "python",
   "nbconvert_exporter": "python",
   "pygments_lexer": "ipython3",
   "version": "3.7.3"
  }
 },
 "nbformat": 4,
 "nbformat_minor": 2
}
